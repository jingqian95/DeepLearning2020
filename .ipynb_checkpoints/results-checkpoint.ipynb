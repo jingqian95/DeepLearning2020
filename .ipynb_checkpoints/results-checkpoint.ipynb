{
 "cells": [
  {
   "cell_type": "code",
   "execution_count": 122,
   "metadata": {},
   "outputs": [],
   "source": [
    "import pandas as pd\n",
    "import numpy as np\n",
    "import matplotlib\n",
    "import matplotlib.pyplot as plt"
   ]
  },
  {
   "cell_type": "code",
   "execution_count": 223,
   "metadata": {},
   "outputs": [],
   "source": [
    "pred = pd.read_csv('/Users/mjin/Desktop/1008/Project/DeepLearning2020/saved/dl2020/dl2020_0430-162145_coef0/evaluation_result_best-efficientdet-d0_11970_val_132_133_0.05_0.1.csv')"
   ]
  },
  {
   "cell_type": "code",
   "execution_count": 224,
   "metadata": {},
   "outputs": [],
   "source": [
    "truth = pd.read_csv('datasets/dl2020/annotation_newfeat_2.csv')"
   ]
  },
  {
   "cell_type": "code",
   "execution_count": 225,
   "metadata": {},
   "outputs": [],
   "source": [
    "pred['x_pred'], pred['y_pred'], pred['w_pred'], pred['h_pred'] = [float(i.split(',')[0][1:]) for i in pred['bbox']], [float(i.split(',')[1]) for i in pred['bbox']], [float(i.split(',')[2]) for i in pred['bbox']], [float(i.split(',')[3][:-1]) for i in pred['bbox']]\n",
    "\n",
    "pred['w_original'] = pred['w_pred']/612*80\n",
    "pred['h_original'] = pred['h_pred']/768*80\n",
    "\n",
    "pred['x_ctr_original'] = pred['x_pred']/612*80 + pred['w_original']/2 - 40\n",
    "pred['y_ctr_original'] = 40 - pred['y_pred']/768*80 - pred['h_original']/2\n"
   ]
  },
  {
   "cell_type": "code",
   "execution_count": 245,
   "metadata": {
    "scrolled": false
   },
   "outputs": [
    {
     "name": "stderr",
     "output_type": "stream",
     "text": [
      "/Users/mjin/anaconda3/lib/python3.7/site-packages/ipykernel_launcher.py:1: UserWarning: Boolean Series key will be reindexed to match DataFrame index.\n",
      "  \"\"\"Entry point for launching an IPython kernel.\n"
     ]
    }
   ],
   "source": [
    "pred_sample = pred[pred['scene_id'] == 132][pred['sample_id'] == 100]"
   ]
  },
  {
   "cell_type": "code",
   "execution_count": 246,
   "metadata": {
    "scrolled": true
   },
   "outputs": [
    {
     "name": "stderr",
     "output_type": "stream",
     "text": [
      "/Users/mjin/anaconda3/lib/python3.7/site-packages/ipykernel_launcher.py:1: UserWarning: Boolean Series key will be reindexed to match DataFrame index.\n",
      "  \"\"\"Entry point for launching an IPython kernel.\n"
     ]
    }
   ],
   "source": [
    "truth_sample = truth[truth['scene'] == 132][truth['sample'] == 100]"
   ]
  },
  {
   "cell_type": "code",
   "execution_count": 247,
   "metadata": {},
   "outputs": [
    {
     "data": {
      "image/png": "[encoded data removed]",
      "text/plain": [
       "<Figure size 216x216 with 1 Axes>"
      ]
     },
     "metadata": {
      "needs_background": "light"
     },
     "output_type": "display_data"
    }
   ],
   "source": [
    "plt.figure(figsize = (3,3))\n",
    "plt.scatter(truth_sample['center_x'], truth_sample['center_y'])\n",
    "plt.xlim(-40, 40)\n",
    "plt.ylim(-40, 40)\n",
    "plt.grid()"
   ]
  },
  {
   "cell_type": "code",
   "execution_count": 248,
   "metadata": {},
   "outputs": [
    {
     "data": {
      "image/png": "[encoded data removed]",
      "text/plain": [
       "<Figure size 216x216 with 1 Axes>"
      ]
     },
     "metadata": {
      "needs_background": "light"
     },
     "output_type": "display_data"
    }
   ],
   "source": [
    "plt.figure(figsize = (3,3))\n",
    "plt.scatter(pred_sample['x_ctr_original'], pred_sample['y_ctr_original'])\n",
    "plt.xlim(-40, 40)\n",
    "plt.ylim(-40, 40)\n",
    "plt.grid()"
   ]
  },
  {
   "cell_type": "code",
   "execution_count": 249,
   "metadata": {},
   "outputs": [
    {
     "data": {
      "text/plain": [
       "(25283, 14)"
      ]
     },
     "execution_count": 249,
     "metadata": {},
     "output_type": "execute_result"
    }
   ],
   "source": [
    "pred.shape"
   ]
  },
  {
   "cell_type": "code",
   "execution_count": 250,
   "metadata": {},
   "outputs": [],
   "source": [
    "import torch"
   ]
  },
  {
   "cell_type": "code",
   "execution_count": 251,
   "metadata": {},
   "outputs": [],
   "source": [
    "def calc_iou(pred, truth):\n",
    "    # pred (x, y, w, h)\n",
    "    # truth (x, y, w, h)\n",
    "    \n",
    "    area_pred = pred[2]*pred[3]\n",
    "    area_truth = truth[2]*truth[3]\n",
    "    \n",
    "    inter_width = min(pred[0] + pred[2]/2, truth[0] + truth[2]/2) - max(pred[0] - pred[2]/2, truth[0] - truth[2]/2)\n",
    "    inter_height = min(pred[1] + pred[3]/2, truth[1] + truth[3]/2) - max(pred[1] - pred[3]/2, truth[1] - truth[3]/2)\n",
    "    \n",
    "    inter_width = max(inter_width,0)\n",
    "    inter_height = max(inter_height, 0)\n",
    "    \n",
    "    area_inter = inter_width*inter_height\n",
    "    area_union = area_pred + area_truth - area_inter\n",
    "    \n",
    "    IoU = area_inter / area_union\n",
    "\n",
    "    return IoU"
   ]
  },
  {
   "cell_type": "code",
   "execution_count": 252,
   "metadata": {},
   "outputs": [],
   "source": [
    "def calc_metric(truth_sample, pred_sample):\n",
    "    result_lst = []\n",
    "    truth_num = len(truth_sample)\n",
    "    pred_num = len(pred_sample)\n",
    "    \n",
    "    for iou in [0.5,0.6,0.7,0.8,0.9]:\n",
    "        pred_sample_copy = pred_sample.copy()\n",
    "        tp = 0\n",
    "        fp = 0\n",
    "        for row_t in truth_sample_copy.iterrows():\n",
    "            found = False\n",
    "            truth_box = [row_t[1]['center_x'], row_t[1]['center_y'], row_t[1]['box_width'], row_t[1]['box_height']]\n",
    "            for row_p in pred_sample.iterrows():\n",
    "                pred_box = [row_p[1]['x_ctr_original'], row_p[1]['y_ctr_original'], row_p[1]['w_original'], row_p[1]['h_original']]\n",
    "                if calc_iou(pred_box, truth_box) >= iou:\n",
    "                    found = True\n",
    "                    pred_sample_copy = pred_sample_copy.drop(row_p[0])\n",
    "            if found = True:\n",
    "                tp += 1\n",
    "        fp = len(pred_sample_copy)\n",
    "        result_lst.append(tp/(truth_num + fp))\n",
    "    \n",
    "    return result_lst, np.mean(result_lst)\n",
    "            \n",
    "            "
   ]
  },
  {
   "cell_type": "code",
   "execution_count": 253,
   "metadata": {},
   "outputs": [
    {
     "data": {
      "text/plain": [
       "([0.00641025641025641, 0.0, 0.0, 0.0, 0.0], 0.001282051282051282)"
      ]
     },
     "execution_count": 253,
     "metadata": {},
     "output_type": "execute_result"
    }
   ],
   "source": [
    "calc_metric(truth_sample, pred_sample)"
   ]
  },
  {
   "cell_type": "code",
   "execution_count": 254,
   "metadata": {},
   "outputs": [
    {
     "name": "stderr",
     "output_type": "stream",
     "text": [
      "/Users/mjin/anaconda3/lib/python3.7/site-packages/ipykernel_launcher.py:4: UserWarning: Boolean Series key will be reindexed to match DataFrame index.\n",
      "  after removing the cwd from sys.path.\n",
      "/Users/mjin/anaconda3/lib/python3.7/site-packages/ipykernel_launcher.py:5: UserWarning: Boolean Series key will be reindexed to match DataFrame index.\n",
      "  \"\"\"\n"
     ]
    },
    {
     "name": "stdout",
     "output_type": "stream",
     "text": [
      "0.002017502305289444\n"
     ]
    }
   ],
   "source": [
    "result = []\n",
    "for scene in [132]:\n",
    "    for sample in range(30):\n",
    "        pred_sample = pred[pred['scene_id'] == 132][pred['sample_id'] == sample]\n",
    "        truth_sample = truth[truth['scene'] == 132][truth['sample'] == sample]\n",
    "        \n",
    "        result.append(calc_metric(truth_sample, pred_sample)[1])\n",
    "        \n",
    "print(np.mean(result))"
   ]
  },
  {
   "cell_type": "code",
   "execution_count": null,
   "metadata": {},
   "outputs": [],
   "source": []
  },
  {
   "cell_type": "code",
   "execution_count": null,
   "metadata": {},
   "outputs": [],
   "source": []
  },
  {
   "cell_type": "code",
   "execution_count": null,
   "metadata": {},
   "outputs": [],
   "source": []
  },
  {
   "cell_type": "code",
   "execution_count": 256,
   "metadata": {},
   "outputs": [
    {
     "data": {
      "text/plain": [
       "(array([1.8110e+03, 3.2190e+03, 4.9056e+04, 3.8600e+03, 0.0000e+00,\n",
       "        9.5400e+02, 6.9100e+02, 9.0000e+01, 0.0000e+00, 3.4000e+01]),\n",
       " array([0. , 0.8, 1.6, 2.4, 3.2, 4. , 4.8, 5.6, 6.4, 7.2, 8. ]),\n",
       " <a list of 10 Patch objects>)"
      ]
     },
     "execution_count": 256,
     "metadata": {},
     "output_type": "execute_result"
    },
    {
     "data": {
      "image/png": "[encoded data removed]",
      "text/plain": [
       "<Figure size 432x288 with 1 Axes>"
      ]
     },
     "metadata": {
      "needs_background": "light"
     },
     "output_type": "display_data"
    }
   ],
   "source": [
    "plt.hist(truth.category_id)"
   ]
  },
  {
   "cell_type": "code",
   "execution_count": null,
   "metadata": {},
   "outputs": [],
   "source": []
  },
  {
   "cell_type": "code",
   "execution_count": null,
   "metadata": {},
   "outputs": [],
   "source": []
  },
  {
   "cell_type": "code",
   "execution_count": null,
   "metadata": {},
   "outputs": [],
   "source": []
  },
  {
   "cell_type": "code",
   "execution_count": null,
   "metadata": {},
   "outputs": [],
   "source": []
  },
  {
   "cell_type": "code",
   "execution_count": null,
   "metadata": {},
   "outputs": [],
   "source": []
  }
 ],
 "metadata": {
  "kernelspec": {
   "display_name": "Python 3",
   "language": "python",
   "name": "python3"
  },
  "language_info": {
   "codemirror_mode": {
    "name": "ipython",
    "version": 3
   },
   "file_extension": ".py",
   "mimetype": "text/x-python",
   "name": "python",
   "nbconvert_exporter": "python",
   "pygments_lexer": "ipython3",
   "version": "3.7.6"
  }
 },
 "nbformat": 4,
 "nbformat_minor": 4
}
