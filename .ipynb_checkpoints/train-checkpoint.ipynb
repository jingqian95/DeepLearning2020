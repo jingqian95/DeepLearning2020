{
 "cells": [
  {
   "cell_type": "code",
   "execution_count": 1,
   "metadata": {},
   "outputs": [],
   "source": [
    "# import sys\n",
    "\n",
    "# module_path = os.path.abspath(os.path.join('..'))\n",
    "# if module_path not in sys.path:\n",
    "#     sys.path.append(module_path)"
   ]
  },
  {
   "cell_type": "code",
   "execution_count": 2,
   "metadata": {},
   "outputs": [],
   "source": [
    "import datetime\n",
    "import argparse\n",
    "import traceback\n",
    "import os\n",
    "\n",
    "import torch\n",
    "import yaml\n",
    "from torch import nn\n",
    "from torch.utils.data import DataLoader\n",
    "from torchvision import transforms\n",
    "import torchvision\n",
    "import torch.nn.functional as F\n",
    "import pandas as pd\n",
    "\n",
    "from efficientdet.dataset import LabeledDataset, LabeledDataset_coco, Resizer, Normalizer, Augmenter, collater\n",
    "\n",
    "from backbone import EfficientDetBackbone\n",
    "from tensorboardX import SummaryWriter\n",
    "import numpy as np\n",
    "from tqdm.autonotebook import tqdm\n",
    "from efficientdet.loss import FocalLoss\n",
    "from efficientdet.utils import collate_fn_dl\n",
    "from utils.sync_batchnorm import patch_replication_callback\n",
    "from utils.utils import replace_w_sync_bn, CustomDataParallel, get_last_weights, init_weights"
   ]
  },
  {
   "cell_type": "code",
   "execution_count": 3,
   "metadata": {},
   "outputs": [],
   "source": [
    "class Params:\n",
    "    def __init__(self, project_file):\n",
    "        self.params = yaml.safe_load(open(project_file).read())\n",
    "\n",
    "    def __getattr__(self, item):\n",
    "        return self.params.get(item, None)\n",
    "\n",
    "\n",
    "def get_args():\n",
    "    parser = argparse.ArgumentParser('Yet Another EfficientDet Pytorch: SOTA object detection network - Zylo117')\n",
    "    parser.add_argument('-p', '--project', type=str, default='dl2020', help='project file that contains parameters')\n",
    "    parser.add_argument('-c', '--compound_coef', type=int, default=0, help='coefficients of efficientdet')\n",
    "    parser.add_argument('-n', '--num_workers', type=int, default=2, help='num_workers of dataloader')\n",
    "    parser.add_argument('--batch_size', type=int, default=3, help='The number of images per batch among all devices')\n",
    "    parser.add_argument('--head_only', type=bool, default=False,\n",
    "                        help='whether finetunes only the regressor and the classifier, '\n",
    "                             'useful in early stage convergence or small/easy dataset')\n",
    "    parser.add_argument('--lr', type=float, default=1e-4)\n",
    "    parser.add_argument('--optim', type=str, default='adamw', help='select optimizer for training, '\n",
    "                                                                   'suggest using \\'admaw\\' until the'\n",
    "                                                                   ' very final stage then switch to \\'sgd\\'')\n",
    "    parser.add_argument('--alpha', type=float, default=0.25)\n",
    "    parser.add_argument('--gamma', type=float, default=1.5)\n",
    "    parser.add_argument('--num_epochs', type=int, default=100)\n",
    "    parser.add_argument('--val_interval', type=int, default=1, help='Number of epoches between valing phases')\n",
    "    parser.add_argument('--save_interval', type=int, default=500, help='Number of steps between saving')\n",
    "    parser.add_argument('--es_min_delta', type=float, default=0.0,\n",
    "                        help='Early stopping\\'s parameter: minimum change loss to qualify as an improvement')\n",
    "    parser.add_argument('--es_patience', type=int, default=0,\n",
    "                        help='Early stopping\\'s parameter: number of epochs with no improvement after which training will be stopped. Set to 0 to disable this technique.')\n",
    "    parser.add_argument('--data_path', type=str, default='datasets/', help='the root folder of dataset')\n",
    "    parser.add_argument('--annotation', type=str, default='annotation.csv', help='annotation csv file name')\n",
    "    parser.add_argument('--log_path', type=str, default='logs/')\n",
    "    parser.add_argument('--load_weights', type=str, default=None,\n",
    "                        help='whether to load weights from a checkpoint, set None to initialize, set \\'last\\' to load last checkpoint')\n",
    "    parser.add_argument('--saved_path', type=str, default='saved/')\n",
    "    parser.add_argument('--debug', type=bool, default=False, help='whether visualize the predicted boxes of trainging, '\n",
    "                                                                  'the output images will be in test/')\n",
    "\n",
    "    args = parser.parse_args()\n",
    "    return args\n"
   ]
  },
  {
   "cell_type": "code",
   "execution_count": 4,
   "metadata": {},
   "outputs": [],
   "source": [
    "params = Params(f'projects/dl2020.yml')\n",
    "\n",
    "if params.num_gpus == 0:\n",
    "    os.environ['CUDA_VISIBLE_DEVICES'] = '-1'\n",
    "\n",
    "if torch.cuda.is_available():\n",
    "    torch.cuda.manual_seed(42)\n",
    "else:\n",
    "    torch.manual_seed(42)"
   ]
  },
  {
   "cell_type": "code",
   "execution_count": 5,
   "metadata": {},
   "outputs": [],
   "source": [
    "saved_path = 'saved/' + f'/{params.project_name}/'\n",
    "log_path = 'logs/' + f'/{params.project_name}/tensorboard/'\n",
    "os.makedirs(log_path, exist_ok=True)\n",
    "os.makedirs(saved_path, exist_ok=True)"
   ]
  },
  {
   "cell_type": "code",
   "execution_count": 6,
   "metadata": {},
   "outputs": [],
   "source": [
    "training_params = {'batch_size': 2,\n",
    "                   'shuffle': False,\n",
    "                   'drop_last': True,\n",
    "                   'collate_fn': collater,\n",
    "#                    'collate_fn': collate_fn_dl,\n",
    "                   'num_workers': 0}\n",
    "\n",
    "val_params = {'batch_size': 2,\n",
    "              'shuffle': False,\n",
    "              'drop_last': True,\n",
    "              'collate_fn': collater,\n",
    "#               'collate_fn': collate_fn_dl,\n",
    "              'num_workers': 2}"
   ]
  },
  {
   "cell_type": "markdown",
   "metadata": {},
   "source": [
    "# Try new data loader"
   ]
  },
  {
   "cell_type": "code",
   "execution_count": 7,
   "metadata": {},
   "outputs": [],
   "source": [
    "# train_scene_index = np.arange(106, 127)\n",
    "# val_scene_index = np.arange(128, 134)\n",
    "# input_sizes = [512, 640, 768, 896, 1024, 1280, 1280, 1536]\n",
    "\n",
    "# transform_dl = torchvision.transforms.ToTensor()\n",
    "\n",
    "# transform = transforms.Compose([Normalizer(mean=params.mean, std=params.std),\\\n",
    "#                                 Augmenter(),\\\n",
    "#                                 Resizer(input_sizes[0])])\n",
    "\n",
    "# training_set = LabeledDataset(image_folder = os.path.join('datasets/', params.project_name),\n",
    "#                                   annotation_file = os.path.join('datasets/', params.project_name, 'annotation.csv'),\n",
    "#                                   scene_index = train_scene_index,\n",
    "#                                   transform = transform_dl,\n",
    "# #                                   transform = transform,\n",
    "#                                   extra_info = True\n",
    "#                                   )\n",
    "\n",
    "# training_generator = DataLoader(training_set, **training_params)\n",
    "\n",
    "\n",
    "# val_set = LabeledDataset(image_folder = os.path.join('datasets/', params.project_name),\n",
    "#                                   annotation_file = os.path.join('datasets/', params.project_name, 'annotation.csv'),\n",
    "#                                   scene_index = val_scene_index,\n",
    "#                                   transform = transform_dl,\n",
    "#                                   extra_info = True\n",
    "#                                   )\n",
    "\n",
    "# val_generator = DataLoader(val_set, **val_params)\n"
   ]
  },
  {
   "cell_type": "code",
   "execution_count": 8,
   "metadata": {},
   "outputs": [],
   "source": [
    "train_scene_index = np.arange(106, 127)\n",
    "val_scene_index = np.arange(128, 134)\n",
    "input_sizes = [512, 640, 768, 896, 1024, 1280, 1280, 1536]\n",
    "\n",
    "transform = transforms.Compose([Normalizer(mean=params.mean, std=params.std),\\\n",
    "                                Augmenter(),\\\n",
    "                                Resizer(input_sizes[0])])\n",
    "\n",
    "training_set = LabeledDataset_coco(image_folder = os.path.join('datasets/', params.project_name),\n",
    "                                  annotation_file = os.path.join('datasets/', params.project_name, 'annotation_newfeat_3.csv'),\n",
    "                                  scene_index = train_scene_index,\n",
    "                                  transform = transform,\n",
    "                                  extra_info = True\n",
    "                                  )\n",
    "training_generator = DataLoader(training_set, **training_params)\n",
    "\n",
    "val_set = LabeledDataset_coco(image_folder = os.path.join('datasets/', params.project_name),\n",
    "                                  annotation_file = os.path.join('datasets/', params.project_name, 'annotation_newfeat_3.csv'),\n",
    "                                  scene_index = val_scene_index,\n",
    "                                  transform = transform,\n",
    "                                  extra_info = True\n",
    "                                  )\n",
    "\n",
    "val_generator = DataLoader(val_set, **val_params)\n",
    "\n"
   ]
  },
  {
   "cell_type": "code",
   "execution_count": 9,
   "metadata": {},
   "outputs": [],
   "source": [
    "# progress_bar = tqdm(training_generator)\n",
    "# for iter, data in enumerate(progress_bar):\n",
    "#     imgs = data['img']\n",
    "#     annot = data['annot']\n",
    "    \n",
    "#     break"
   ]
  },
  {
   "cell_type": "code",
   "execution_count": 10,
   "metadata": {},
   "outputs": [],
   "source": [
    "# import matplotlib\n",
    "# import matplotlib.pyplot as plt\n",
    "# matplotlib.rcParams['figure.figsize'] = [5, 5]\n",
    "# matplotlib.rcParams['figure.dpi'] = 200\n",
    "# # plt.figure(figsize=(3,18))\n",
    "# plt.imshow(torchvision.utils.make_grid(imgs[0], nrow=3).numpy().transpose(1, 2, 0))\n",
    "# plt.axis('off');"
   ]
  },
  {
   "cell_type": "code",
   "execution_count": 11,
   "metadata": {},
   "outputs": [],
   "source": [
    "model = EfficientDetBackbone(num_classes=len(params.obj_list), compound_coef = 0,\n",
    "                             ratios=eval(params.anchors_ratios), scales=eval(params.anchors_scales))"
   ]
  },
  {
   "cell_type": "code",
   "execution_count": 12,
   "metadata": {},
   "outputs": [
    {
     "name": "stdout",
     "output_type": "stream",
     "text": [
      "[Info] initializing weights...\n"
     ]
    }
   ],
   "source": [
    "load_weights = None\n",
    "if load_weights is not None:\n",
    "    if opt.load_weights.endswith('.pth'):\n",
    "        weights_path = opt.load_weights\n",
    "    else:\n",
    "        weights_path = get_last_weights(opt.saved_path)\n",
    "    try:\n",
    "        last_step = int(os.path.basename(weights_path).split('_')[-1].split('.')[0])\n",
    "    except:\n",
    "        last_step = 0\n",
    "\n",
    "    try:\n",
    "        ret = model.load_state_dict(torch.load(weights_path), strict=False)\n",
    "    except RuntimeError as e:\n",
    "        print(f'[Warning] Ignoring {e}')\n",
    "        print(\n",
    "            '[Warning] Don\\'t panic if you see this, this might be because you load a pretrained weights with different number of classes. The rest of the weights should be loaded already.')\n",
    "\n",
    "    print(f'[Info] loaded weights: {os.path.basename(weights_path)}, resuming checkpoint from step: {last_step}')\n",
    "else:\n",
    "    last_step = 0\n",
    "    print('[Info] initializing weights...')\n",
    "    init_weights(model)\n",
    "    \n",
    "    \n",
    "    \n",
    "    \n",
    "    "
   ]
  },
  {
   "cell_type": "code",
   "execution_count": 13,
   "metadata": {},
   "outputs": [],
   "source": [
    "# if opt.head_only:\n",
    "#     def freeze_backbone(m):\n",
    "#         classname = m.__class__.__name__\n",
    "#         for ntl in ['EfficientNet', 'BiFPN']:\n",
    "#             if ntl in classname:\n",
    "#                 for param in m.parameters():\n",
    "#                     param.requires_grad = False\n",
    "\n",
    "#     model.apply(freeze_backbone)\n",
    "#     print('[Info] freezed backbone')"
   ]
  },
  {
   "cell_type": "code",
   "execution_count": 14,
   "metadata": {},
   "outputs": [],
   "source": [
    "if params.num_gpus > 1 and 3 // params.num_gpus < 4:\n",
    "    model.apply(replace_w_sync_bn)\n",
    "    use_sync_bn = True\n",
    "else:\n",
    "    use_sync_bn = False"
   ]
  },
  {
   "cell_type": "code",
   "execution_count": 15,
   "metadata": {},
   "outputs": [],
   "source": [
    "writer = SummaryWriter(log_path + f'/{datetime.datetime.now().strftime(\"%Y%m%d-%H%M%S\")}/')"
   ]
  },
  {
   "cell_type": "code",
   "execution_count": 16,
   "metadata": {},
   "outputs": [],
   "source": [
    "class ModelWithLoss(nn.Module):\n",
    "    def __init__(self, model, debug=False):\n",
    "        super().__init__()\n",
    "        self.criterion = FocalLoss()\n",
    "        self.model = model\n",
    "        self.debug = debug\n",
    "\n",
    "    def forward(self, imgs, annotations, obj_list=None):\n",
    "        _, regression, classification, anchors = self.model(imgs)\n",
    "        if self.debug:\n",
    "            cls_loss, reg_loss = self.criterion(classification, regression, anchors, annotations,\n",
    "                                                imgs=imgs, obj_list=obj_list)\n",
    "        else:\n",
    "            cls_loss, reg_loss = self.criterion(classification, regression, anchors, annotations)\n",
    "        return cls_loss, reg_loss, regression, classification, anchors\n",
    "\n",
    "model = ModelWithLoss(model, debug= False)"
   ]
  },
  {
   "cell_type": "code",
   "execution_count": 17,
   "metadata": {},
   "outputs": [],
   "source": [
    "# if params.num_gpus > 0:\n",
    "#     model = model.cuda()\n",
    "#     if params.num_gpus > 1:\n",
    "#         model = CustomDataParallel(model, params.num_gpus)\n",
    "#         if use_sync_bn:\n",
    "#             patch_replication_callback(model)"
   ]
  },
  {
   "cell_type": "code",
   "execution_count": 18,
   "metadata": {},
   "outputs": [],
   "source": [
    "optim = 'adamw'\n",
    "if optim == 'adamw':\n",
    "    optimizer = torch.optim.AdamW(model.parameters(), 1e-4)\n",
    "else:\n",
    "    optimizer = torch.optim.SGD(model.parameters(), 1e-4, momentum=0.9, nesterov=True)"
   ]
  },
  {
   "cell_type": "code",
   "execution_count": 19,
   "metadata": {},
   "outputs": [],
   "source": [
    "scheduler = torch.optim.lr_scheduler.ReduceLROnPlateau(optimizer, patience=3, verbose=True)"
   ]
  },
  {
   "cell_type": "code",
   "execution_count": 20,
   "metadata": {},
   "outputs": [],
   "source": [
    "epoch = 0\n",
    "best_loss = 1e5\n",
    "best_epoch = 0\n",
    "step = max(0, last_step)\n",
    "model.train()\n",
    "\n",
    "num_iter_per_epoch = len(training_generator)"
   ]
  },
  {
   "cell_type": "code",
   "execution_count": 21,
   "metadata": {},
   "outputs": [],
   "source": [
    "def save_checkpoint(model, name):\n",
    "    if isinstance(model, CustomDataParallel):\n",
    "        torch.save(model.module.model.state_dict(), os.path.join('saved/', name))\n",
    "    else:\n",
    "        torch.save(model.model.state_dict(), os.path.join('saved/', name))"
   ]
  },
  {
   "cell_type": "code",
   "execution_count": 51,
   "metadata": {},
   "outputs": [
    {
     "data": {
      "application/vnd.jupyter.widget-view+json": {
       "model_id": "d9720608fded4f3fadc8471c5fb6f6eb",
       "version_major": 2,
       "version_minor": 0
      },
      "text/plain": [
       "HBox(children=(FloatProgress(value=0.0, max=1323.0), HTML(value='')))"
      ]
     },
     "metadata": {},
     "output_type": "display_data"
    },
    {
     "name": "stdout",
     "output_type": "stream",
     "text": [
      "tensor(102806.7266, grad_fn=<MeanBackward0>)\n",
      "tensor(0.1342, grad_fn=<MeanBackward0>)\n",
      "checkpoint...\n",
      "tensor(133167.6250, grad_fn=<MeanBackward0>)\n",
      "tensor(0.)\n",
      "checkpoint...\n",
      "tensor(67064.5078, grad_fn=<MeanBackward0>)\n",
      "tensor(1.6502, grad_fn=<MeanBackward0>)\n",
      "checkpoint...\n",
      "tensor(98313.4844, grad_fn=<MeanBackward0>)\n",
      "tensor(0.6136, grad_fn=<MeanBackward0>)\n"
     ]
    },
    {
     "ename": "KeyboardInterrupt",
     "evalue": "",
     "output_type": "error",
     "traceback": [
      "\u001b[0;31m---------------------------------------------------------------------------\u001b[0m",
      "\u001b[0;31mKeyboardInterrupt\u001b[0m                         Traceback (most recent call last)",
      "\u001b[0;32m<ipython-input-51-3c76478ffd53>\u001b[0m in \u001b[0;36m<module>\u001b[0;34m\u001b[0m\n\u001b[1;32m     50\u001b[0m \u001b[0;34m\u001b[0m\u001b[0m\n\u001b[1;32m     51\u001b[0m \u001b[0;34m\u001b[0m\u001b[0m\n\u001b[0;32m---> 52\u001b[0;31m         \u001b[0mloss\u001b[0m\u001b[0;34m.\u001b[0m\u001b[0mbackward\u001b[0m\u001b[0;34m(\u001b[0m\u001b[0;34m)\u001b[0m\u001b[0;34m\u001b[0m\u001b[0;34m\u001b[0m\u001b[0m\n\u001b[0m\u001b[1;32m     53\u001b[0m         \u001b[0;31m# torch.nn.utils.clip_grad_norm_(model.parameters(), 0.1)\u001b[0m\u001b[0;34m\u001b[0m\u001b[0;34m\u001b[0m\u001b[0;34m\u001b[0m\u001b[0m\n\u001b[1;32m     54\u001b[0m         \u001b[0moptimizer\u001b[0m\u001b[0;34m.\u001b[0m\u001b[0mstep\u001b[0m\u001b[0;34m(\u001b[0m\u001b[0;34m)\u001b[0m\u001b[0;34m\u001b[0m\u001b[0;34m\u001b[0m\u001b[0m\n",
      "\u001b[0;32m~/anaconda3/lib/python3.7/site-packages/torch/tensor.py\u001b[0m in \u001b[0;36mbackward\u001b[0;34m(self, gradient, retain_graph, create_graph)\u001b[0m\n\u001b[1;32m    193\u001b[0m                 \u001b[0mproducts\u001b[0m\u001b[0;34m.\u001b[0m \u001b[0mDefaults\u001b[0m \u001b[0mto\u001b[0m\u001b[0;31m \u001b[0m\u001b[0;31m`\u001b[0m\u001b[0;31m`\u001b[0m\u001b[0;32mFalse\u001b[0m\u001b[0;31m`\u001b[0m\u001b[0;31m`\u001b[0m\u001b[0;34m.\u001b[0m\u001b[0;34m\u001b[0m\u001b[0;34m\u001b[0m\u001b[0m\n\u001b[1;32m    194\u001b[0m         \"\"\"\n\u001b[0;32m--> 195\u001b[0;31m         \u001b[0mtorch\u001b[0m\u001b[0;34m.\u001b[0m\u001b[0mautograd\u001b[0m\u001b[0;34m.\u001b[0m\u001b[0mbackward\u001b[0m\u001b[0;34m(\u001b[0m\u001b[0mself\u001b[0m\u001b[0;34m,\u001b[0m \u001b[0mgradient\u001b[0m\u001b[0;34m,\u001b[0m \u001b[0mretain_graph\u001b[0m\u001b[0;34m,\u001b[0m \u001b[0mcreate_graph\u001b[0m\u001b[0;34m)\u001b[0m\u001b[0;34m\u001b[0m\u001b[0;34m\u001b[0m\u001b[0m\n\u001b[0m\u001b[1;32m    196\u001b[0m \u001b[0;34m\u001b[0m\u001b[0m\n\u001b[1;32m    197\u001b[0m     \u001b[0;32mdef\u001b[0m \u001b[0mregister_hook\u001b[0m\u001b[0;34m(\u001b[0m\u001b[0mself\u001b[0m\u001b[0;34m,\u001b[0m \u001b[0mhook\u001b[0m\u001b[0;34m)\u001b[0m\u001b[0;34m:\u001b[0m\u001b[0;34m\u001b[0m\u001b[0;34m\u001b[0m\u001b[0m\n",
      "\u001b[0;32m~/anaconda3/lib/python3.7/site-packages/torch/autograd/__init__.py\u001b[0m in \u001b[0;36mbackward\u001b[0;34m(tensors, grad_tensors, retain_graph, create_graph, grad_variables)\u001b[0m\n\u001b[1;32m     97\u001b[0m     Variable._execution_engine.run_backward(\n\u001b[1;32m     98\u001b[0m         \u001b[0mtensors\u001b[0m\u001b[0;34m,\u001b[0m \u001b[0mgrad_tensors\u001b[0m\u001b[0;34m,\u001b[0m \u001b[0mretain_graph\u001b[0m\u001b[0;34m,\u001b[0m \u001b[0mcreate_graph\u001b[0m\u001b[0;34m,\u001b[0m\u001b[0;34m\u001b[0m\u001b[0;34m\u001b[0m\u001b[0m\n\u001b[0;32m---> 99\u001b[0;31m         allow_unreachable=True)  # allow_unreachable flag\n\u001b[0m\u001b[1;32m    100\u001b[0m \u001b[0;34m\u001b[0m\u001b[0m\n\u001b[1;32m    101\u001b[0m \u001b[0;34m\u001b[0m\u001b[0m\n",
      "\u001b[0;31mKeyboardInterrupt\u001b[0m: "
     ]
    }
   ],
   "source": [
    "for epoch in range(10):\n",
    "    last_epoch = step // num_iter_per_epoch\n",
    "    if epoch < last_epoch:\n",
    "        continue\n",
    "\n",
    "\n",
    "    epoch_loss = []\n",
    "    progress_bar = tqdm(training_generator)\n",
    "    for iter, data in enumerate(progress_bar):\n",
    "        if iter < step - last_epoch * num_iter_per_epoch:\n",
    "            progress_bar.update()\n",
    "            continue\n",
    "            \n",
    "        imgs = data['bev_img']\n",
    "        annot = data['bev_annot']\n",
    "\n",
    "#         sample_cat, sample, target, road_image, extra = data     \n",
    "#         sample_cat = torch.stack(sample_cat)\n",
    "\n",
    "        if params.num_gpus == 1:\n",
    "            # if only one gpu, just send it to cuda:0\n",
    "            # elif multiple gpus, send it to multiple gpus in CustomDataParallel, not here\n",
    "            imgs = imgs.cuda()\n",
    "            annot = annot.cuda()\n",
    "            \n",
    "            \n",
    "        optimizer.zero_grad()\n",
    "        \n",
    "        \n",
    "        \n",
    "#         criterion = FocalLoss()\n",
    "#         _, regression, classification, anchors = model(imgs)\n",
    "#         cls_loss, reg_loss = criterion(classification, regression, anchors, annot)\n",
    "\n",
    "        \n",
    "        cls_loss, reg_loss, regression, classification, anchors = model(imgs, annot, obj_list=params.obj_list)\n",
    "#         cls_loss, reg_loss = model(imgs, target, obj_list=params.obj_list)\n",
    "\n",
    "\n",
    "        cls_loss = cls_loss.mean()\n",
    "        reg_loss = reg_loss.mean()\n",
    "\n",
    "\n",
    "        print(cls_loss)\n",
    "        print(reg_loss)\n",
    "\n",
    "        loss = cls_loss + reg_loss\n",
    "        if loss == 0 or not torch.isfinite(loss):\n",
    "            continue\n",
    "            \n",
    "            \n",
    "        loss.backward()\n",
    "        # torch.nn.utils.clip_grad_norm_(model.parameters(), 0.1)\n",
    "        optimizer.step()\n",
    "\n",
    "        epoch_loss.append(float(loss))\n",
    "\n",
    "        progress_bar.set_description(\n",
    "            'Step: {}. Epoch: {}/{}. Iteration: {}/{}. Cls loss: {:.5f}. Reg loss: {:.5f}. Total loss: {:.5f}'.format(\n",
    "                step, epoch, 10, iter + 1, num_iter_per_epoch, cls_loss.item(),\n",
    "                reg_loss.item(), loss.item()))\n",
    "        writer.add_scalars('Loss', {'train': loss}, step)\n",
    "        writer.add_scalars('Regression_loss', {'train': reg_loss}, step)\n",
    "        writer.add_scalars('Classfication_loss', {'train': cls_loss}, step)\n",
    "\n",
    "        \n",
    "        # log learning_rate\n",
    "        current_lr = optimizer.param_groups[0]['lr']\n",
    "        writer.add_scalar('learning_rate', current_lr, step)\n",
    "\n",
    "        step += 1\n",
    "\n",
    "        if step % 1 == 0 and step > 0:\n",
    "            save_checkpoint(model, f'efficientdet-d{0}_{epoch}_{step}.pth')\n",
    "            print('checkpoint...')\n",
    "            \n",
    "            \n",
    "    \n",
    "#         break\n",
    "    \n",
    "#     break\n",
    "    scheduler.step(np.mean(epoch_loss))"
   ]
  },
  {
   "cell_type": "code",
   "execution_count": 23,
   "metadata": {},
   "outputs": [],
   "source": [
    "# if epoch % opt.val_interval == 0:\n",
    "#     model.eval()\n",
    "#     loss_regression_ls = []\n",
    "#     loss_classification_ls = []\n",
    "#     for iter, data in enumerate(val_generator):\n",
    "#         with torch.no_grad():\n",
    "#             imgs = data['img']\n",
    "#             annot = data['annot']\n",
    "\n",
    "#             if params.num_gpus == 1:\n",
    "#                 imgs = imgs.cuda()\n",
    "#                 annot = annot.cuda()\n",
    "\n",
    "#             cls_loss, reg_loss, regression, classification, anchors = model(imgs, annot, obj_list=params.obj_list)\n",
    "#             cls_loss = cls_loss.mean()\n",
    "#             reg_loss = reg_loss.mean()\n",
    "\n",
    "#             loss = cls_loss + reg_loss\n",
    "#             if loss == 0 or not torch.isfinite(loss):\n",
    "#                 continue\n",
    "\n",
    "#             loss_classification_ls.append(cls_loss.item())\n",
    "#             loss_regression_ls.append(reg_loss.item())\n",
    "\n",
    "#     cls_loss = np.mean(loss_classification_ls)\n",
    "#     reg_loss = np.mean(loss_regression_ls)\n",
    "#     loss = cls_loss + reg_loss\n",
    "\n",
    "#     print(\n",
    "#         'Val. Epoch: {}/{}. Classification loss: {:1.5f}. Regression loss: {:1.5f}. Total loss: {:1.5f}'.format(\n",
    "#             epoch, opt.num_epochs, cls_loss, reg_loss, loss))\n",
    "#     writer.add_scalars('Total_loss', {'val': loss}, step)\n",
    "#     writer.add_scalars('Regression_loss', {'val': reg_loss}, step)\n",
    "#     writer.add_scalars('Classfication_loss', {'val': cls_loss}, step)\n",
    "\n",
    "#     if loss + opt.es_min_delta < best_loss:\n",
    "#         best_loss = loss\n",
    "#         best_epoch = epoch\n",
    "\n",
    "#         save_checkpoint(model, f'efficientdet-d{opt.compound_coef}_{epoch}_{step}.pth')\n",
    "\n",
    "#     model.train()"
   ]
  },
  {
   "cell_type": "code",
   "execution_count": null,
   "metadata": {},
   "outputs": [],
   "source": []
  },
  {
   "cell_type": "code",
   "execution_count": null,
   "metadata": {},
   "outputs": [],
   "source": []
  },
  {
   "cell_type": "code",
   "execution_count": null,
   "metadata": {},
   "outputs": [],
   "source": []
  },
  {
   "cell_type": "code",
   "execution_count": null,
   "metadata": {},
   "outputs": [],
   "source": []
  },
  {
   "cell_type": "code",
   "execution_count": 24,
   "metadata": {},
   "outputs": [
    {
     "data": {
      "text/plain": [
       "torch.Size([2, 54560, 4])"
      ]
     },
     "execution_count": 24,
     "metadata": {},
     "output_type": "execute_result"
    }
   ],
   "source": [
    "regression.shape"
   ]
  },
  {
   "cell_type": "code",
   "execution_count": 25,
   "metadata": {},
   "outputs": [
    {
     "data": {
      "text/plain": [
       "torch.Size([2, 54560, 9])"
      ]
     },
     "execution_count": 25,
     "metadata": {},
     "output_type": "execute_result"
    }
   ],
   "source": [
    "classification.shape"
   ]
  },
  {
   "cell_type": "code",
   "execution_count": 26,
   "metadata": {},
   "outputs": [
    {
     "data": {
      "text/plain": [
       "torch.Size([1, 54560, 4])"
      ]
     },
     "execution_count": 26,
     "metadata": {},
     "output_type": "execute_result"
    }
   ],
   "source": [
    "anchors.shape"
   ]
  },
  {
   "cell_type": "code",
   "execution_count": 27,
   "metadata": {},
   "outputs": [
    {
     "data": {
      "text/plain": [
       "tensor([[[  0.0000,   0.0000,   8.0000,   8.0000],\n",
       "         [  1.2000,  -1.6000,   6.8000,   9.6000],\n",
       "         [ -1.6000,   1.2000,   9.6000,   6.8000],\n",
       "         ...,\n",
       "         [403.2000, 425.6000, 492.8000, 470.4000],\n",
       "         [427.8400, 397.6000, 468.1600, 498.4000],\n",
       "         [397.6000, 427.8400, 498.4000, 468.1600]]])"
      ]
     },
     "execution_count": 27,
     "metadata": {},
     "output_type": "execute_result"
    }
   ],
   "source": [
    "anchors\n",
    "# y1, y2, x1, x2"
   ]
  },
  {
   "cell_type": "code",
   "execution_count": 28,
   "metadata": {},
   "outputs": [],
   "source": [
    "annots = pd.read_csv('datasets/dl2020/annotation_newfeat_2.csv')"
   ]
  },
  {
   "cell_type": "code",
   "execution_count": 29,
   "metadata": {},
   "outputs": [],
   "source": [
    "true_boxes = annots.loc[:, ['scaled_x', 'scaled_y', 'scaled_box_width', 'scaled_box_height']]"
   ]
  },
  {
   "cell_type": "code",
   "execution_count": 30,
   "metadata": {},
   "outputs": [],
   "source": [
    "true_boxes = true_boxes.rename(columns = {'scaled_x':'x1', 'scaled_y':'y1'})"
   ]
  },
  {
   "cell_type": "code",
   "execution_count": 31,
   "metadata": {},
   "outputs": [],
   "source": [
    "true_boxes['x2'] = true_boxes['x1'] + true_boxes['scaled_box_width']\n",
    "true_boxes['y2'] = true_boxes['y1'] + true_boxes['scaled_box_height']"
   ]
  },
  {
   "cell_type": "code",
   "execution_count": 32,
   "metadata": {},
   "outputs": [
    {
     "data": {
      "text/html": [
       "<div>\n",
       "<style scoped>\n",
       "    .dataframe tbody tr th:only-of-type {\n",
       "        vertical-align: middle;\n",
       "    }\n",
       "\n",
       "    .dataframe tbody tr th {\n",
       "        vertical-align: top;\n",
       "    }\n",
       "\n",
       "    .dataframe thead th {\n",
       "        text-align: right;\n",
       "    }\n",
       "</style>\n",
       "<table border=\"1\" class=\"dataframe\">\n",
       "  <thead>\n",
       "    <tr style=\"text-align: right;\">\n",
       "      <th></th>\n",
       "      <th>x1</th>\n",
       "      <th>y1</th>\n",
       "      <th>scaled_box_width</th>\n",
       "      <th>scaled_box_height</th>\n",
       "      <th>x2</th>\n",
       "      <th>y2</th>\n",
       "    </tr>\n",
       "  </thead>\n",
       "  <tbody>\n",
       "    <tr>\n",
       "      <th>0</th>\n",
       "      <td>196.707221</td>\n",
       "      <td>180.733722</td>\n",
       "      <td>35.114737</td>\n",
       "      <td>18.424762</td>\n",
       "      <td>231.821958</td>\n",
       "      <td>199.158484</td>\n",
       "    </tr>\n",
       "    <tr>\n",
       "      <th>1</th>\n",
       "      <td>260.842884</td>\n",
       "      <td>86.143868</td>\n",
       "      <td>34.572071</td>\n",
       "      <td>23.275205</td>\n",
       "      <td>295.414955</td>\n",
       "      <td>109.419073</td>\n",
       "    </tr>\n",
       "    <tr>\n",
       "      <th>2</th>\n",
       "      <td>583.571009</td>\n",
       "      <td>567.618014</td>\n",
       "      <td>7.775271</td>\n",
       "      <td>10.620019</td>\n",
       "      <td>591.346280</td>\n",
       "      <td>578.238033</td>\n",
       "    </tr>\n",
       "    <tr>\n",
       "      <th>3</th>\n",
       "      <td>285.006699</td>\n",
       "      <td>305.930750</td>\n",
       "      <td>36.208618</td>\n",
       "      <td>18.436969</td>\n",
       "      <td>321.215317</td>\n",
       "      <td>324.367718</td>\n",
       "    </tr>\n",
       "    <tr>\n",
       "      <th>4</th>\n",
       "      <td>568.659812</td>\n",
       "      <td>333.241961</td>\n",
       "      <td>36.208618</td>\n",
       "      <td>18.436969</td>\n",
       "      <td>604.868430</td>\n",
       "      <td>351.678930</td>\n",
       "    </tr>\n",
       "  </tbody>\n",
       "</table>\n",
       "</div>"
      ],
      "text/plain": [
       "           x1          y1  scaled_box_width  scaled_box_height          x2  \\\n",
       "0  196.707221  180.733722         35.114737          18.424762  231.821958   \n",
       "1  260.842884   86.143868         34.572071          23.275205  295.414955   \n",
       "2  583.571009  567.618014          7.775271          10.620019  591.346280   \n",
       "3  285.006699  305.930750         36.208618          18.436969  321.215317   \n",
       "4  568.659812  333.241961         36.208618          18.436969  604.868430   \n",
       "\n",
       "           y2  \n",
       "0  199.158484  \n",
       "1  109.419073  \n",
       "2  578.238033  \n",
       "3  324.367718  \n",
       "4  351.678930  "
      ]
     },
     "execution_count": 32,
     "metadata": {},
     "output_type": "execute_result"
    }
   ],
   "source": [
    "true_boxes.head()"
   ]
  },
  {
   "cell_type": "code",
   "execution_count": 33,
   "metadata": {},
   "outputs": [],
   "source": [
    "import matplotlib\n",
    "import matplotlib.pyplot as plt\n",
    "# matplotlib.rcParams['figure.figsize'] = [5, 5]\n",
    "# matplotlib.rcParams['figure.dpi'] = 200"
   ]
  },
  {
   "cell_type": "code",
   "execution_count": 34,
   "metadata": {},
   "outputs": [
    {
     "data": {
      "text/plain": [
       "(array([2.3220e+03, 3.1620e+03, 1.4700e+04, 2.4554e+04, 3.7430e+03,\n",
       "        1.0900e+03, 7.1600e+02, 3.3720e+03, 4.2030e+03, 1.2510e+03,\n",
       "        3.2600e+02, 5.8000e+01, 1.0000e+01, 4.0000e+00, 3.1000e+01,\n",
       "        2.6000e+01, 4.0000e+00, 7.0000e+00, 1.5000e+01, 1.2000e+01,\n",
       "        5.0000e+00, 2.5000e+01, 2.9000e+01, 0.0000e+00, 3.6000e+01,\n",
       "        0.0000e+00, 0.0000e+00, 0.0000e+00, 0.0000e+00, 1.4000e+01]),\n",
       " array([  2.40898868,   7.79459909,  13.1802095 ,  18.56581991,\n",
       "         23.95143033,  29.33704074,  34.72265115,  40.10826157,\n",
       "         45.49387198,  50.87948239,  56.26509281,  61.65070322,\n",
       "         67.03631363,  72.42192404,  77.80753446,  83.19314487,\n",
       "         88.57875528,  93.9643657 ,  99.34997611, 104.73558652,\n",
       "        110.12119694, 115.50680735, 120.89241776, 126.27802817,\n",
       "        131.66363859, 137.049249  , 142.43485941, 147.82046983,\n",
       "        153.20608024, 158.59169065, 163.97730107]),\n",
       " <a list of 30 Patch objects>)"
      ]
     },
     "execution_count": 34,
     "metadata": {},
     "output_type": "execute_result"
    },
    {
     "data": {
      "image/png": "[encoded data removed]",
      "text/plain": [
       "<Figure size 360x360 with 1 Axes>"
      ]
     },
     "metadata": {
      "needs_background": "light"
     },
     "output_type": "display_data"
    }
   ],
   "source": [
    "plt.figure(figsize = (5,5))\n",
    "plt.hist(true_boxes.scaled_box_height, bins = 30, rwidth = 0.5)"
   ]
  },
  {
   "cell_type": "code",
   "execution_count": 35,
   "metadata": {},
   "outputs": [
    {
     "data": {
      "text/plain": [
       "(0, 160)"
      ]
     },
     "execution_count": 35,
     "metadata": {},
     "output_type": "execute_result"
    },
    {
     "data": {
      "image/png": "[encoded data removed]",
      "text/plain": [
       "<Figure size 360x360 with 1 Axes>"
      ]
     },
     "metadata": {
      "needs_background": "light"
     },
     "output_type": "display_data"
    }
   ],
   "source": [
    "plt.figure(figsize = (5,5))\n",
    "plt.hist(anchors[0, :, 2] - anchors[0, :, 0], bins = 100, rwidth = 0.5)\n",
    "plt.xlim(0, 160)"
   ]
  },
  {
   "cell_type": "code",
   "execution_count": 36,
   "metadata": {},
   "outputs": [
    {
     "data": {
      "text/plain": [
       "12"
      ]
     },
     "execution_count": 36,
     "metadata": {},
     "output_type": "execute_result"
    }
   ],
   "source": [
    "sum(true_boxes.scaled_box_width < 2.5)"
   ]
  },
  {
   "cell_type": "code",
   "execution_count": 37,
   "metadata": {},
   "outputs": [
    {
     "data": {
      "text/plain": [
       "tensor(128)"
      ]
     },
     "execution_count": 37,
     "metadata": {},
     "output_type": "execute_result"
    }
   ],
   "source": [
    "sum(anchors[0, :, 2] - anchors[0, :, 0] > 100)"
   ]
  },
  {
   "cell_type": "code",
   "execution_count": 38,
   "metadata": {},
   "outputs": [
    {
     "data": {
      "text/plain": [
       "135"
      ]
     },
     "execution_count": 38,
     "metadata": {},
     "output_type": "execute_result"
    }
   ],
   "source": [
    "sum(true_boxes.scaled_box_height > 100)"
   ]
  },
  {
   "cell_type": "code",
   "execution_count": 39,
   "metadata": {},
   "outputs": [
    {
     "data": {
      "text/plain": [
       "<matplotlib.collections.PathCollection at 0x1323d2410>"
      ]
     },
     "execution_count": 39,
     "metadata": {},
     "output_type": "execute_result"
    },
    {
     "data": {
      "image/png": "[encoded data removed]",
      "text/plain": [
       "<Figure size 432x288 with 1 Axes>"
      ]
     },
     "metadata": {
      "needs_background": "light"
     },
     "output_type": "display_data"
    }
   ],
   "source": [
    "plt.scatter(anchors[0, :, 1], anchors[0, :, 0])"
   ]
  },
  {
   "cell_type": "code",
   "execution_count": 40,
   "metadata": {},
   "outputs": [
    {
     "data": {
      "text/plain": [
       "<matplotlib.collections.PathCollection at 0x13e90f710>"
      ]
     },
     "execution_count": 40,
     "metadata": {},
     "output_type": "execute_result"
    },
    {
     "data": {
      "image/png": "[encoded data removed]",
      "text/plain": [
       "<Figure size 432x288 with 1 Axes>"
      ]
     },
     "metadata": {
      "needs_background": "light"
     },
     "output_type": "display_data"
    }
   ],
   "source": [
    "plt.scatter(true_boxes.x1, true_boxes.y1)"
   ]
  },
  {
   "cell_type": "code",
   "execution_count": 41,
   "metadata": {},
   "outputs": [
    {
     "data": {
      "text/plain": [
       "{'img': tensor([[[[-1.4308, -1.3698, -1.6609,  ...,  0.0000,  0.0000,  0.0000],\n",
       "           [-1.5432, -1.3088, -1.5710,  ...,  0.0000,  0.0000,  0.0000],\n",
       "           [-1.7711, -1.6973, -1.7476,  ...,  0.0000,  0.0000,  0.0000],\n",
       "           ...,\n",
       "           [ 0.0923,  0.1276,  0.2036,  ...,  0.0000,  0.0000,  0.0000],\n",
       "           [ 0.3695,  0.5140,  0.6745,  ...,  0.0000,  0.0000,  0.0000],\n",
       "           [ 1.0373,  1.1722,  1.2557,  ...,  0.0000,  0.0000,  0.0000]],\n",
       " \n",
       "          [[-1.4558, -1.3672, -1.6254,  ...,  0.0000,  0.0000,  0.0000],\n",
       "           [-1.5707, -1.3048, -1.5335,  ...,  0.0000,  0.0000,  0.0000],\n",
       "           [-1.7950, -1.6998, -1.7140,  ...,  0.0000,  0.0000,  0.0000],\n",
       "           ...,\n",
       "           [ 0.9241,  0.9438,  1.0269,  ...,  0.0000,  0.0000,  0.0000],\n",
       "           [ 1.3037,  1.4285,  1.5806,  ...,  0.0000,  0.0000,  0.0000],\n",
       "           [ 2.0522,  2.1671,  2.2502,  ...,  0.0000,  0.0000,  0.0000]],\n",
       " \n",
       "          [[-1.0920, -1.0299, -1.4003,  ...,  0.0000,  0.0000,  0.0000],\n",
       "           [-1.2064, -0.9678, -1.3088,  ...,  0.0000,  0.0000,  0.0000],\n",
       "           [-1.4373, -1.3883, -1.4885,  ...,  0.0000,  0.0000,  0.0000],\n",
       "           ...,\n",
       "           [ 2.5387,  2.5256,  2.5071,  ...,  0.0000,  0.0000,  0.0000],\n",
       "           [ 2.4047,  2.4766,  2.5507,  ...,  0.0000,  0.0000,  0.0000],\n",
       "           [ 2.5289,  2.6008,  2.6291,  ...,  0.0000,  0.0000,  0.0000]]],\n",
       " \n",
       " \n",
       "         [[[-1.8225, -1.7808, -1.7679,  ...,  0.0000,  0.0000,  0.0000],\n",
       "           [-1.9060, -1.9124, -1.8482,  ...,  0.0000,  0.0000,  0.0000],\n",
       "           [-1.6876, -1.7904, -1.9178,  ...,  0.0000,  0.0000,  0.0000],\n",
       "           ...,\n",
       "           [ 1.8411,  1.8829,  1.9139,  ...,  0.0000,  0.0000,  0.0000],\n",
       "           [ 2.0209,  2.0530,  2.1001,  ...,  0.0000,  0.0000,  0.0000],\n",
       "           [ 2.1975,  2.2007,  2.2093,  ...,  0.0000,  0.0000,  0.0000]],\n",
       " \n",
       "          [[-1.7162, -1.6867, -1.6779,  ...,  0.0000,  0.0000,  0.0000],\n",
       "           [-1.8016, -1.8213, -1.7600,  ...,  0.0000,  0.0000,  0.0000],\n",
       "           [-1.5783, -1.6965, -1.8311,  ...,  0.0000,  0.0000,  0.0000],\n",
       "           ...,\n",
       "           [ 2.2513,  2.2743,  2.2962,  ...,  0.0000,  0.0000,  0.0000],\n",
       "           [ 2.3443,  2.3574,  2.3957,  ...,  0.0000,  0.0000,  0.0000],\n",
       "           [ 2.4067,  2.4198,  2.4220,  ...,  0.0000,  0.0000,  0.0000]],\n",
       " \n",
       "          [[-1.5735, -1.5049, -1.4831,  ...,  0.0000,  0.0000,  0.0000],\n",
       "           [-1.6585, -1.6389, -1.5648,  ...,  0.0000,  0.0000,  0.0000],\n",
       "           [-1.4363, -1.5147, -1.6356,  ...,  0.0000,  0.0000,  0.0000],\n",
       "           ...,\n",
       "           [ 2.5605,  2.5834,  2.5823,  ...,  0.0000,  0.0000,  0.0000],\n",
       "           [ 2.5910,  2.6106,  2.6400,  ...,  0.0000,  0.0000,  0.0000],\n",
       "           [ 2.6400,  2.6302,  2.6237,  ...,  0.0000,  0.0000,  0.0000]]]]),\n",
       " 'annot': tensor([[[244.4274, 212.2851, 287.7913, 226.4297,   0.0000],\n",
       "          [338.0949, 212.6623, 405.8163, 226.8655,   0.0000],\n",
       "          [189.5164,  82.5246, 214.1022,  93.0293,   2.0000],\n",
       "          [361.2878,  64.1507, 393.2955,  74.0643,   2.0000],\n",
       "          [ 18.8927,  62.8791,  46.6629,  72.5146,   2.0000],\n",
       "          [273.5429,  64.1550, 305.6642,  74.7759,   2.0000],\n",
       "          [408.4236, 213.4563, 446.4125, 226.7581,   2.0000],\n",
       "          [189.5235, 214.3849, 219.3488, 224.4302,   2.0000],\n",
       "          [145.1917,  64.3028, 173.0334,  74.3208,   2.0000],\n",
       "          [102.8219, 214.5455, 134.6018, 225.1844,   2.0000],\n",
       "          [229.4033,  63.9835, 262.0129,  74.0052,   2.0000],\n",
       "          [141.7635, 214.2441, 182.0784, 226.6847,   2.0000],\n",
       "          [309.2016, 164.2085, 337.2280, 174.2399,   2.0000],\n",
       "          [ 59.8410, 213.4983,  95.9486, 225.2461,   0.0000],\n",
       "          [312.9319,  64.0555, 345.1010,  74.9335,   2.0000],\n",
       "          [418.5507,  64.3518, 448.7083,  74.0682,   2.0000],\n",
       "          [ 56.5675,  63.7815,  85.2081,  73.4135,   2.0000],\n",
       "          [169.3412, 180.1081, 198.8533, 190.6260,   2.0000],\n",
       "          [ 88.4671, 198.7404, 117.9731, 208.9678,   2.0000],\n",
       "          [298.6738, 214.7333, 329.6548, 225.6223,   2.0000],\n",
       "          [ 98.3610,  64.0061, 129.5681,  73.6786,   2.0000],\n",
       "          [ -1.0000,  -1.0000,  -1.0000,  -1.0000,  -1.0000],\n",
       "          [ -1.0000,  -1.0000,  -1.0000,  -1.0000,  -1.0000],\n",
       "          [ -1.0000,  -1.0000,  -1.0000,  -1.0000,  -1.0000]],\n",
       " \n",
       "         [[320.5177, 212.3790, 388.2663, 226.6683,   0.0000],\n",
       "          [226.8790, 212.2094, 270.2176, 226.3006,   0.0000],\n",
       "          [  0.9968,  63.0402,  28.7867,  72.7113,   2.0000],\n",
       "          [ 89.8099, 198.7363, 119.3354, 209.0011,   2.0000],\n",
       "          [343.3983,  63.8727, 375.4262,  73.8273,   2.0000],\n",
       "          [ 80.4706,  64.0642, 111.6974,  73.7767,   2.0000],\n",
       "          [435.7373, 213.4029, 494.7404, 228.0737,   0.0000],\n",
       "          [453.7576,  65.7073, 484.8472,  74.8382,   2.0000],\n",
       "          [390.8671, 213.1640, 428.8326, 226.4192,   2.0000],\n",
       "          [124.1856, 214.2434, 164.5256, 226.7355,   2.0000],\n",
       "          [211.5130,  63.8726, 244.1430,  73.9361,   2.0000],\n",
       "          [174.8388, 180.0259, 204.3709, 190.5812,   2.0000],\n",
       "          [295.0419,  63.8374, 327.2278,  74.7550,   2.0000],\n",
       "          [ 42.2865, 213.6549,  78.3727, 225.3580,   0.0000],\n",
       "          [127.3009,  64.3045, 155.1630,  74.3583,   2.0000],\n",
       "          [ 38.6738,  63.8937,  67.3340,  73.5625,   2.0000],\n",
       "          [400.6591,  64.0010, 430.8365,  73.7561,   2.0000],\n",
       "          [255.6690,  64.0259, 287.7737,  74.6079,   2.0000],\n",
       "          [281.0925, 214.5390, 312.0902, 225.4661,   2.0000],\n",
       "          [169.9548,  63.7831, 199.1552,  73.9939,   2.0000],\n",
       "          [171.9442, 214.3347, 201.7881, 224.4176,   2.0000],\n",
       "          [313.7832, 164.0812, 341.7924, 174.0785,   2.0000],\n",
       "          [155.3193,  82.5797, 179.9263,  93.1159,   2.0000],\n",
       "          [ 85.2400, 214.6014, 117.0413, 225.2809,   2.0000]]]),\n",
       " 'scale': [0.6666666666666666, 0.6666666666666666],\n",
       " 'bev_img': tensor([[[[-2.1179, -2.1179, -2.1179,  ..., -2.1179, -2.1179, -2.1179],\n",
       "           [-2.1179, -2.1179, -2.1179,  ..., -2.1179, -2.1179, -2.1179],\n",
       "           [-2.1179, -2.1179, -2.1179,  ..., -2.1179, -2.1179, -2.1179],\n",
       "           ...,\n",
       "           [-2.1179, -2.1179, -2.1179,  ..., -2.1179, -2.1179, -2.1179],\n",
       "           [-2.1179, -2.1179, -2.1179,  ..., -2.1179, -2.1179, -2.1179],\n",
       "           [-2.1179, -2.1179, -2.1179,  ..., -2.1179, -2.1179, -2.1179]],\n",
       " \n",
       "          [[-2.0357, -2.0357, -2.0357,  ..., -2.0357, -2.0357, -2.0357],\n",
       "           [-2.0357, -2.0357, -2.0357,  ..., -2.0357, -2.0357, -2.0357],\n",
       "           [-2.0357, -2.0357, -2.0357,  ..., -2.0357, -2.0357, -2.0357],\n",
       "           ...,\n",
       "           [-2.0357, -2.0357, -2.0357,  ..., -2.0357, -2.0357, -2.0357],\n",
       "           [-2.0357, -2.0357, -2.0357,  ..., -2.0357, -2.0357, -2.0357],\n",
       "           [-2.0357, -2.0357, -2.0357,  ..., -2.0357, -2.0357, -2.0357]],\n",
       " \n",
       "          [[-1.8044, -1.8044, -1.8044,  ..., -1.8044, -1.8044, -1.8044],\n",
       "           [-1.8044, -1.8044, -1.8044,  ..., -1.8044, -1.8044, -1.8044],\n",
       "           [-1.8044, -1.8044, -1.8044,  ..., -1.8044, -1.8044, -1.8044],\n",
       "           ...,\n",
       "           [-1.8044, -1.8044, -1.8044,  ..., -1.8044, -1.8044, -1.8044],\n",
       "           [-1.8044, -1.8044, -1.8044,  ..., -1.8044, -1.8044, -1.8044],\n",
       "           [-1.8044, -1.8044, -1.8044,  ..., -1.8044, -1.8044, -1.8044]]],\n",
       " \n",
       " \n",
       "         [[[-2.1179, -2.1179, -2.1179,  ..., -2.1179, -2.1179, -2.1179],\n",
       "           [-2.1179, -2.1179, -2.1179,  ..., -2.1179, -2.1179, -2.1179],\n",
       "           [-2.1179, -2.1179, -2.1179,  ..., -2.1179, -2.1179, -2.1179],\n",
       "           ...,\n",
       "           [-2.1179, -2.1179, -2.1179,  ..., -2.1179, -2.1179, -2.1179],\n",
       "           [-2.1179, -2.1179, -2.1179,  ..., -2.1179, -2.1179, -2.1179],\n",
       "           [-2.1179, -2.1179, -2.1179,  ..., -2.1179, -2.1179, -2.1179]],\n",
       " \n",
       "          [[-2.0357, -2.0357, -2.0357,  ..., -2.0357, -2.0357, -2.0357],\n",
       "           [-2.0357, -2.0357, -2.0357,  ..., -2.0357, -2.0357, -2.0357],\n",
       "           [-2.0357, -2.0357, -2.0357,  ..., -2.0357, -2.0357, -2.0357],\n",
       "           ...,\n",
       "           [-2.0357, -2.0357, -2.0357,  ..., -2.0357, -2.0357, -2.0357],\n",
       "           [-2.0357, -2.0357, -2.0357,  ..., -2.0357, -2.0357, -2.0357],\n",
       "           [-2.0357, -2.0357, -2.0357,  ..., -2.0357, -2.0357, -2.0357]],\n",
       " \n",
       "          [[-1.8044, -1.8044, -1.8044,  ..., -1.8044, -1.8044, -1.8044],\n",
       "           [-1.8044, -1.8044, -1.8044,  ..., -1.8044, -1.8044, -1.8044],\n",
       "           [-1.8044, -1.8044, -1.8044,  ..., -1.8044, -1.8044, -1.8044],\n",
       "           ...,\n",
       "           [-1.8044, -1.8044, -1.8044,  ..., -1.8044, -1.8044, -1.8044],\n",
       "           [-1.8044, -1.8044, -1.8044,  ..., -1.8044, -1.8044, -1.8044],\n",
       "           [-1.8044, -1.8044, -1.8044,  ..., -1.8044, -1.8044, -1.8044]]]]),\n",
       " 'bev_annot': tensor([[[ 98.3610,  80.3214, 129.5681,  92.4594,   2.0000],\n",
       "          [ 98.3610,  80.3214, 129.5681,  92.4594,   2.0000]],\n",
       " \n",
       "         [[ 85.2400, 269.3037, 117.0413, 282.7055,   2.0000],\n",
       "          [ 85.2400, 269.3037, 117.0413, 282.7055,   2.0000]]]),\n",
       " 'bev_scale': [0.64, 0.64],\n",
       " 'roadimage': [tensor([[False, False, False,  ..., False, False, False],\n",
       "          [False, False, False,  ..., False, False, False],\n",
       "          [False, False, False,  ..., False, False, False],\n",
       "          ...,\n",
       "          [False, False, False,  ..., False, False, False],\n",
       "          [False, False, False,  ..., False, False, False],\n",
       "          [False, False, False,  ..., False, False, False]]),\n",
       "  tensor([[False, False, False,  ..., False, False, False],\n",
       "          [False, False, False,  ..., False, False, False],\n",
       "          [False, False, False,  ..., False, False, False],\n",
       "          ...,\n",
       "          [False, False, False,  ..., False, False, False],\n",
       "          [False, False, False,  ..., False, False, False],\n",
       "          [False, False, False,  ..., False, False, False]])]}"
      ]
     },
     "execution_count": 41,
     "metadata": {},
     "output_type": "execute_result"
    }
   ],
   "source": [
    "data"
   ]
  },
  {
   "cell_type": "code",
   "execution_count": 47,
   "metadata": {},
   "outputs": [
    {
     "data": {
      "text/plain": [
       "torch.Size([512, 512, 3])"
      ]
     },
     "execution_count": 47,
     "metadata": {},
     "output_type": "execute_result"
    }
   ],
   "source": [
    "data['img'][0].permute(1,2,0).shape"
   ]
  },
  {
   "cell_type": "code",
   "execution_count": 49,
   "metadata": {},
   "outputs": [
    {
     "name": "stderr",
     "output_type": "stream",
     "text": [
      "Clipping input data to the valid range for imshow with RGB data ([0..1] for floats or [0..255] for integers).\n"
     ]
    },
    {
     "data": {
      "text/plain": [
       "<matplotlib.image.AxesImage at 0x13ffad650>"
      ]
     },
     "execution_count": 49,
     "metadata": {},
     "output_type": "execute_result"
    },
    {
     "data": {
      "image/png": "[encoded data removed]",
      "text/plain": [
       "<Figure size 432x288 with 1 Axes>"
      ]
     },
     "metadata": {
      "needs_background": "light"
     },
     "output_type": "display_data"
    }
   ],
   "source": [
    "plt.imshow(data['bev_img'][0].permute(1,2,0))"
   ]
  },
  {
   "cell_type": "code",
   "execution_count": null,
   "metadata": {},
   "outputs": [],
   "source": []
  }
 ],
 "metadata": {
  "kernelspec": {
   "display_name": "Python 3",
   "language": "python",
   "name": "python3"
  },
  "language_info": {
   "codemirror_mode": {
    "name": "ipython",
    "version": 3
   },
   "file_extension": ".py",
   "mimetype": "text/x-python",
   "name": "python",
   "nbconvert_exporter": "python",
   "pygments_lexer": "ipython3",
   "version": "3.7.6"
  }
 },
 "nbformat": 4,
 "nbformat_minor": 4
}
