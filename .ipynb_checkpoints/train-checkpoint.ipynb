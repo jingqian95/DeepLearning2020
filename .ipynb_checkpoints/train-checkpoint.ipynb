{
 "cells": [
  {
   "cell_type": "code",
   "execution_count": 1,
   "metadata": {},
   "outputs": [],
   "source": [
    "# import sys\n",
    "\n",
    "# module_path = os.path.abspath(os.path.join('..'))\n",
    "# if module_path not in sys.path:\n",
    "#     sys.path.append(module_path)"
   ]
  },
  {
   "cell_type": "code",
   "execution_count": 2,
   "metadata": {},
   "outputs": [],
   "source": [
    "import datetime\n",
    "import argparse\n",
    "import traceback\n",
    "import os\n",
    "\n",
    "import torch\n",
    "import yaml\n",
    "from torch import nn\n",
    "from torch.utils.data import DataLoader\n",
    "from torchvision import transforms\n",
    "import torchvision\n",
    "import torch.nn.functional as F\n",
    "\n",
    "from efficientdet.dataset import LabeledDataset, LabeledDataset_coco, Resizer, Normalizer, Augmenter, collater\n",
    "\n",
    "from backbone import EfficientDetBackbone\n",
    "from tensorboardX import SummaryWriter\n",
    "import numpy as np\n",
    "from tqdm.autonotebook import tqdm\n",
    "from efficientdet.loss import FocalLoss\n",
    "from efficientdet.utils import collate_fn_dl\n",
    "from utils.sync_batchnorm import patch_replication_callback\n",
    "from utils.utils import replace_w_sync_bn, CustomDataParallel, get_last_weights, init_weights"
   ]
  },
  {
   "cell_type": "code",
   "execution_count": 3,
   "metadata": {},
   "outputs": [],
   "source": [
    "class Params:\n",
    "    def __init__(self, project_file):\n",
    "        self.params = yaml.safe_load(open(project_file).read())\n",
    "\n",
    "    def __getattr__(self, item):\n",
    "        return self.params.get(item, None)\n",
    "\n",
    "\n",
    "def get_args():\n",
    "    parser = argparse.ArgumentParser('Yet Another EfficientDet Pytorch: SOTA object detection network - Zylo117')\n",
    "    parser.add_argument('-p', '--project', type=str, default='dl2020', help='project file that contains parameters')\n",
    "    parser.add_argument('-c', '--compound_coef', type=int, default=0, help='coefficients of efficientdet')\n",
    "    parser.add_argument('-n', '--num_workers', type=int, default=2, help='num_workers of dataloader')\n",
    "    parser.add_argument('--batch_size', type=int, default=3, help='The number of images per batch among all devices')\n",
    "    parser.add_argument('--head_only', type=bool, default=False,\n",
    "                        help='whether finetunes only the regressor and the classifier, '\n",
    "                             'useful in early stage convergence or small/easy dataset')\n",
    "    parser.add_argument('--lr', type=float, default=1e-4)\n",
    "    parser.add_argument('--optim', type=str, default='adamw', help='select optimizer for training, '\n",
    "                                                                   'suggest using \\'admaw\\' until the'\n",
    "                                                                   ' very final stage then switch to \\'sgd\\'')\n",
    "    parser.add_argument('--alpha', type=float, default=0.25)\n",
    "    parser.add_argument('--gamma', type=float, default=1.5)\n",
    "    parser.add_argument('--num_epochs', type=int, default=100)\n",
    "    parser.add_argument('--val_interval', type=int, default=1, help='Number of epoches between valing phases')\n",
    "    parser.add_argument('--save_interval', type=int, default=500, help='Number of steps between saving')\n",
    "    parser.add_argument('--es_min_delta', type=float, default=0.0,\n",
    "                        help='Early stopping\\'s parameter: minimum change loss to qualify as an improvement')\n",
    "    parser.add_argument('--es_patience', type=int, default=0,\n",
    "                        help='Early stopping\\'s parameter: number of epochs with no improvement after which training will be stopped. Set to 0 to disable this technique.')\n",
    "    parser.add_argument('--data_path', type=str, default='datasets/', help='the root folder of dataset')\n",
    "    parser.add_argument('--annotation', type=str, default='annotation.csv', help='annotation csv file name')\n",
    "    parser.add_argument('--log_path', type=str, default='logs/')\n",
    "    parser.add_argument('--load_weights', type=str, default=None,\n",
    "                        help='whether to load weights from a checkpoint, set None to initialize, set \\'last\\' to load last checkpoint')\n",
    "    parser.add_argument('--saved_path', type=str, default='saved/')\n",
    "    parser.add_argument('--debug', type=bool, default=False, help='whether visualize the predicted boxes of trainging, '\n",
    "                                                                  'the output images will be in test/')\n",
    "\n",
    "    args = parser.parse_args()\n",
    "    return args\n"
   ]
  },
  {
   "cell_type": "code",
   "execution_count": 4,
   "metadata": {},
   "outputs": [],
   "source": [
    "params = Params(f'projects/dl2020.yml')\n",
    "\n",
    "if params.num_gpus == 0:\n",
    "    os.environ['CUDA_VISIBLE_DEVICES'] = '-1'\n",
    "\n",
    "if torch.cuda.is_available():\n",
    "    torch.cuda.manual_seed(42)\n",
    "else:\n",
    "    torch.manual_seed(42)"
   ]
  },
  {
   "cell_type": "code",
   "execution_count": 5,
   "metadata": {},
   "outputs": [],
   "source": [
    "saved_path = 'saved/' + f'/{params.project_name}/'\n",
    "log_path = 'logs/' + f'/{params.project_name}/tensorboard/'\n",
    "os.makedirs(log_path, exist_ok=True)\n",
    "os.makedirs(saved_path, exist_ok=True)"
   ]
  },
  {
   "cell_type": "code",
   "execution_count": 6,
   "metadata": {},
   "outputs": [],
   "source": [
    "training_params = {'batch_size': 2,\n",
    "                   'shuffle': False,\n",
    "                   'drop_last': True,\n",
    "                   'collate_fn': collater,\n",
    "#                    'collate_fn': collate_fn_dl,\n",
    "                   'num_workers': 0}\n",
    "\n",
    "val_params = {'batch_size': 2,\n",
    "              'shuffle': False,\n",
    "              'drop_last': True,\n",
    "              'collate_fn': collater,\n",
    "#               'collate_fn': collate_fn_dl,\n",
    "              'num_workers': 2}"
   ]
  },
  {
   "cell_type": "markdown",
   "metadata": {},
   "source": [
    "# Try new data loader"
   ]
  },
  {
   "cell_type": "code",
   "execution_count": 7,
   "metadata": {},
   "outputs": [],
   "source": [
    "# train_scene_index = np.arange(106, 127)\n",
    "# val_scene_index = np.arange(128, 134)\n",
    "# input_sizes = [512, 640, 768, 896, 1024, 1280, 1280, 1536]\n",
    "\n",
    "# transform_dl = torchvision.transforms.ToTensor()\n",
    "\n",
    "# transform = transforms.Compose([Normalizer(mean=params.mean, std=params.std),\\\n",
    "#                                 Augmenter(),\\\n",
    "#                                 Resizer(input_sizes[0])])\n",
    "\n",
    "# training_set = LabeledDataset(image_folder = os.path.join('datasets/', params.project_name),\n",
    "#                                   annotation_file = os.path.join('datasets/', params.project_name, 'annotation.csv'),\n",
    "#                                   scene_index = train_scene_index,\n",
    "#                                   transform = transform_dl,\n",
    "# #                                   transform = transform,\n",
    "#                                   extra_info = True\n",
    "#                                   )\n",
    "\n",
    "# training_generator = DataLoader(training_set, **training_params)\n",
    "\n",
    "\n",
    "# val_set = LabeledDataset(image_folder = os.path.join('datasets/', params.project_name),\n",
    "#                                   annotation_file = os.path.join('datasets/', params.project_name, 'annotation.csv'),\n",
    "#                                   scene_index = val_scene_index,\n",
    "#                                   transform = transform_dl,\n",
    "#                                   extra_info = True\n",
    "#                                   )\n",
    "\n",
    "# val_generator = DataLoader(val_set, **val_params)\n"
   ]
  },
  {
   "cell_type": "code",
   "execution_count": 8,
   "metadata": {},
   "outputs": [],
   "source": [
    "train_scene_index = np.arange(106, 127)\n",
    "val_scene_index = np.arange(128, 134)\n",
    "input_sizes = [512, 640, 768, 896, 1024, 1280, 1280, 1536]\n",
    "\n",
    "transform = transforms.Compose([Normalizer(mean=params.mean, std=params.std),\\\n",
    "                                Augmenter(),\\\n",
    "                                Resizer(input_sizes[0])])\n",
    "\n",
    "training_set = LabeledDataset_coco(image_folder = os.path.join('datasets/', params.project_name),\n",
    "                                  annotation_file = os.path.join('datasets/', params.project_name, 'annotation_newfeat_2.csv'),\n",
    "                                  scene_index = train_scene_index,\n",
    "                                  transform = transform,\n",
    "                                  extra_info = True\n",
    "                                  )\n",
    "training_generator = DataLoader(training_set, **training_params)\n",
    "\n",
    "val_set = LabeledDataset_coco(image_folder = os.path.join('datasets/', params.project_name),\n",
    "                                  annotation_file = os.path.join('datasets/', params.project_name, 'annotation_newfeat_2.csv'),\n",
    "                                  scene_index = val_scene_index,\n",
    "                                  transform = transform,\n",
    "                                  extra_info = True\n",
    "                                  )\n",
    "\n",
    "val_generator = DataLoader(val_set, **val_params)\n",
    "\n"
   ]
  },
  {
   "cell_type": "code",
   "execution_count": 9,
   "metadata": {},
   "outputs": [
    {
     "data": {
      "application/vnd.jupyter.widget-view+json": {
       "model_id": "df200771f9f74465a2f2f62d44dbb170",
       "version_major": 2,
       "version_minor": 0
      },
      "text/plain": [
       "HBox(children=(FloatProgress(value=0.0, max=1323.0), HTML(value='')))"
      ]
     },
     "metadata": {},
     "output_type": "display_data"
    },
    {
     "name": "stdout",
     "output_type": "stream",
     "text": [
      "image_size: (768, 612, 3)\n",
      "image_size: (768, 612, 3)\n"
     ]
    }
   ],
   "source": [
    "progress_bar = tqdm(training_generator)\n",
    "for iter, data in enumerate(progress_bar):\n",
    "    imgs = data['img']\n",
    "    annot = data['annot']\n",
    "    \n",
    "    break"
   ]
  },
  {
   "cell_type": "code",
   "execution_count": 10,
   "metadata": {},
   "outputs": [
    {
     "name": "stderr",
     "output_type": "stream",
     "text": [
      "Clipping input data to the valid range for imshow with RGB data ([0..1] for floats or [0..255] for integers).\n"
     ]
    },
    {
     "data": {
      "image/png": "[encoded data removed]",
      "text/plain": [
       "<Figure size 1000x1000 with 1 Axes>"
      ]
     },
     "metadata": {
      "needs_background": "light"
     },
     "output_type": "display_data"
    }
   ],
   "source": [
    "import matplotlib\n",
    "import matplotlib.pyplot as plt\n",
    "matplotlib.rcParams['figure.figsize'] = [5, 5]\n",
    "matplotlib.rcParams['figure.dpi'] = 200\n",
    "# plt.figure(figsize=(3,18))\n",
    "plt.imshow(torchvision.utils.make_grid(imgs[0], nrow=3).numpy().transpose(1, 2, 0))\n",
    "plt.axis('off');"
   ]
  },
  {
   "cell_type": "code",
   "execution_count": 11,
   "metadata": {},
   "outputs": [],
   "source": [
    "model = EfficientDetBackbone(num_classes=len(params.obj_list), compound_coef = 0,\n",
    "                             ratios=eval(params.anchors_ratios), scales=eval(params.anchors_scales))"
   ]
  },
  {
   "cell_type": "code",
   "execution_count": 12,
   "metadata": {},
   "outputs": [
    {
     "name": "stdout",
     "output_type": "stream",
     "text": [
      "[Info] initializing weights...\n"
     ]
    }
   ],
   "source": [
    "load_weights = None\n",
    "if load_weights is not None:\n",
    "    if opt.load_weights.endswith('.pth'):\n",
    "        weights_path = opt.load_weights\n",
    "    else:\n",
    "        weights_path = get_last_weights(opt.saved_path)\n",
    "    try:\n",
    "        last_step = int(os.path.basename(weights_path).split('_')[-1].split('.')[0])\n",
    "    except:\n",
    "        last_step = 0\n",
    "\n",
    "    try:\n",
    "        ret = model.load_state_dict(torch.load(weights_path), strict=False)\n",
    "    except RuntimeError as e:\n",
    "        print(f'[Warning] Ignoring {e}')\n",
    "        print(\n",
    "            '[Warning] Don\\'t panic if you see this, this might be because you load a pretrained weights with different number of classes. The rest of the weights should be loaded already.')\n",
    "\n",
    "    print(f'[Info] loaded weights: {os.path.basename(weights_path)}, resuming checkpoint from step: {last_step}')\n",
    "else:\n",
    "    last_step = 0\n",
    "    print('[Info] initializing weights...')\n",
    "    init_weights(model)\n",
    "    \n",
    "    \n",
    "    \n",
    "    \n",
    "    "
   ]
  },
  {
   "cell_type": "code",
   "execution_count": 13,
   "metadata": {},
   "outputs": [],
   "source": [
    "# if opt.head_only:\n",
    "#     def freeze_backbone(m):\n",
    "#         classname = m.__class__.__name__\n",
    "#         for ntl in ['EfficientNet', 'BiFPN']:\n",
    "#             if ntl in classname:\n",
    "#                 for param in m.parameters():\n",
    "#                     param.requires_grad = False\n",
    "\n",
    "#     model.apply(freeze_backbone)\n",
    "#     print('[Info] freezed backbone')"
   ]
  },
  {
   "cell_type": "code",
   "execution_count": 14,
   "metadata": {},
   "outputs": [],
   "source": [
    "if params.num_gpus > 1 and 3 // params.num_gpus < 4:\n",
    "    model.apply(replace_w_sync_bn)\n",
    "    use_sync_bn = True\n",
    "else:\n",
    "    use_sync_bn = False"
   ]
  },
  {
   "cell_type": "code",
   "execution_count": 15,
   "metadata": {},
   "outputs": [],
   "source": [
    "writer = SummaryWriter(log_path + f'/{datetime.datetime.now().strftime(\"%Y%m%d-%H%M%S\")}/')"
   ]
  },
  {
   "cell_type": "code",
   "execution_count": 16,
   "metadata": {},
   "outputs": [],
   "source": [
    "class ModelWithLoss(nn.Module):\n",
    "    def __init__(self, model, debug=False):\n",
    "        super().__init__()\n",
    "        self.criterion = FocalLoss()\n",
    "        self.model = model\n",
    "        self.debug = debug\n",
    "\n",
    "    def forward(self, imgs, annotations, obj_list=None):\n",
    "        _, regression, classification, anchors = self.model(imgs)\n",
    "        if self.debug:\n",
    "            cls_loss, reg_loss = self.criterion(classification, regression, anchors, annotations,\n",
    "                                                imgs=imgs, obj_list=obj_list)\n",
    "        else:\n",
    "            cls_loss, reg_loss = self.criterion(classification, regression, anchors, annotations)\n",
    "        return cls_loss, reg_loss, regression, classification, anchors\n",
    "\n",
    "model = ModelWithLoss(model, debug= False)"
   ]
  },
  {
   "cell_type": "code",
   "execution_count": 17,
   "metadata": {},
   "outputs": [],
   "source": [
    "# if params.num_gpus > 0:\n",
    "#     model = model.cuda()\n",
    "#     if params.num_gpus > 1:\n",
    "#         model = CustomDataParallel(model, params.num_gpus)\n",
    "#         if use_sync_bn:\n",
    "#             patch_replication_callback(model)"
   ]
  },
  {
   "cell_type": "code",
   "execution_count": 18,
   "metadata": {},
   "outputs": [],
   "source": [
    "optim = 'adamw'\n",
    "if optim == 'adamw':\n",
    "    optimizer = torch.optim.AdamW(model.parameters(), 1e-4)\n",
    "else:\n",
    "    optimizer = torch.optim.SGD(model.parameters(), 1e-4, momentum=0.9, nesterov=True)"
   ]
  },
  {
   "cell_type": "code",
   "execution_count": 19,
   "metadata": {},
   "outputs": [],
   "source": [
    "scheduler = torch.optim.lr_scheduler.ReduceLROnPlateau(optimizer, patience=3, verbose=True)"
   ]
  },
  {
   "cell_type": "code",
   "execution_count": 20,
   "metadata": {},
   "outputs": [],
   "source": [
    "epoch = 0\n",
    "best_loss = 1e5\n",
    "best_epoch = 0\n",
    "step = max(0, last_step)\n",
    "model.train()\n",
    "\n",
    "num_iter_per_epoch = len(training_generator)"
   ]
  },
  {
   "cell_type": "code",
   "execution_count": 21,
   "metadata": {},
   "outputs": [],
   "source": [
    "def save_checkpoint(model, name):\n",
    "    if isinstance(model, CustomDataParallel):\n",
    "        torch.save(model.module.model.state_dict(), os.path.join('saved/', name))\n",
    "    else:\n",
    "        torch.save(model.model.state_dict(), os.path.join('saved/', name))"
   ]
  },
  {
   "cell_type": "code",
   "execution_count": 22,
   "metadata": {},
   "outputs": [
    {
     "data": {
      "application/vnd.jupyter.widget-view+json": {
       "model_id": "761554d21bdc441a82322ff68efbdfb4",
       "version_major": 2,
       "version_minor": 0
      },
      "text/plain": [
       "HBox(children=(FloatProgress(value=0.0, max=1323.0), HTML(value='')))"
      ]
     },
     "metadata": {},
     "output_type": "display_data"
    },
    {
     "name": "stdout",
     "output_type": "stream",
     "text": [
      "image_size: (768, 612, 3)\n",
      "image_size: (768, 612, 3)\n",
      "tensor(8400.5771, grad_fn=<MeanBackward0>)\n",
      "tensor(0.7743, grad_fn=<MeanBackward0>)\n",
      "checkpoint...\n"
     ]
    }
   ],
   "source": [
    "for epoch in range(10):\n",
    "    last_epoch = step // num_iter_per_epoch\n",
    "    if epoch < last_epoch:\n",
    "        continue\n",
    "\n",
    "\n",
    "    epoch_loss = []\n",
    "    progress_bar = tqdm(training_generator)\n",
    "    for iter, data in enumerate(progress_bar):\n",
    "        if iter < step - last_epoch * num_iter_per_epoch:\n",
    "            progress_bar.update()\n",
    "            continue\n",
    "            \n",
    "        imgs = data['img']\n",
    "        annot = data['annot']\n",
    "\n",
    "#         sample_cat, sample, target, road_image, extra = data     \n",
    "#         sample_cat = torch.stack(sample_cat)\n",
    "\n",
    "        if params.num_gpus == 1:\n",
    "            # if only one gpu, just send it to cuda:0\n",
    "            # elif multiple gpus, send it to multiple gpus in CustomDataParallel, not here\n",
    "            imgs = imgs.cuda()\n",
    "            annot = annot.cuda()\n",
    "            \n",
    "            \n",
    "        optimizer.zero_grad()\n",
    "        \n",
    "        \n",
    "        \n",
    "#         criterion = FocalLoss()\n",
    "#         _, regression, classification, anchors = model(imgs)\n",
    "#         cls_loss, reg_loss = criterion(classification, regression, anchors, annot)\n",
    "\n",
    "        \n",
    "        cls_loss, reg_loss, regression, classification, anchors = model(imgs, annot, obj_list=params.obj_list)\n",
    "#         cls_loss, reg_loss = model(imgs, target, obj_list=params.obj_list)\n",
    "\n",
    "\n",
    "        cls_loss = cls_loss.mean()\n",
    "        reg_loss = reg_loss.mean()\n",
    "\n",
    "\n",
    "        print(cls_loss)\n",
    "        print(reg_loss)\n",
    "\n",
    "        loss = cls_loss + reg_loss\n",
    "        if loss == 0 or not torch.isfinite(loss):\n",
    "            continue\n",
    "            \n",
    "            \n",
    "        loss.backward()\n",
    "        # torch.nn.utils.clip_grad_norm_(model.parameters(), 0.1)\n",
    "        optimizer.step()\n",
    "\n",
    "        epoch_loss.append(float(loss))\n",
    "\n",
    "        progress_bar.set_description(\n",
    "            'Step: {}. Epoch: {}/{}. Iteration: {}/{}. Cls loss: {:.5f}. Reg loss: {:.5f}. Total loss: {:.5f}'.format(\n",
    "                step, epoch, 10, iter + 1, num_iter_per_epoch, cls_loss.item(),\n",
    "                reg_loss.item(), loss.item()))\n",
    "        writer.add_scalars('Loss', {'train': loss}, step)\n",
    "        writer.add_scalars('Regression_loss', {'train': reg_loss}, step)\n",
    "        writer.add_scalars('Classfication_loss', {'train': cls_loss}, step)\n",
    "\n",
    "        \n",
    "        # log learning_rate\n",
    "        current_lr = optimizer.param_groups[0]['lr']\n",
    "        writer.add_scalar('learning_rate', current_lr, step)\n",
    "\n",
    "        step += 1\n",
    "\n",
    "        if step % 1 == 0 and step > 0:\n",
    "            save_checkpoint(model, f'efficientdet-d{0}_{epoch}_{step}.pth')\n",
    "            print('checkpoint...')\n",
    "            \n",
    "            \n",
    "    \n",
    "        break\n",
    "    \n",
    "    break\n",
    "    scheduler.step(np.mean(epoch_loss))"
   ]
  },
  {
   "cell_type": "code",
   "execution_count": 23,
   "metadata": {},
   "outputs": [],
   "source": [
    "# if epoch % opt.val_interval == 0:\n",
    "#     model.eval()\n",
    "#     loss_regression_ls = []\n",
    "#     loss_classification_ls = []\n",
    "#     for iter, data in enumerate(val_generator):\n",
    "#         with torch.no_grad():\n",
    "#             imgs = data['img']\n",
    "#             annot = data['annot']\n",
    "\n",
    "#             if params.num_gpus == 1:\n",
    "#                 imgs = imgs.cuda()\n",
    "#                 annot = annot.cuda()\n",
    "\n",
    "#             cls_loss, reg_loss, regression, classification, anchors = model(imgs, annot, obj_list=params.obj_list)\n",
    "#             cls_loss = cls_loss.mean()\n",
    "#             reg_loss = reg_loss.mean()\n",
    "\n",
    "#             loss = cls_loss + reg_loss\n",
    "#             if loss == 0 or not torch.isfinite(loss):\n",
    "#                 continue\n",
    "\n",
    "#             loss_classification_ls.append(cls_loss.item())\n",
    "#             loss_regression_ls.append(reg_loss.item())\n",
    "\n",
    "#     cls_loss = np.mean(loss_classification_ls)\n",
    "#     reg_loss = np.mean(loss_regression_ls)\n",
    "#     loss = cls_loss + reg_loss\n",
    "\n",
    "#     print(\n",
    "#         'Val. Epoch: {}/{}. Classification loss: {:1.5f}. Regression loss: {:1.5f}. Total loss: {:1.5f}'.format(\n",
    "#             epoch, opt.num_epochs, cls_loss, reg_loss, loss))\n",
    "#     writer.add_scalars('Total_loss', {'val': loss}, step)\n",
    "#     writer.add_scalars('Regression_loss', {'val': reg_loss}, step)\n",
    "#     writer.add_scalars('Classfication_loss', {'val': cls_loss}, step)\n",
    "\n",
    "#     if loss + opt.es_min_delta < best_loss:\n",
    "#         best_loss = loss\n",
    "#         best_epoch = epoch\n",
    "\n",
    "#         save_checkpoint(model, f'efficientdet-d{opt.compound_coef}_{epoch}_{step}.pth')\n",
    "\n",
    "#     model.train()"
   ]
  },
  {
   "cell_type": "code",
   "execution_count": null,
   "metadata": {},
   "outputs": [],
   "source": []
  },
  {
   "cell_type": "code",
   "execution_count": null,
   "metadata": {},
   "outputs": [],
   "source": []
  },
  {
   "cell_type": "code",
   "execution_count": null,
   "metadata": {},
   "outputs": [],
   "source": []
  },
  {
   "cell_type": "code",
   "execution_count": null,
   "metadata": {},
   "outputs": [],
   "source": []
  },
  {
   "cell_type": "code",
   "execution_count": 24,
   "metadata": {},
   "outputs": [
    {
     "data": {
      "text/plain": [
       "torch.Size([2, 49104, 4])"
      ]
     },
     "execution_count": 24,
     "metadata": {},
     "output_type": "execute_result"
    }
   ],
   "source": [
    "regression.shape"
   ]
  },
  {
   "cell_type": "code",
   "execution_count": 25,
   "metadata": {},
   "outputs": [
    {
     "data": {
      "text/plain": [
       "torch.Size([2, 49104, 9])"
      ]
     },
     "execution_count": 25,
     "metadata": {},
     "output_type": "execute_result"
    }
   ],
   "source": [
    "classification.shape"
   ]
  },
  {
   "cell_type": "code",
   "execution_count": 26,
   "metadata": {},
   "outputs": [
    {
     "data": {
      "text/plain": [
       "torch.Size([1, 49104, 4])"
      ]
     },
     "execution_count": 26,
     "metadata": {},
     "output_type": "execute_result"
    }
   ],
   "source": [
    "anchors.shape"
   ]
  },
  {
   "cell_type": "code",
   "execution_count": 27,
   "metadata": {},
   "outputs": [
    {
     "data": {
      "text/plain": [
       "torch.Size([49104, 4])"
      ]
     },
     "execution_count": 27,
     "metadata": {},
     "output_type": "execute_result"
    }
   ],
   "source": [
    "anchors[0, :, :].shape"
   ]
  },
  {
   "cell_type": "code",
   "execution_count": 28,
   "metadata": {},
   "outputs": [],
   "source": [
    "anchor = anchors[0, :, :]"
   ]
  },
  {
   "cell_type": "code",
   "execution_count": 29,
   "metadata": {},
   "outputs": [],
   "source": [
    "classification = classification[0, :, :]\n",
    "regression = regression[0, :, :]\n",
    "\n",
    "bbox_annotation = annot[0]\n",
    "bbox_annotation = bbox_annotation[bbox_annotation[:, 4] != -1]"
   ]
  },
  {
   "cell_type": "code",
   "execution_count": 30,
   "metadata": {},
   "outputs": [],
   "source": [
    "# try:\n",
    "#     for epoch in range(10):\n",
    "#         last_epoch = step // num_iter_per_epoch\n",
    "#         if epoch < last_epoch:\n",
    "#             continue\n",
    "\n",
    "\n",
    "#         epoch_loss = []\n",
    "#         progress_bar = tqdm(training_generator)\n",
    "#         for iter, data in enumerate(progress_bar):\n",
    "#             if iter < step - last_epoch * num_iter_per_epoch:\n",
    "#                 progress_bar.update()\n",
    "#                 continue\n",
    "#             try:\n",
    "#                 # imgs = data['img']\n",
    "#                 # annot = data['annot']\n",
    "\n",
    "#                 sample_cat, sample, target, road_image, extra = data\n",
    "\n",
    "#                 if params.num_gpus == 1:\n",
    "#                     # if only one gpu, just send it to cuda:0\n",
    "#                     # elif multiple gpus, send it to multiple gpus in CustomDataParallel, not here\n",
    "#                     imgs = imgs.cuda()\n",
    "#                     annot = annot.cuda()\n",
    "\n",
    "#                 optimizer.zero_grad()\n",
    "#                 # cls_loss, reg_loss = model(imgs, annot, obj_list=params.obj_list)\n",
    "#                 cls_loss, reg_loss = model(sample_cat, target, obj_list=params.obj_list)\n",
    "#                 cls_loss = cls_loss.mean()\n",
    "#                 reg_loss = reg_loss.mean()\n",
    "\n",
    "#                 loss = cls_loss + reg_loss\n",
    "#                 if loss == 0 or not torch.isfinite(loss):\n",
    "#                     continue\n",
    "\n",
    "#                 loss.backward()\n",
    "#                 # torch.nn.utils.clip_grad_norm_(model.parameters(), 0.1)\n",
    "#                 optimizer.step()\n",
    "\n",
    "#                 epoch_loss.append(float(loss))\n",
    "\n",
    "#                 progress_bar.set_description(\n",
    "#                     'Step: {}. Epoch: {}/{}. Iteration: {}/{}. Cls loss: {:.5f}. Reg loss: {:.5f}. Total loss: {:.5f}'.format(\n",
    "#                         step, epoch, opt.num_epochs, iter + 1, num_iter_per_epoch, cls_loss.item(),\n",
    "#                         reg_loss.item(), loss.item()))\n",
    "#                 writer.add_scalars('Loss', {'train': loss}, step)\n",
    "#                 writer.add_scalars('Regression_loss', {'train': reg_loss}, step)\n",
    "#                 writer.add_scalars('Classfication_loss', {'train': cls_loss}, step)\n",
    "\n",
    "#                 # log learning_rate\n",
    "#                 current_lr = optimizer.param_groups[0]['lr']\n",
    "#                 writer.add_scalar('learning_rate', current_lr, step)\n",
    "\n",
    "#                 step += 1\n",
    "\n",
    "#                 if step % opt.save_interval == 0 and step > 0:\n",
    "#                     save_checkpoint(model, f'efficientdet-d{opt.compound_coef}_{epoch}_{step}.pth')\n",
    "#                     print('checkpoint...')\n",
    "\n",
    "#             except Exception as e:\n",
    "#                 print('[Error]', traceback.format_exc())\n",
    "#                 print(e)\n",
    "#                 continue\n",
    "#         scheduler.step(np.mean(epoch_loss))\n",
    "\n",
    "#         if epoch % opt.val_interval == 0:\n",
    "#             model.eval()\n",
    "#             loss_regression_ls = []\n",
    "#             loss_classification_ls = []\n",
    "#             for iter, data in enumerate(val_generator):\n",
    "#                 with torch.no_grad():\n",
    "#                     imgs = data['img']\n",
    "#                     annot = data['annot']\n",
    "\n",
    "#                     if params.num_gpus == 1:\n",
    "#                         imgs = imgs.cuda()\n",
    "#                         annot = annot.cuda()\n",
    "\n",
    "#                     cls_loss, reg_loss = model(imgs, annot, obj_list=params.obj_list)\n",
    "#                     cls_loss = cls_loss.mean()\n",
    "#                     reg_loss = reg_loss.mean()\n",
    "\n",
    "#                     loss = cls_loss + reg_loss\n",
    "#                     if loss == 0 or not torch.isfinite(loss):\n",
    "#                         continue\n",
    "\n",
    "#                     loss_classification_ls.append(cls_loss.item())\n",
    "#                     loss_regression_ls.append(reg_loss.item())\n",
    "\n",
    "#             cls_loss = np.mean(loss_classification_ls)\n",
    "#             reg_loss = np.mean(loss_regression_ls)\n",
    "#             loss = cls_loss + reg_loss\n",
    "\n",
    "#             print(\n",
    "#                 'Val. Epoch: {}/{}. Classification loss: {:1.5f}. Regression loss: {:1.5f}. Total loss: {:1.5f}'.format(\n",
    "#                     epoch, opt.num_epochs, cls_loss, reg_loss, loss))\n",
    "#             writer.add_scalars('Total_loss', {'val': loss}, step)\n",
    "#             writer.add_scalars('Regression_loss', {'val': reg_loss}, step)\n",
    "#             writer.add_scalars('Classfication_loss', {'val': cls_loss}, step)\n",
    "\n",
    "#             if loss + opt.es_min_delta < best_loss:\n",
    "#                 best_loss = loss\n",
    "#                 best_epoch = epoch\n",
    "\n",
    "#                 save_checkpoint(model, f'efficientdet-d{opt.compound_coef}_{epoch}_{step}.pth')\n",
    "\n",
    "#             model.train()\n",
    "\n",
    "#             # Early stopping\n",
    "#             if epoch - best_epoch > opt.es_patience > 0:\n",
    "#                 print('[Info] Stop training at epoch {}. The lowest loss achieved is {}'.format(epoch, loss))\n",
    "#                 break\n",
    "# except KeyboardInterrupt:\n",
    "#     save_checkpoint(model, f'efficientdet-d{opt.compound_coef}_{epoch}_{step}.pth')\n",
    "#     writer.close()\n",
    "# writer.close()"
   ]
  },
  {
   "cell_type": "code",
   "execution_count": null,
   "metadata": {},
   "outputs": [],
   "source": []
  },
  {
   "cell_type": "code",
   "execution_count": null,
   "metadata": {},
   "outputs": [],
   "source": []
  },
  {
   "cell_type": "code",
   "execution_count": null,
   "metadata": {},
   "outputs": [],
   "source": []
  },
  {
   "cell_type": "code",
   "execution_count": null,
   "metadata": {},
   "outputs": [],
   "source": []
  },
  {
   "cell_type": "markdown",
   "metadata": {},
   "source": [
    "# Try evaluation"
   ]
  },
  {
   "cell_type": "code",
   "execution_count": 120,
   "metadata": {},
   "outputs": [],
   "source": [
    "import json\n",
    "import os\n",
    "\n",
    "import argparse\n",
    "import torch\n",
    "import yaml\n",
    "from tqdm import tqdm\n",
    "# from pycocotools.coco import COCO\n",
    "# from pycocotools.cocoeval import COCOeval\n",
    "from torchvision.ops import nms\n",
    "from backbone import EfficientDetBackbone\n",
    "from efficientdet.utils import BBoxTransform, ClipBoxes\n",
    "from utils.utils import preprocess, invert_affine, postprocess\n",
    "\n",
    "import cv2"
   ]
  },
  {
   "cell_type": "code",
   "execution_count": 114,
   "metadata": {},
   "outputs": [],
   "source": [
    "image_names = [\n",
    "    'CAM_FRONT_LEFT.jpeg',\n",
    "    'CAM_FRONT.jpeg',\n",
    "    'CAM_FRONT_RIGHT.jpeg',\n",
    "    'CAM_BACK_LEFT.jpeg',\n",
    "    'CAM_BACK.jpeg',\n",
    "    'CAM_BACK_RIGHT.jpeg',\n",
    "    ]\n",
    "NUM_SAMPLE_PER_SCENE = 126"
   ]
  },
  {
   "cell_type": "code",
   "execution_count": 125,
   "metadata": {},
   "outputs": [],
   "source": [
    "val_index = range(int(params['val_set'].split(',')[0]), 130)# int(params['val_set'].split(',')[1]) + 1)\n",
    "# image_folder = os.path.join(opt.data_path, params.project_name)\n",
    "folder_path = os.path.join('datasets/', params['project_name'])\n",
    "# annotation_file = os.path.join(opt.data_path, params.project_name, opt.annotation)\n",
    "annotation_file = os.path.join('datasets/', params['project_name'], 'annotation_newfeat_2.csv')  "
   ]
  },
  {
   "cell_type": "code",
   "execution_count": 126,
   "metadata": {},
   "outputs": [
    {
     "data": {
      "text/plain": [
       "range(128, 130)"
      ]
     },
     "execution_count": 126,
     "metadata": {},
     "output_type": "execute_result"
    }
   ],
   "source": [
    "val_index"
   ]
  },
  {
   "cell_type": "code",
   "execution_count": 127,
   "metadata": {},
   "outputs": [],
   "source": [
    "def aspectaware_resize_padding(image, width, height, interpolation=None, means=None):\n",
    "    old_h, old_w, c = image.shape\n",
    "\n",
    "    # Get new wh to higher 512, lower scaled accordingly\n",
    "    if old_w > old_h:\n",
    "        new_w = width\n",
    "        new_h = int(width / old_w * old_h)\n",
    "    else:\n",
    "        new_w = int(height / old_h * old_w)\n",
    "        new_h = height\n",
    "\n",
    "    # Initialize a square 512*512\n",
    "    canvas = np.zeros((height, height, c), np.float32)\n",
    "    if means is not None:\n",
    "        canvas[...] = means\n",
    "\n",
    "    # Resize to scaled version\n",
    "    if new_w != old_w or new_h != old_h:\n",
    "        if interpolation is None:\n",
    "            image = cv2.resize(image, (new_w, new_h))\n",
    "        else:\n",
    "            image = cv2.resize(image, (new_w, new_h), interpolation=interpolation)\n",
    "\n",
    "    padding_h = height - new_h\n",
    "    padding_w = width - new_w\n",
    "\n",
    "    if c > 1:\n",
    "        # Get padded image\n",
    "        canvas[:new_h, :new_w] = image\n",
    "    else:\n",
    "        if len(image.shape) == 2:\n",
    "            canvas[:new_h, :new_w, 0] = image\n",
    "        else:\n",
    "            canvas[:new_h, :new_w] = image\n",
    "\n",
    "    return canvas, new_w, new_h, old_w, old_h, padding_w, padding_h,"
   ]
  },
  {
   "cell_type": "code",
   "execution_count": 128,
   "metadata": {},
   "outputs": [],
   "source": [
    "def preprocess(folder_path, val_index, max_size=512, mean=(0.406, 0.456, 0.485), std=(0.225, 0.224, 0.229)):\n",
    "    # Load original images in a list\n",
    "    ori_imgs = []\n",
    "    for scene_index in val_index:\n",
    "        scene_path = os.path.join(folder_path, 'scene_{}'.format(scene_index))\n",
    "        for sample_index in range(NUM_SAMPLE_PER_SCENE):\n",
    "            sample_path = os.path.join(scene_path, 'sample_{}'.format(sample_index))\n",
    "            \n",
    "            image_front = []\n",
    "            image_back = []\n",
    "#             images = []\n",
    "\n",
    "            for i in range(6):\n",
    "                image_path = os.path.join(sample_path, image_names[i])\n",
    "                image = cv2.imread(image_path)\n",
    "\n",
    "#                 transform_dl = torchvision.transforms.ToTensor()\n",
    "#                 images.append(transform_dl(image))\n",
    "\n",
    "                if i <= 2:\n",
    "                    if len(image_front) < 1:\n",
    "                        image_front = image\n",
    "                    else:\n",
    "                        image_front = np.concatenate((image_front, image), axis=0)\n",
    "                else:\n",
    "                    if len(image_back) < 1:\n",
    "                        image_back = image\n",
    "                    else:\n",
    "                        image_back = np.concatenate((image_back, image), axis=0)\n",
    "\n",
    "\n",
    "\n",
    "            image_cat_2 = np.concatenate((image_back, image_front), axis=1)\n",
    "#             image_cat = np.concatenate((image_front, image_back), axis=0)\n",
    "            ori_imgs.append(image_cat_2)\n",
    "            \n",
    "            \n",
    "            \n",
    "            \n",
    "            \n",
    "#     ori_imgs = [cv2.imread(img_path) for img_path in image_path]\n",
    "\n",
    "    # Normalize images\n",
    "    normalized_imgs = [(img / 255 - mean) / std for img in ori_imgs]\n",
    "    \n",
    "    # Each image turn into canvas, new_w, new_h, old_w, old_h, padding_w, padding_h\n",
    "    imgs_meta = [aspectaware_resize_padding(img[..., ::-1], max_size, max_size,\n",
    "                                            means=None) for img in normalized_imgs]\n",
    "    \n",
    "    # canvas, resized padded images\n",
    "    framed_imgs = [img_meta[0] for img_meta in imgs_meta]\n",
    "    # metas\n",
    "    framed_metas = [img_meta[1:] for img_meta in imgs_meta]\n",
    "\n",
    "    return ori_imgs, framed_imgs, framed_metas"
   ]
  },
  {
   "cell_type": "code",
   "execution_count": 129,
   "metadata": {},
   "outputs": [],
   "source": [
    "ori_imgs, framed_imgs, framed_metas = preprocess(folder_path, val_index, max_size=input_sizes[compound_coef])"
   ]
  },
  {
   "cell_type": "code",
   "execution_count": null,
   "metadata": {},
   "outputs": [],
   "source": [
    "torch.Tensor(ori_imgs).shape"
   ]
  },
  {
   "cell_type": "code",
   "execution_count": null,
   "metadata": {},
   "outputs": [],
   "source": [
    "# import matplotlib\n",
    "# import matplotlib.pyplot as plt\n",
    "# matplotlib.rcParams['figure.figsize'] = [5, 5]\n",
    "# matplotlib.rcParams['figure.dpi'] = 200\n",
    "# # plt.figure(figsize=(3,18))\n",
    "# plt.imshow(torchvision.utils.make_grid(imgs[0], nrow=3).numpy().transpose(1, 2, 0))\n",
    "# plt.axis('off');"
   ]
  },
  {
   "cell_type": "code",
   "execution_count": null,
   "metadata": {},
   "outputs": [],
   "source": []
  },
  {
   "cell_type": "code",
   "execution_count": null,
   "metadata": {},
   "outputs": [],
   "source": []
  },
  {
   "cell_type": "code",
   "execution_count": 41,
   "metadata": {},
   "outputs": [],
   "source": [
    "compound_coef = 0\n",
    "nms_threshold = 0.5\n",
    "use_cuda = True\n",
    "gpu = 0\n",
    "use_float16 = False\n",
    "project_name = 'dl2020'\n",
    "weights_path = '/Users/mjin/Desktop/1008/Project/DeepLearning2020/saved/dl2020/dl2020_0425-180033_coef0/model/best-efficientdet-d0_3500.pth'"
   ]
  },
  {
   "cell_type": "code",
   "execution_count": 42,
   "metadata": {},
   "outputs": [
    {
     "name": "stdout",
     "output_type": "stream",
     "text": [
      "running coco-style evaluation on project dl2020, weights /Users/mjin/Desktop/1008/Project/DeepLearning2020/saved/dl2020/dl2020_0425-180033_coef0/model/best-efficientdet-d0_3500.pth...\n"
     ]
    }
   ],
   "source": [
    "print(f'running coco-style evaluation on project {project_name}, weights {weights_path}...')\n",
    "\n",
    "params = yaml.safe_load(open(f'projects/{project_name}.yml'))\n",
    "obj_list = params['obj_list']\n",
    "\n",
    "input_sizes = [512, 640, 768, 896, 1024, 1280, 1280, 1536]"
   ]
  },
  {
   "cell_type": "code",
   "execution_count": 94,
   "metadata": {},
   "outputs": [
    {
     "data": {
      "text/plain": [
       "EfficientDetBackbone(\n",
       "  (bifpn): Sequential(\n",
       "    (0): BiFPN(\n",
       "      (conv6_up): SeparableConvBlock(\n",
       "        (depthwise_conv): Conv2dStaticSamePadding(\n",
       "          (conv): Conv2d(64, 64, kernel_size=(3, 3), stride=(1, 1), groups=64, bias=False)\n",
       "        )\n",
       "        (pointwise_conv): Conv2dStaticSamePadding(\n",
       "          (conv): Conv2d(64, 64, kernel_size=(1, 1), stride=(1, 1))\n",
       "        )\n",
       "        (bn): BatchNorm2d(64, eps=0.001, momentum=0.01, affine=True, track_running_stats=True)\n",
       "      )\n",
       "      (conv5_up): SeparableConvBlock(\n",
       "        (depthwise_conv): Conv2dStaticSamePadding(\n",
       "          (conv): Conv2d(64, 64, kernel_size=(3, 3), stride=(1, 1), groups=64, bias=False)\n",
       "        )\n",
       "        (pointwise_conv): Conv2dStaticSamePadding(\n",
       "          (conv): Conv2d(64, 64, kernel_size=(1, 1), stride=(1, 1))\n",
       "        )\n",
       "        (bn): BatchNorm2d(64, eps=0.001, momentum=0.01, affine=True, track_running_stats=True)\n",
       "      )\n",
       "      (conv4_up): SeparableConvBlock(\n",
       "        (depthwise_conv): Conv2dStaticSamePadding(\n",
       "          (conv): Conv2d(64, 64, kernel_size=(3, 3), stride=(1, 1), groups=64, bias=False)\n",
       "        )\n",
       "        (pointwise_conv): Conv2dStaticSamePadding(\n",
       "          (conv): Conv2d(64, 64, kernel_size=(1, 1), stride=(1, 1))\n",
       "        )\n",
       "        (bn): BatchNorm2d(64, eps=0.001, momentum=0.01, affine=True, track_running_stats=True)\n",
       "      )\n",
       "      (conv3_up): SeparableConvBlock(\n",
       "        (depthwise_conv): Conv2dStaticSamePadding(\n",
       "          (conv): Conv2d(64, 64, kernel_size=(3, 3), stride=(1, 1), groups=64, bias=False)\n",
       "        )\n",
       "        (pointwise_conv): Conv2dStaticSamePadding(\n",
       "          (conv): Conv2d(64, 64, kernel_size=(1, 1), stride=(1, 1))\n",
       "        )\n",
       "        (bn): BatchNorm2d(64, eps=0.001, momentum=0.01, affine=True, track_running_stats=True)\n",
       "      )\n",
       "      (conv4_down): SeparableConvBlock(\n",
       "        (depthwise_conv): Conv2dStaticSamePadding(\n",
       "          (conv): Conv2d(64, 64, kernel_size=(3, 3), stride=(1, 1), groups=64, bias=False)\n",
       "        )\n",
       "        (pointwise_conv): Conv2dStaticSamePadding(\n",
       "          (conv): Conv2d(64, 64, kernel_size=(1, 1), stride=(1, 1))\n",
       "        )\n",
       "        (bn): BatchNorm2d(64, eps=0.001, momentum=0.01, affine=True, track_running_stats=True)\n",
       "      )\n",
       "      (conv5_down): SeparableConvBlock(\n",
       "        (depthwise_conv): Conv2dStaticSamePadding(\n",
       "          (conv): Conv2d(64, 64, kernel_size=(3, 3), stride=(1, 1), groups=64, bias=False)\n",
       "        )\n",
       "        (pointwise_conv): Conv2dStaticSamePadding(\n",
       "          (conv): Conv2d(64, 64, kernel_size=(1, 1), stride=(1, 1))\n",
       "        )\n",
       "        (bn): BatchNorm2d(64, eps=0.001, momentum=0.01, affine=True, track_running_stats=True)\n",
       "      )\n",
       "      (conv6_down): SeparableConvBlock(\n",
       "        (depthwise_conv): Conv2dStaticSamePadding(\n",
       "          (conv): Conv2d(64, 64, kernel_size=(3, 3), stride=(1, 1), groups=64, bias=False)\n",
       "        )\n",
       "        (pointwise_conv): Conv2dStaticSamePadding(\n",
       "          (conv): Conv2d(64, 64, kernel_size=(1, 1), stride=(1, 1))\n",
       "        )\n",
       "        (bn): BatchNorm2d(64, eps=0.001, momentum=0.01, affine=True, track_running_stats=True)\n",
       "      )\n",
       "      (conv7_down): SeparableConvBlock(\n",
       "        (depthwise_conv): Conv2dStaticSamePadding(\n",
       "          (conv): Conv2d(64, 64, kernel_size=(3, 3), stride=(1, 1), groups=64, bias=False)\n",
       "        )\n",
       "        (pointwise_conv): Conv2dStaticSamePadding(\n",
       "          (conv): Conv2d(64, 64, kernel_size=(1, 1), stride=(1, 1))\n",
       "        )\n",
       "        (bn): BatchNorm2d(64, eps=0.001, momentum=0.01, affine=True, track_running_stats=True)\n",
       "      )\n",
       "      (p6_upsample): Upsample(scale_factor=2.0, mode=nearest)\n",
       "      (p5_upsample): Upsample(scale_factor=2.0, mode=nearest)\n",
       "      (p4_upsample): Upsample(scale_factor=2.0, mode=nearest)\n",
       "      (p3_upsample): Upsample(scale_factor=2.0, mode=nearest)\n",
       "      (p4_downsample): MaxPool2dStaticSamePadding(\n",
       "        (pool): MaxPool2d(kernel_size=3, stride=2, padding=0, dilation=1, ceil_mode=False)\n",
       "      )\n",
       "      (p5_downsample): MaxPool2dStaticSamePadding(\n",
       "        (pool): MaxPool2d(kernel_size=3, stride=2, padding=0, dilation=1, ceil_mode=False)\n",
       "      )\n",
       "      (p6_downsample): MaxPool2dStaticSamePadding(\n",
       "        (pool): MaxPool2d(kernel_size=3, stride=2, padding=0, dilation=1, ceil_mode=False)\n",
       "      )\n",
       "      (p7_downsample): MaxPool2dStaticSamePadding(\n",
       "        (pool): MaxPool2d(kernel_size=3, stride=2, padding=0, dilation=1, ceil_mode=False)\n",
       "      )\n",
       "      (swish): MemoryEfficientSwish()\n",
       "      (p5_down_channel): Sequential(\n",
       "        (0): Conv2dStaticSamePadding(\n",
       "          (conv): Conv2d(320, 64, kernel_size=(1, 1), stride=(1, 1))\n",
       "        )\n",
       "        (1): BatchNorm2d(64, eps=0.001, momentum=0.01, affine=True, track_running_stats=True)\n",
       "      )\n",
       "      (p4_down_channel): Sequential(\n",
       "        (0): Conv2dStaticSamePadding(\n",
       "          (conv): Conv2d(112, 64, kernel_size=(1, 1), stride=(1, 1))\n",
       "        )\n",
       "        (1): BatchNorm2d(64, eps=0.001, momentum=0.01, affine=True, track_running_stats=True)\n",
       "      )\n",
       "      (p3_down_channel): Sequential(\n",
       "        (0): Conv2dStaticSamePadding(\n",
       "          (conv): Conv2d(40, 64, kernel_size=(1, 1), stride=(1, 1))\n",
       "        )\n",
       "        (1): BatchNorm2d(64, eps=0.001, momentum=0.01, affine=True, track_running_stats=True)\n",
       "      )\n",
       "      (p5_to_p6): Sequential(\n",
       "        (0): Conv2dStaticSamePadding(\n",
       "          (conv): Conv2d(320, 64, kernel_size=(1, 1), stride=(1, 1))\n",
       "        )\n",
       "        (1): BatchNorm2d(64, eps=0.001, momentum=0.01, affine=True, track_running_stats=True)\n",
       "        (2): MaxPool2dStaticSamePadding(\n",
       "          (pool): MaxPool2d(kernel_size=3, stride=2, padding=0, dilation=1, ceil_mode=False)\n",
       "        )\n",
       "      )\n",
       "      (p6_to_p7): Sequential(\n",
       "        (0): MaxPool2dStaticSamePadding(\n",
       "          (pool): MaxPool2d(kernel_size=3, stride=2, padding=0, dilation=1, ceil_mode=False)\n",
       "        )\n",
       "      )\n",
       "      (p4_down_channel_2): Sequential(\n",
       "        (0): Conv2dStaticSamePadding(\n",
       "          (conv): Conv2d(112, 64, kernel_size=(1, 1), stride=(1, 1))\n",
       "        )\n",
       "        (1): BatchNorm2d(64, eps=0.001, momentum=0.01, affine=True, track_running_stats=True)\n",
       "      )\n",
       "      (p5_down_channel_2): Sequential(\n",
       "        (0): Conv2dStaticSamePadding(\n",
       "          (conv): Conv2d(320, 64, kernel_size=(1, 1), stride=(1, 1))\n",
       "        )\n",
       "        (1): BatchNorm2d(64, eps=0.001, momentum=0.01, affine=True, track_running_stats=True)\n",
       "      )\n",
       "      (p6_w1_relu): ReLU()\n",
       "      (p5_w1_relu): ReLU()\n",
       "      (p4_w1_relu): ReLU()\n",
       "      (p3_w1_relu): ReLU()\n",
       "      (p4_w2_relu): ReLU()\n",
       "      (p5_w2_relu): ReLU()\n",
       "      (p6_w2_relu): ReLU()\n",
       "      (p7_w2_relu): ReLU()\n",
       "    )\n",
       "    (1): BiFPN(\n",
       "      (conv6_up): SeparableConvBlock(\n",
       "        (depthwise_conv): Conv2dStaticSamePadding(\n",
       "          (conv): Conv2d(64, 64, kernel_size=(3, 3), stride=(1, 1), groups=64, bias=False)\n",
       "        )\n",
       "        (pointwise_conv): Conv2dStaticSamePadding(\n",
       "          (conv): Conv2d(64, 64, kernel_size=(1, 1), stride=(1, 1))\n",
       "        )\n",
       "        (bn): BatchNorm2d(64, eps=0.001, momentum=0.01, affine=True, track_running_stats=True)\n",
       "      )\n",
       "      (conv5_up): SeparableConvBlock(\n",
       "        (depthwise_conv): Conv2dStaticSamePadding(\n",
       "          (conv): Conv2d(64, 64, kernel_size=(3, 3), stride=(1, 1), groups=64, bias=False)\n",
       "        )\n",
       "        (pointwise_conv): Conv2dStaticSamePadding(\n",
       "          (conv): Conv2d(64, 64, kernel_size=(1, 1), stride=(1, 1))\n",
       "        )\n",
       "        (bn): BatchNorm2d(64, eps=0.001, momentum=0.01, affine=True, track_running_stats=True)\n",
       "      )\n",
       "      (conv4_up): SeparableConvBlock(\n",
       "        (depthwise_conv): Conv2dStaticSamePadding(\n",
       "          (conv): Conv2d(64, 64, kernel_size=(3, 3), stride=(1, 1), groups=64, bias=False)\n",
       "        )\n",
       "        (pointwise_conv): Conv2dStaticSamePadding(\n",
       "          (conv): Conv2d(64, 64, kernel_size=(1, 1), stride=(1, 1))\n",
       "        )\n",
       "        (bn): BatchNorm2d(64, eps=0.001, momentum=0.01, affine=True, track_running_stats=True)\n",
       "      )\n",
       "      (conv3_up): SeparableConvBlock(\n",
       "        (depthwise_conv): Conv2dStaticSamePadding(\n",
       "          (conv): Conv2d(64, 64, kernel_size=(3, 3), stride=(1, 1), groups=64, bias=False)\n",
       "        )\n",
       "        (pointwise_conv): Conv2dStaticSamePadding(\n",
       "          (conv): Conv2d(64, 64, kernel_size=(1, 1), stride=(1, 1))\n",
       "        )\n",
       "        (bn): BatchNorm2d(64, eps=0.001, momentum=0.01, affine=True, track_running_stats=True)\n",
       "      )\n",
       "      (conv4_down): SeparableConvBlock(\n",
       "        (depthwise_conv): Conv2dStaticSamePadding(\n",
       "          (conv): Conv2d(64, 64, kernel_size=(3, 3), stride=(1, 1), groups=64, bias=False)\n",
       "        )\n",
       "        (pointwise_conv): Conv2dStaticSamePadding(\n",
       "          (conv): Conv2d(64, 64, kernel_size=(1, 1), stride=(1, 1))\n",
       "        )\n",
       "        (bn): BatchNorm2d(64, eps=0.001, momentum=0.01, affine=True, track_running_stats=True)\n",
       "      )\n",
       "      (conv5_down): SeparableConvBlock(\n",
       "        (depthwise_conv): Conv2dStaticSamePadding(\n",
       "          (conv): Conv2d(64, 64, kernel_size=(3, 3), stride=(1, 1), groups=64, bias=False)\n",
       "        )\n",
       "        (pointwise_conv): Conv2dStaticSamePadding(\n",
       "          (conv): Conv2d(64, 64, kernel_size=(1, 1), stride=(1, 1))\n",
       "        )\n",
       "        (bn): BatchNorm2d(64, eps=0.001, momentum=0.01, affine=True, track_running_stats=True)\n",
       "      )\n",
       "      (conv6_down): SeparableConvBlock(\n",
       "        (depthwise_conv): Conv2dStaticSamePadding(\n",
       "          (conv): Conv2d(64, 64, kernel_size=(3, 3), stride=(1, 1), groups=64, bias=False)\n",
       "        )\n",
       "        (pointwise_conv): Conv2dStaticSamePadding(\n",
       "          (conv): Conv2d(64, 64, kernel_size=(1, 1), stride=(1, 1))\n",
       "        )\n",
       "        (bn): BatchNorm2d(64, eps=0.001, momentum=0.01, affine=True, track_running_stats=True)\n",
       "      )\n",
       "      (conv7_down): SeparableConvBlock(\n",
       "        (depthwise_conv): Conv2dStaticSamePadding(\n",
       "          (conv): Conv2d(64, 64, kernel_size=(3, 3), stride=(1, 1), groups=64, bias=False)\n",
       "        )\n",
       "        (pointwise_conv): Conv2dStaticSamePadding(\n",
       "          (conv): Conv2d(64, 64, kernel_size=(1, 1), stride=(1, 1))\n",
       "        )\n",
       "        (bn): BatchNorm2d(64, eps=0.001, momentum=0.01, affine=True, track_running_stats=True)\n",
       "      )\n",
       "      (p6_upsample): Upsample(scale_factor=2.0, mode=nearest)\n",
       "      (p5_upsample): Upsample(scale_factor=2.0, mode=nearest)\n",
       "      (p4_upsample): Upsample(scale_factor=2.0, mode=nearest)\n",
       "      (p3_upsample): Upsample(scale_factor=2.0, mode=nearest)\n",
       "      (p4_downsample): MaxPool2dStaticSamePadding(\n",
       "        (pool): MaxPool2d(kernel_size=3, stride=2, padding=0, dilation=1, ceil_mode=False)\n",
       "      )\n",
       "      (p5_downsample): MaxPool2dStaticSamePadding(\n",
       "        (pool): MaxPool2d(kernel_size=3, stride=2, padding=0, dilation=1, ceil_mode=False)\n",
       "      )\n",
       "      (p6_downsample): MaxPool2dStaticSamePadding(\n",
       "        (pool): MaxPool2d(kernel_size=3, stride=2, padding=0, dilation=1, ceil_mode=False)\n",
       "      )\n",
       "      (p7_downsample): MaxPool2dStaticSamePadding(\n",
       "        (pool): MaxPool2d(kernel_size=3, stride=2, padding=0, dilation=1, ceil_mode=False)\n",
       "      )\n",
       "      (swish): MemoryEfficientSwish()\n",
       "      (p6_w1_relu): ReLU()\n",
       "      (p5_w1_relu): ReLU()\n",
       "      (p4_w1_relu): ReLU()\n",
       "      (p3_w1_relu): ReLU()\n",
       "      (p4_w2_relu): ReLU()\n",
       "      (p5_w2_relu): ReLU()\n",
       "      (p6_w2_relu): ReLU()\n",
       "      (p7_w2_relu): ReLU()\n",
       "    )\n",
       "    (2): BiFPN(\n",
       "      (conv6_up): SeparableConvBlock(\n",
       "        (depthwise_conv): Conv2dStaticSamePadding(\n",
       "          (conv): Conv2d(64, 64, kernel_size=(3, 3), stride=(1, 1), groups=64, bias=False)\n",
       "        )\n",
       "        (pointwise_conv): Conv2dStaticSamePadding(\n",
       "          (conv): Conv2d(64, 64, kernel_size=(1, 1), stride=(1, 1))\n",
       "        )\n",
       "        (bn): BatchNorm2d(64, eps=0.001, momentum=0.01, affine=True, track_running_stats=True)\n",
       "      )\n",
       "      (conv5_up): SeparableConvBlock(\n",
       "        (depthwise_conv): Conv2dStaticSamePadding(\n",
       "          (conv): Conv2d(64, 64, kernel_size=(3, 3), stride=(1, 1), groups=64, bias=False)\n",
       "        )\n",
       "        (pointwise_conv): Conv2dStaticSamePadding(\n",
       "          (conv): Conv2d(64, 64, kernel_size=(1, 1), stride=(1, 1))\n",
       "        )\n",
       "        (bn): BatchNorm2d(64, eps=0.001, momentum=0.01, affine=True, track_running_stats=True)\n",
       "      )\n",
       "      (conv4_up): SeparableConvBlock(\n",
       "        (depthwise_conv): Conv2dStaticSamePadding(\n",
       "          (conv): Conv2d(64, 64, kernel_size=(3, 3), stride=(1, 1), groups=64, bias=False)\n",
       "        )\n",
       "        (pointwise_conv): Conv2dStaticSamePadding(\n",
       "          (conv): Conv2d(64, 64, kernel_size=(1, 1), stride=(1, 1))\n",
       "        )\n",
       "        (bn): BatchNorm2d(64, eps=0.001, momentum=0.01, affine=True, track_running_stats=True)\n",
       "      )\n",
       "      (conv3_up): SeparableConvBlock(\n",
       "        (depthwise_conv): Conv2dStaticSamePadding(\n",
       "          (conv): Conv2d(64, 64, kernel_size=(3, 3), stride=(1, 1), groups=64, bias=False)\n",
       "        )\n",
       "        (pointwise_conv): Conv2dStaticSamePadding(\n",
       "          (conv): Conv2d(64, 64, kernel_size=(1, 1), stride=(1, 1))\n",
       "        )\n",
       "        (bn): BatchNorm2d(64, eps=0.001, momentum=0.01, affine=True, track_running_stats=True)\n",
       "      )\n",
       "      (conv4_down): SeparableConvBlock(\n",
       "        (depthwise_conv): Conv2dStaticSamePadding(\n",
       "          (conv): Conv2d(64, 64, kernel_size=(3, 3), stride=(1, 1), groups=64, bias=False)\n",
       "        )\n",
       "        (pointwise_conv): Conv2dStaticSamePadding(\n",
       "          (conv): Conv2d(64, 64, kernel_size=(1, 1), stride=(1, 1))\n",
       "        )\n",
       "        (bn): BatchNorm2d(64, eps=0.001, momentum=0.01, affine=True, track_running_stats=True)\n",
       "      )\n",
       "      (conv5_down): SeparableConvBlock(\n",
       "        (depthwise_conv): Conv2dStaticSamePadding(\n",
       "          (conv): Conv2d(64, 64, kernel_size=(3, 3), stride=(1, 1), groups=64, bias=False)\n",
       "        )\n",
       "        (pointwise_conv): Conv2dStaticSamePadding(\n",
       "          (conv): Conv2d(64, 64, kernel_size=(1, 1), stride=(1, 1))\n",
       "        )\n",
       "        (bn): BatchNorm2d(64, eps=0.001, momentum=0.01, affine=True, track_running_stats=True)\n",
       "      )\n",
       "      (conv6_down): SeparableConvBlock(\n",
       "        (depthwise_conv): Conv2dStaticSamePadding(\n",
       "          (conv): Conv2d(64, 64, kernel_size=(3, 3), stride=(1, 1), groups=64, bias=False)\n",
       "        )\n",
       "        (pointwise_conv): Conv2dStaticSamePadding(\n",
       "          (conv): Conv2d(64, 64, kernel_size=(1, 1), stride=(1, 1))\n",
       "        )\n",
       "        (bn): BatchNorm2d(64, eps=0.001, momentum=0.01, affine=True, track_running_stats=True)\n",
       "      )\n",
       "      (conv7_down): SeparableConvBlock(\n",
       "        (depthwise_conv): Conv2dStaticSamePadding(\n",
       "          (conv): Conv2d(64, 64, kernel_size=(3, 3), stride=(1, 1), groups=64, bias=False)\n",
       "        )\n",
       "        (pointwise_conv): Conv2dStaticSamePadding(\n",
       "          (conv): Conv2d(64, 64, kernel_size=(1, 1), stride=(1, 1))\n",
       "        )\n",
       "        (bn): BatchNorm2d(64, eps=0.001, momentum=0.01, affine=True, track_running_stats=True)\n",
       "      )\n",
       "      (p6_upsample): Upsample(scale_factor=2.0, mode=nearest)\n",
       "      (p5_upsample): Upsample(scale_factor=2.0, mode=nearest)\n",
       "      (p4_upsample): Upsample(scale_factor=2.0, mode=nearest)\n",
       "      (p3_upsample): Upsample(scale_factor=2.0, mode=nearest)\n",
       "      (p4_downsample): MaxPool2dStaticSamePadding(\n",
       "        (pool): MaxPool2d(kernel_size=3, stride=2, padding=0, dilation=1, ceil_mode=False)\n",
       "      )\n",
       "      (p5_downsample): MaxPool2dStaticSamePadding(\n",
       "        (pool): MaxPool2d(kernel_size=3, stride=2, padding=0, dilation=1, ceil_mode=False)\n",
       "      )\n",
       "      (p6_downsample): MaxPool2dStaticSamePadding(\n",
       "        (pool): MaxPool2d(kernel_size=3, stride=2, padding=0, dilation=1, ceil_mode=False)\n",
       "      )\n",
       "      (p7_downsample): MaxPool2dStaticSamePadding(\n",
       "        (pool): MaxPool2d(kernel_size=3, stride=2, padding=0, dilation=1, ceil_mode=False)\n",
       "      )\n",
       "      (swish): MemoryEfficientSwish()\n",
       "      (p6_w1_relu): ReLU()\n",
       "      (p5_w1_relu): ReLU()\n",
       "      (p4_w1_relu): ReLU()\n",
       "      (p3_w1_relu): ReLU()\n",
       "      (p4_w2_relu): ReLU()\n",
       "      (p5_w2_relu): ReLU()\n",
       "      (p6_w2_relu): ReLU()\n",
       "      (p7_w2_relu): ReLU()\n",
       "    )\n",
       "  )\n",
       "  (regressor): Regressor(\n",
       "    (conv_list): ModuleList(\n",
       "      (0): SeparableConvBlock(\n",
       "        (depthwise_conv): Conv2dStaticSamePadding(\n",
       "          (conv): Conv2d(64, 64, kernel_size=(3, 3), stride=(1, 1), groups=64, bias=False)\n",
       "        )\n",
       "        (pointwise_conv): Conv2dStaticSamePadding(\n",
       "          (conv): Conv2d(64, 64, kernel_size=(1, 1), stride=(1, 1))\n",
       "        )\n",
       "      )\n",
       "      (1): SeparableConvBlock(\n",
       "        (depthwise_conv): Conv2dStaticSamePadding(\n",
       "          (conv): Conv2d(64, 64, kernel_size=(3, 3), stride=(1, 1), groups=64, bias=False)\n",
       "        )\n",
       "        (pointwise_conv): Conv2dStaticSamePadding(\n",
       "          (conv): Conv2d(64, 64, kernel_size=(1, 1), stride=(1, 1))\n",
       "        )\n",
       "      )\n",
       "      (2): SeparableConvBlock(\n",
       "        (depthwise_conv): Conv2dStaticSamePadding(\n",
       "          (conv): Conv2d(64, 64, kernel_size=(3, 3), stride=(1, 1), groups=64, bias=False)\n",
       "        )\n",
       "        (pointwise_conv): Conv2dStaticSamePadding(\n",
       "          (conv): Conv2d(64, 64, kernel_size=(1, 1), stride=(1, 1))\n",
       "        )\n",
       "      )\n",
       "    )\n",
       "    (bn_list): ModuleList(\n",
       "      (0): ModuleList(\n",
       "        (0): BatchNorm2d(64, eps=0.001, momentum=0.01, affine=True, track_running_stats=True)\n",
       "        (1): BatchNorm2d(64, eps=0.001, momentum=0.01, affine=True, track_running_stats=True)\n",
       "        (2): BatchNorm2d(64, eps=0.001, momentum=0.01, affine=True, track_running_stats=True)\n",
       "      )\n",
       "      (1): ModuleList(\n",
       "        (0): BatchNorm2d(64, eps=0.001, momentum=0.01, affine=True, track_running_stats=True)\n",
       "        (1): BatchNorm2d(64, eps=0.001, momentum=0.01, affine=True, track_running_stats=True)\n",
       "        (2): BatchNorm2d(64, eps=0.001, momentum=0.01, affine=True, track_running_stats=True)\n",
       "      )\n",
       "      (2): ModuleList(\n",
       "        (0): BatchNorm2d(64, eps=0.001, momentum=0.01, affine=True, track_running_stats=True)\n",
       "        (1): BatchNorm2d(64, eps=0.001, momentum=0.01, affine=True, track_running_stats=True)\n",
       "        (2): BatchNorm2d(64, eps=0.001, momentum=0.01, affine=True, track_running_stats=True)\n",
       "      )\n",
       "      (3): ModuleList(\n",
       "        (0): BatchNorm2d(64, eps=0.001, momentum=0.01, affine=True, track_running_stats=True)\n",
       "        (1): BatchNorm2d(64, eps=0.001, momentum=0.01, affine=True, track_running_stats=True)\n",
       "        (2): BatchNorm2d(64, eps=0.001, momentum=0.01, affine=True, track_running_stats=True)\n",
       "      )\n",
       "      (4): ModuleList(\n",
       "        (0): BatchNorm2d(64, eps=0.001, momentum=0.01, affine=True, track_running_stats=True)\n",
       "        (1): BatchNorm2d(64, eps=0.001, momentum=0.01, affine=True, track_running_stats=True)\n",
       "        (2): BatchNorm2d(64, eps=0.001, momentum=0.01, affine=True, track_running_stats=True)\n",
       "      )\n",
       "    )\n",
       "    (header): SeparableConvBlock(\n",
       "      (depthwise_conv): Conv2dStaticSamePadding(\n",
       "        (conv): Conv2d(64, 64, kernel_size=(3, 3), stride=(1, 1), groups=64, bias=False)\n",
       "      )\n",
       "      (pointwise_conv): Conv2dStaticSamePadding(\n",
       "        (conv): Conv2d(64, 36, kernel_size=(1, 1), stride=(1, 1))\n",
       "      )\n",
       "    )\n",
       "    (swish): MemoryEfficientSwish()\n",
       "  )\n",
       "  (classifier): Classifier(\n",
       "    (conv_list): ModuleList(\n",
       "      (0): SeparableConvBlock(\n",
       "        (depthwise_conv): Conv2dStaticSamePadding(\n",
       "          (conv): Conv2d(64, 64, kernel_size=(3, 3), stride=(1, 1), groups=64, bias=False)\n",
       "        )\n",
       "        (pointwise_conv): Conv2dStaticSamePadding(\n",
       "          (conv): Conv2d(64, 64, kernel_size=(1, 1), stride=(1, 1))\n",
       "        )\n",
       "      )\n",
       "      (1): SeparableConvBlock(\n",
       "        (depthwise_conv): Conv2dStaticSamePadding(\n",
       "          (conv): Conv2d(64, 64, kernel_size=(3, 3), stride=(1, 1), groups=64, bias=False)\n",
       "        )\n",
       "        (pointwise_conv): Conv2dStaticSamePadding(\n",
       "          (conv): Conv2d(64, 64, kernel_size=(1, 1), stride=(1, 1))\n",
       "        )\n",
       "      )\n",
       "      (2): SeparableConvBlock(\n",
       "        (depthwise_conv): Conv2dStaticSamePadding(\n",
       "          (conv): Conv2d(64, 64, kernel_size=(3, 3), stride=(1, 1), groups=64, bias=False)\n",
       "        )\n",
       "        (pointwise_conv): Conv2dStaticSamePadding(\n",
       "          (conv): Conv2d(64, 64, kernel_size=(1, 1), stride=(1, 1))\n",
       "        )\n",
       "      )\n",
       "    )\n",
       "    (bn_list): ModuleList(\n",
       "      (0): ModuleList(\n",
       "        (0): BatchNorm2d(64, eps=0.001, momentum=0.01, affine=True, track_running_stats=True)\n",
       "        (1): BatchNorm2d(64, eps=0.001, momentum=0.01, affine=True, track_running_stats=True)\n",
       "        (2): BatchNorm2d(64, eps=0.001, momentum=0.01, affine=True, track_running_stats=True)\n",
       "      )\n",
       "      (1): ModuleList(\n",
       "        (0): BatchNorm2d(64, eps=0.001, momentum=0.01, affine=True, track_running_stats=True)\n",
       "        (1): BatchNorm2d(64, eps=0.001, momentum=0.01, affine=True, track_running_stats=True)\n",
       "        (2): BatchNorm2d(64, eps=0.001, momentum=0.01, affine=True, track_running_stats=True)\n",
       "      )\n",
       "      (2): ModuleList(\n",
       "        (0): BatchNorm2d(64, eps=0.001, momentum=0.01, affine=True, track_running_stats=True)\n",
       "        (1): BatchNorm2d(64, eps=0.001, momentum=0.01, affine=True, track_running_stats=True)\n",
       "        (2): BatchNorm2d(64, eps=0.001, momentum=0.01, affine=True, track_running_stats=True)\n",
       "      )\n",
       "      (3): ModuleList(\n",
       "        (0): BatchNorm2d(64, eps=0.001, momentum=0.01, affine=True, track_running_stats=True)\n",
       "        (1): BatchNorm2d(64, eps=0.001, momentum=0.01, affine=True, track_running_stats=True)\n",
       "        (2): BatchNorm2d(64, eps=0.001, momentum=0.01, affine=True, track_running_stats=True)\n",
       "      )\n",
       "      (4): ModuleList(\n",
       "        (0): BatchNorm2d(64, eps=0.001, momentum=0.01, affine=True, track_running_stats=True)\n",
       "        (1): BatchNorm2d(64, eps=0.001, momentum=0.01, affine=True, track_running_stats=True)\n",
       "        (2): BatchNorm2d(64, eps=0.001, momentum=0.01, affine=True, track_running_stats=True)\n",
       "      )\n",
       "    )\n",
       "    (header): SeparableConvBlock(\n",
       "      (depthwise_conv): Conv2dStaticSamePadding(\n",
       "        (conv): Conv2d(64, 64, kernel_size=(3, 3), stride=(1, 1), groups=64, bias=False)\n",
       "      )\n",
       "      (pointwise_conv): Conv2dStaticSamePadding(\n",
       "        (conv): Conv2d(64, 81, kernel_size=(1, 1), stride=(1, 1))\n",
       "      )\n",
       "    )\n",
       "    (swish): MemoryEfficientSwish()\n",
       "  )\n",
       "  (anchors): Anchors()\n",
       "  (backbone_net): EfficientNet(\n",
       "    (model): EfficientNet(\n",
       "      (_conv_stem): Conv2dStaticSamePadding(\n",
       "        (conv): Conv2d(3, 32, kernel_size=(3, 3), stride=(2, 2), bias=False)\n",
       "      )\n",
       "      (_bn0): BatchNorm2d(32, eps=0.001, momentum=0.010000000000000009, affine=True, track_running_stats=True)\n",
       "      (_blocks): ModuleList(\n",
       "        (0): MBConvBlock(\n",
       "          (_depthwise_conv): Conv2dStaticSamePadding(\n",
       "            (conv): Conv2d(32, 32, kernel_size=(3, 3), stride=[1], groups=32, bias=False)\n",
       "          )\n",
       "          (_bn1): BatchNorm2d(32, eps=0.001, momentum=0.010000000000000009, affine=True, track_running_stats=True)\n",
       "          (_se_reduce): Conv2dStaticSamePadding(\n",
       "            (conv): Conv2d(32, 8, kernel_size=(1, 1), stride=(1, 1))\n",
       "          )\n",
       "          (_se_expand): Conv2dStaticSamePadding(\n",
       "            (conv): Conv2d(8, 32, kernel_size=(1, 1), stride=(1, 1))\n",
       "          )\n",
       "          (_project_conv): Conv2dStaticSamePadding(\n",
       "            (conv): Conv2d(32, 16, kernel_size=(1, 1), stride=(1, 1), bias=False)\n",
       "          )\n",
       "          (_bn2): BatchNorm2d(16, eps=0.001, momentum=0.010000000000000009, affine=True, track_running_stats=True)\n",
       "          (_swish): MemoryEfficientSwish()\n",
       "        )\n",
       "        (1): MBConvBlock(\n",
       "          (_expand_conv): Conv2dStaticSamePadding(\n",
       "            (conv): Conv2d(16, 96, kernel_size=(1, 1), stride=(1, 1), bias=False)\n",
       "          )\n",
       "          (_bn0): BatchNorm2d(96, eps=0.001, momentum=0.010000000000000009, affine=True, track_running_stats=True)\n",
       "          (_depthwise_conv): Conv2dStaticSamePadding(\n",
       "            (conv): Conv2d(96, 96, kernel_size=(3, 3), stride=[2], groups=96, bias=False)\n",
       "          )\n",
       "          (_bn1): BatchNorm2d(96, eps=0.001, momentum=0.010000000000000009, affine=True, track_running_stats=True)\n",
       "          (_se_reduce): Conv2dStaticSamePadding(\n",
       "            (conv): Conv2d(96, 4, kernel_size=(1, 1), stride=(1, 1))\n",
       "          )\n",
       "          (_se_expand): Conv2dStaticSamePadding(\n",
       "            (conv): Conv2d(4, 96, kernel_size=(1, 1), stride=(1, 1))\n",
       "          )\n",
       "          (_project_conv): Conv2dStaticSamePadding(\n",
       "            (conv): Conv2d(96, 24, kernel_size=(1, 1), stride=(1, 1), bias=False)\n",
       "          )\n",
       "          (_bn2): BatchNorm2d(24, eps=0.001, momentum=0.010000000000000009, affine=True, track_running_stats=True)\n",
       "          (_swish): MemoryEfficientSwish()\n",
       "        )\n",
       "        (2): MBConvBlock(\n",
       "          (_expand_conv): Conv2dStaticSamePadding(\n",
       "            (conv): Conv2d(24, 144, kernel_size=(1, 1), stride=(1, 1), bias=False)\n",
       "          )\n",
       "          (_bn0): BatchNorm2d(144, eps=0.001, momentum=0.010000000000000009, affine=True, track_running_stats=True)\n",
       "          (_depthwise_conv): Conv2dStaticSamePadding(\n",
       "            (conv): Conv2d(144, 144, kernel_size=(3, 3), stride=(1, 1), groups=144, bias=False)\n",
       "          )\n",
       "          (_bn1): BatchNorm2d(144, eps=0.001, momentum=0.010000000000000009, affine=True, track_running_stats=True)\n",
       "          (_se_reduce): Conv2dStaticSamePadding(\n",
       "            (conv): Conv2d(144, 6, kernel_size=(1, 1), stride=(1, 1))\n",
       "          )\n",
       "          (_se_expand): Conv2dStaticSamePadding(\n",
       "            (conv): Conv2d(6, 144, kernel_size=(1, 1), stride=(1, 1))\n",
       "          )\n",
       "          (_project_conv): Conv2dStaticSamePadding(\n",
       "            (conv): Conv2d(144, 24, kernel_size=(1, 1), stride=(1, 1), bias=False)\n",
       "          )\n",
       "          (_bn2): BatchNorm2d(24, eps=0.001, momentum=0.010000000000000009, affine=True, track_running_stats=True)\n",
       "          (_swish): MemoryEfficientSwish()\n",
       "        )\n",
       "        (3): MBConvBlock(\n",
       "          (_expand_conv): Conv2dStaticSamePadding(\n",
       "            (conv): Conv2d(24, 144, kernel_size=(1, 1), stride=(1, 1), bias=False)\n",
       "          )\n",
       "          (_bn0): BatchNorm2d(144, eps=0.001, momentum=0.010000000000000009, affine=True, track_running_stats=True)\n",
       "          (_depthwise_conv): Conv2dStaticSamePadding(\n",
       "            (conv): Conv2d(144, 144, kernel_size=(5, 5), stride=[2], groups=144, bias=False)\n",
       "          )\n",
       "          (_bn1): BatchNorm2d(144, eps=0.001, momentum=0.010000000000000009, affine=True, track_running_stats=True)\n",
       "          (_se_reduce): Conv2dStaticSamePadding(\n",
       "            (conv): Conv2d(144, 6, kernel_size=(1, 1), stride=(1, 1))\n",
       "          )\n",
       "          (_se_expand): Conv2dStaticSamePadding(\n",
       "            (conv): Conv2d(6, 144, kernel_size=(1, 1), stride=(1, 1))\n",
       "          )\n",
       "          (_project_conv): Conv2dStaticSamePadding(\n",
       "            (conv): Conv2d(144, 40, kernel_size=(1, 1), stride=(1, 1), bias=False)\n",
       "          )\n",
       "          (_bn2): BatchNorm2d(40, eps=0.001, momentum=0.010000000000000009, affine=True, track_running_stats=True)\n",
       "          (_swish): MemoryEfficientSwish()\n",
       "        )\n",
       "        (4): MBConvBlock(\n",
       "          (_expand_conv): Conv2dStaticSamePadding(\n",
       "            (conv): Conv2d(40, 240, kernel_size=(1, 1), stride=(1, 1), bias=False)\n",
       "          )\n",
       "          (_bn0): BatchNorm2d(240, eps=0.001, momentum=0.010000000000000009, affine=True, track_running_stats=True)\n",
       "          (_depthwise_conv): Conv2dStaticSamePadding(\n",
       "            (conv): Conv2d(240, 240, kernel_size=(5, 5), stride=(1, 1), groups=240, bias=False)\n",
       "          )\n",
       "          (_bn1): BatchNorm2d(240, eps=0.001, momentum=0.010000000000000009, affine=True, track_running_stats=True)\n",
       "          (_se_reduce): Conv2dStaticSamePadding(\n",
       "            (conv): Conv2d(240, 10, kernel_size=(1, 1), stride=(1, 1))\n",
       "          )\n",
       "          (_se_expand): Conv2dStaticSamePadding(\n",
       "            (conv): Conv2d(10, 240, kernel_size=(1, 1), stride=(1, 1))\n",
       "          )\n",
       "          (_project_conv): Conv2dStaticSamePadding(\n",
       "            (conv): Conv2d(240, 40, kernel_size=(1, 1), stride=(1, 1), bias=False)\n",
       "          )\n",
       "          (_bn2): BatchNorm2d(40, eps=0.001, momentum=0.010000000000000009, affine=True, track_running_stats=True)\n",
       "          (_swish): MemoryEfficientSwish()\n",
       "        )\n",
       "        (5): MBConvBlock(\n",
       "          (_expand_conv): Conv2dStaticSamePadding(\n",
       "            (conv): Conv2d(40, 240, kernel_size=(1, 1), stride=(1, 1), bias=False)\n",
       "          )\n",
       "          (_bn0): BatchNorm2d(240, eps=0.001, momentum=0.010000000000000009, affine=True, track_running_stats=True)\n",
       "          (_depthwise_conv): Conv2dStaticSamePadding(\n",
       "            (conv): Conv2d(240, 240, kernel_size=(3, 3), stride=[2], groups=240, bias=False)\n",
       "          )\n",
       "          (_bn1): BatchNorm2d(240, eps=0.001, momentum=0.010000000000000009, affine=True, track_running_stats=True)\n",
       "          (_se_reduce): Conv2dStaticSamePadding(\n",
       "            (conv): Conv2d(240, 10, kernel_size=(1, 1), stride=(1, 1))\n",
       "          )\n",
       "          (_se_expand): Conv2dStaticSamePadding(\n",
       "            (conv): Conv2d(10, 240, kernel_size=(1, 1), stride=(1, 1))\n",
       "          )\n",
       "          (_project_conv): Conv2dStaticSamePadding(\n",
       "            (conv): Conv2d(240, 80, kernel_size=(1, 1), stride=(1, 1), bias=False)\n",
       "          )\n",
       "          (_bn2): BatchNorm2d(80, eps=0.001, momentum=0.010000000000000009, affine=True, track_running_stats=True)\n",
       "          (_swish): MemoryEfficientSwish()\n",
       "        )\n",
       "        (6): MBConvBlock(\n",
       "          (_expand_conv): Conv2dStaticSamePadding(\n",
       "            (conv): Conv2d(80, 480, kernel_size=(1, 1), stride=(1, 1), bias=False)\n",
       "          )\n",
       "          (_bn0): BatchNorm2d(480, eps=0.001, momentum=0.010000000000000009, affine=True, track_running_stats=True)\n",
       "          (_depthwise_conv): Conv2dStaticSamePadding(\n",
       "            (conv): Conv2d(480, 480, kernel_size=(3, 3), stride=(1, 1), groups=480, bias=False)\n",
       "          )\n",
       "          (_bn1): BatchNorm2d(480, eps=0.001, momentum=0.010000000000000009, affine=True, track_running_stats=True)\n",
       "          (_se_reduce): Conv2dStaticSamePadding(\n",
       "            (conv): Conv2d(480, 20, kernel_size=(1, 1), stride=(1, 1))\n",
       "          )\n",
       "          (_se_expand): Conv2dStaticSamePadding(\n",
       "            (conv): Conv2d(20, 480, kernel_size=(1, 1), stride=(1, 1))\n",
       "          )\n",
       "          (_project_conv): Conv2dStaticSamePadding(\n",
       "            (conv): Conv2d(480, 80, kernel_size=(1, 1), stride=(1, 1), bias=False)\n",
       "          )\n",
       "          (_bn2): BatchNorm2d(80, eps=0.001, momentum=0.010000000000000009, affine=True, track_running_stats=True)\n",
       "          (_swish): MemoryEfficientSwish()\n",
       "        )\n",
       "        (7): MBConvBlock(\n",
       "          (_expand_conv): Conv2dStaticSamePadding(\n",
       "            (conv): Conv2d(80, 480, kernel_size=(1, 1), stride=(1, 1), bias=False)\n",
       "          )\n",
       "          (_bn0): BatchNorm2d(480, eps=0.001, momentum=0.010000000000000009, affine=True, track_running_stats=True)\n",
       "          (_depthwise_conv): Conv2dStaticSamePadding(\n",
       "            (conv): Conv2d(480, 480, kernel_size=(3, 3), stride=(1, 1), groups=480, bias=False)\n",
       "          )\n",
       "          (_bn1): BatchNorm2d(480, eps=0.001, momentum=0.010000000000000009, affine=True, track_running_stats=True)\n",
       "          (_se_reduce): Conv2dStaticSamePadding(\n",
       "            (conv): Conv2d(480, 20, kernel_size=(1, 1), stride=(1, 1))\n",
       "          )\n",
       "          (_se_expand): Conv2dStaticSamePadding(\n",
       "            (conv): Conv2d(20, 480, kernel_size=(1, 1), stride=(1, 1))\n",
       "          )\n",
       "          (_project_conv): Conv2dStaticSamePadding(\n",
       "            (conv): Conv2d(480, 80, kernel_size=(1, 1), stride=(1, 1), bias=False)\n",
       "          )\n",
       "          (_bn2): BatchNorm2d(80, eps=0.001, momentum=0.010000000000000009, affine=True, track_running_stats=True)\n",
       "          (_swish): MemoryEfficientSwish()\n",
       "        )\n",
       "        (8): MBConvBlock(\n",
       "          (_expand_conv): Conv2dStaticSamePadding(\n",
       "            (conv): Conv2d(80, 480, kernel_size=(1, 1), stride=(1, 1), bias=False)\n",
       "          )\n",
       "          (_bn0): BatchNorm2d(480, eps=0.001, momentum=0.010000000000000009, affine=True, track_running_stats=True)\n",
       "          (_depthwise_conv): Conv2dStaticSamePadding(\n",
       "            (conv): Conv2d(480, 480, kernel_size=(5, 5), stride=[1], groups=480, bias=False)\n",
       "          )\n",
       "          (_bn1): BatchNorm2d(480, eps=0.001, momentum=0.010000000000000009, affine=True, track_running_stats=True)\n",
       "          (_se_reduce): Conv2dStaticSamePadding(\n",
       "            (conv): Conv2d(480, 20, kernel_size=(1, 1), stride=(1, 1))\n",
       "          )\n",
       "          (_se_expand): Conv2dStaticSamePadding(\n",
       "            (conv): Conv2d(20, 480, kernel_size=(1, 1), stride=(1, 1))\n",
       "          )\n",
       "          (_project_conv): Conv2dStaticSamePadding(\n",
       "            (conv): Conv2d(480, 112, kernel_size=(1, 1), stride=(1, 1), bias=False)\n",
       "          )\n",
       "          (_bn2): BatchNorm2d(112, eps=0.001, momentum=0.010000000000000009, affine=True, track_running_stats=True)\n",
       "          (_swish): MemoryEfficientSwish()\n",
       "        )\n",
       "        (9): MBConvBlock(\n",
       "          (_expand_conv): Conv2dStaticSamePadding(\n",
       "            (conv): Conv2d(112, 672, kernel_size=(1, 1), stride=(1, 1), bias=False)\n",
       "          )\n",
       "          (_bn0): BatchNorm2d(672, eps=0.001, momentum=0.010000000000000009, affine=True, track_running_stats=True)\n",
       "          (_depthwise_conv): Conv2dStaticSamePadding(\n",
       "            (conv): Conv2d(672, 672, kernel_size=(5, 5), stride=(1, 1), groups=672, bias=False)\n",
       "          )\n",
       "          (_bn1): BatchNorm2d(672, eps=0.001, momentum=0.010000000000000009, affine=True, track_running_stats=True)\n",
       "          (_se_reduce): Conv2dStaticSamePadding(\n",
       "            (conv): Conv2d(672, 28, kernel_size=(1, 1), stride=(1, 1))\n",
       "          )\n",
       "          (_se_expand): Conv2dStaticSamePadding(\n",
       "            (conv): Conv2d(28, 672, kernel_size=(1, 1), stride=(1, 1))\n",
       "          )\n",
       "          (_project_conv): Conv2dStaticSamePadding(\n",
       "            (conv): Conv2d(672, 112, kernel_size=(1, 1), stride=(1, 1), bias=False)\n",
       "          )\n",
       "          (_bn2): BatchNorm2d(112, eps=0.001, momentum=0.010000000000000009, affine=True, track_running_stats=True)\n",
       "          (_swish): MemoryEfficientSwish()\n",
       "        )\n",
       "        (10): MBConvBlock(\n",
       "          (_expand_conv): Conv2dStaticSamePadding(\n",
       "            (conv): Conv2d(112, 672, kernel_size=(1, 1), stride=(1, 1), bias=False)\n",
       "          )\n",
       "          (_bn0): BatchNorm2d(672, eps=0.001, momentum=0.010000000000000009, affine=True, track_running_stats=True)\n",
       "          (_depthwise_conv): Conv2dStaticSamePadding(\n",
       "            (conv): Conv2d(672, 672, kernel_size=(5, 5), stride=(1, 1), groups=672, bias=False)\n",
       "          )\n",
       "          (_bn1): BatchNorm2d(672, eps=0.001, momentum=0.010000000000000009, affine=True, track_running_stats=True)\n",
       "          (_se_reduce): Conv2dStaticSamePadding(\n",
       "            (conv): Conv2d(672, 28, kernel_size=(1, 1), stride=(1, 1))\n",
       "          )\n",
       "          (_se_expand): Conv2dStaticSamePadding(\n",
       "            (conv): Conv2d(28, 672, kernel_size=(1, 1), stride=(1, 1))\n",
       "          )\n",
       "          (_project_conv): Conv2dStaticSamePadding(\n",
       "            (conv): Conv2d(672, 112, kernel_size=(1, 1), stride=(1, 1), bias=False)\n",
       "          )\n",
       "          (_bn2): BatchNorm2d(112, eps=0.001, momentum=0.010000000000000009, affine=True, track_running_stats=True)\n",
       "          (_swish): MemoryEfficientSwish()\n",
       "        )\n",
       "        (11): MBConvBlock(\n",
       "          (_expand_conv): Conv2dStaticSamePadding(\n",
       "            (conv): Conv2d(112, 672, kernel_size=(1, 1), stride=(1, 1), bias=False)\n",
       "          )\n",
       "          (_bn0): BatchNorm2d(672, eps=0.001, momentum=0.010000000000000009, affine=True, track_running_stats=True)\n",
       "          (_depthwise_conv): Conv2dStaticSamePadding(\n",
       "            (conv): Conv2d(672, 672, kernel_size=(5, 5), stride=[2], groups=672, bias=False)\n",
       "          )\n",
       "          (_bn1): BatchNorm2d(672, eps=0.001, momentum=0.010000000000000009, affine=True, track_running_stats=True)\n",
       "          (_se_reduce): Conv2dStaticSamePadding(\n",
       "            (conv): Conv2d(672, 28, kernel_size=(1, 1), stride=(1, 1))\n",
       "          )\n",
       "          (_se_expand): Conv2dStaticSamePadding(\n",
       "            (conv): Conv2d(28, 672, kernel_size=(1, 1), stride=(1, 1))\n",
       "          )\n",
       "          (_project_conv): Conv2dStaticSamePadding(\n",
       "            (conv): Conv2d(672, 192, kernel_size=(1, 1), stride=(1, 1), bias=False)\n",
       "          )\n",
       "          (_bn2): BatchNorm2d(192, eps=0.001, momentum=0.010000000000000009, affine=True, track_running_stats=True)\n",
       "          (_swish): MemoryEfficientSwish()\n",
       "        )\n",
       "        (12): MBConvBlock(\n",
       "          (_expand_conv): Conv2dStaticSamePadding(\n",
       "            (conv): Conv2d(192, 1152, kernel_size=(1, 1), stride=(1, 1), bias=False)\n",
       "          )\n",
       "          (_bn0): BatchNorm2d(1152, eps=0.001, momentum=0.010000000000000009, affine=True, track_running_stats=True)\n",
       "          (_depthwise_conv): Conv2dStaticSamePadding(\n",
       "            (conv): Conv2d(1152, 1152, kernel_size=(5, 5), stride=(1, 1), groups=1152, bias=False)\n",
       "          )\n",
       "          (_bn1): BatchNorm2d(1152, eps=0.001, momentum=0.010000000000000009, affine=True, track_running_stats=True)\n",
       "          (_se_reduce): Conv2dStaticSamePadding(\n",
       "            (conv): Conv2d(1152, 48, kernel_size=(1, 1), stride=(1, 1))\n",
       "          )\n",
       "          (_se_expand): Conv2dStaticSamePadding(\n",
       "            (conv): Conv2d(48, 1152, kernel_size=(1, 1), stride=(1, 1))\n",
       "          )\n",
       "          (_project_conv): Conv2dStaticSamePadding(\n",
       "            (conv): Conv2d(1152, 192, kernel_size=(1, 1), stride=(1, 1), bias=False)\n",
       "          )\n",
       "          (_bn2): BatchNorm2d(192, eps=0.001, momentum=0.010000000000000009, affine=True, track_running_stats=True)\n",
       "          (_swish): MemoryEfficientSwish()\n",
       "        )\n",
       "        (13): MBConvBlock(\n",
       "          (_expand_conv): Conv2dStaticSamePadding(\n",
       "            (conv): Conv2d(192, 1152, kernel_size=(1, 1), stride=(1, 1), bias=False)\n",
       "          )\n",
       "          (_bn0): BatchNorm2d(1152, eps=0.001, momentum=0.010000000000000009, affine=True, track_running_stats=True)\n",
       "          (_depthwise_conv): Conv2dStaticSamePadding(\n",
       "            (conv): Conv2d(1152, 1152, kernel_size=(5, 5), stride=(1, 1), groups=1152, bias=False)\n",
       "          )\n",
       "          (_bn1): BatchNorm2d(1152, eps=0.001, momentum=0.010000000000000009, affine=True, track_running_stats=True)\n",
       "          (_se_reduce): Conv2dStaticSamePadding(\n",
       "            (conv): Conv2d(1152, 48, kernel_size=(1, 1), stride=(1, 1))\n",
       "          )\n",
       "          (_se_expand): Conv2dStaticSamePadding(\n",
       "            (conv): Conv2d(48, 1152, kernel_size=(1, 1), stride=(1, 1))\n",
       "          )\n",
       "          (_project_conv): Conv2dStaticSamePadding(\n",
       "            (conv): Conv2d(1152, 192, kernel_size=(1, 1), stride=(1, 1), bias=False)\n",
       "          )\n",
       "          (_bn2): BatchNorm2d(192, eps=0.001, momentum=0.010000000000000009, affine=True, track_running_stats=True)\n",
       "          (_swish): MemoryEfficientSwish()\n",
       "        )\n",
       "        (14): MBConvBlock(\n",
       "          (_expand_conv): Conv2dStaticSamePadding(\n",
       "            (conv): Conv2d(192, 1152, kernel_size=(1, 1), stride=(1, 1), bias=False)\n",
       "          )\n",
       "          (_bn0): BatchNorm2d(1152, eps=0.001, momentum=0.010000000000000009, affine=True, track_running_stats=True)\n",
       "          (_depthwise_conv): Conv2dStaticSamePadding(\n",
       "            (conv): Conv2d(1152, 1152, kernel_size=(5, 5), stride=(1, 1), groups=1152, bias=False)\n",
       "          )\n",
       "          (_bn1): BatchNorm2d(1152, eps=0.001, momentum=0.010000000000000009, affine=True, track_running_stats=True)\n",
       "          (_se_reduce): Conv2dStaticSamePadding(\n",
       "            (conv): Conv2d(1152, 48, kernel_size=(1, 1), stride=(1, 1))\n",
       "          )\n",
       "          (_se_expand): Conv2dStaticSamePadding(\n",
       "            (conv): Conv2d(48, 1152, kernel_size=(1, 1), stride=(1, 1))\n",
       "          )\n",
       "          (_project_conv): Conv2dStaticSamePadding(\n",
       "            (conv): Conv2d(1152, 192, kernel_size=(1, 1), stride=(1, 1), bias=False)\n",
       "          )\n",
       "          (_bn2): BatchNorm2d(192, eps=0.001, momentum=0.010000000000000009, affine=True, track_running_stats=True)\n",
       "          (_swish): MemoryEfficientSwish()\n",
       "        )\n",
       "        (15): MBConvBlock(\n",
       "          (_expand_conv): Conv2dStaticSamePadding(\n",
       "            (conv): Conv2d(192, 1152, kernel_size=(1, 1), stride=(1, 1), bias=False)\n",
       "          )\n",
       "          (_bn0): BatchNorm2d(1152, eps=0.001, momentum=0.010000000000000009, affine=True, track_running_stats=True)\n",
       "          (_depthwise_conv): Conv2dStaticSamePadding(\n",
       "            (conv): Conv2d(1152, 1152, kernel_size=(3, 3), stride=[1], groups=1152, bias=False)\n",
       "          )\n",
       "          (_bn1): BatchNorm2d(1152, eps=0.001, momentum=0.010000000000000009, affine=True, track_running_stats=True)\n",
       "          (_se_reduce): Conv2dStaticSamePadding(\n",
       "            (conv): Conv2d(1152, 48, kernel_size=(1, 1), stride=(1, 1))\n",
       "          )\n",
       "          (_se_expand): Conv2dStaticSamePadding(\n",
       "            (conv): Conv2d(48, 1152, kernel_size=(1, 1), stride=(1, 1))\n",
       "          )\n",
       "          (_project_conv): Conv2dStaticSamePadding(\n",
       "            (conv): Conv2d(1152, 320, kernel_size=(1, 1), stride=(1, 1), bias=False)\n",
       "          )\n",
       "          (_bn2): BatchNorm2d(320, eps=0.001, momentum=0.010000000000000009, affine=True, track_running_stats=True)\n",
       "          (_swish): MemoryEfficientSwish()\n",
       "        )\n",
       "      )\n",
       "      (_swish): MemoryEfficientSwish()\n",
       "    )\n",
       "  )\n",
       ")"
      ]
     },
     "execution_count": 94,
     "metadata": {},
     "output_type": "execute_result"
    }
   ],
   "source": [
    "model = EfficientDetBackbone(compound_coef=0, num_classes=len(obj_list),\n",
    "                                 ratios=eval(params['anchors_ratios']), scales=eval(params['anchors_scales']))\n",
    "\n",
    "model.load_state_dict(torch.load(weights_path, map_location=torch.device('cpu')))\n",
    "model.requires_grad_(False)\n",
    "model.eval()"
   ]
  },
  {
   "cell_type": "code",
   "execution_count": 95,
   "metadata": {},
   "outputs": [],
   "source": [
    "features, regression, classification, anchors = model(imgs)"
   ]
  },
  {
   "cell_type": "code",
   "execution_count": 96,
   "metadata": {},
   "outputs": [],
   "source": [
    "out = []"
   ]
  },
  {
   "cell_type": "code",
   "execution_count": 97,
   "metadata": {},
   "outputs": [],
   "source": [
    "regressBoxes = BBoxTransform()\n",
    "# use to clip the boxes to 0, width/height\n",
    "clipBoxes = ClipBoxes()"
   ]
  },
  {
   "cell_type": "code",
   "execution_count": 98,
   "metadata": {},
   "outputs": [],
   "source": [
    "transformed_anchors = regressBoxes(anchors, regression)\n",
    "    # clip the bboxes to the image size\n",
    "transformed_anchors = clipBoxes(transformed_anchors, imgs)"
   ]
  },
  {
   "cell_type": "code",
   "execution_count": 99,
   "metadata": {},
   "outputs": [],
   "source": [
    "scores = torch.max(classification, dim=2, keepdim=True)[0]\n",
    "scores_over_thresh = (scores > 0.05)[:, :, 0]"
   ]
  },
  {
   "cell_type": "code",
   "execution_count": 100,
   "metadata": {},
   "outputs": [
    {
     "data": {
      "text/plain": [
       "tensor(47332)"
      ]
     },
     "execution_count": 100,
     "metadata": {},
     "output_type": "execute_result"
    }
   ],
   "source": [
    "sum(scores_over_thresh[0])"
   ]
  },
  {
   "cell_type": "code",
   "execution_count": 101,
   "metadata": {},
   "outputs": [],
   "source": [
    "classification_per = classification[0, scores_over_thresh[0, :], ...].permute(1, 0)"
   ]
  },
  {
   "cell_type": "code",
   "execution_count": 102,
   "metadata": {},
   "outputs": [],
   "source": [
    "transformed_anchors_per = transformed_anchors[0, scores_over_thresh[0, :], ...]"
   ]
  },
  {
   "cell_type": "code",
   "execution_count": 103,
   "metadata": {},
   "outputs": [],
   "source": [
    "scores_per = scores[0, scores_over_thresh[0, :], ...]"
   ]
  },
  {
   "cell_type": "code",
   "execution_count": 104,
   "metadata": {},
   "outputs": [],
   "source": [
    "anchors_nms_idx = nms(transformed_anchors_per, scores_per[:, 0], iou_threshold=0.5)"
   ]
  },
  {
   "cell_type": "code",
   "execution_count": 105,
   "metadata": {},
   "outputs": [
    {
     "data": {
      "text/plain": [
       "torch.Size([7082])"
      ]
     },
     "execution_count": 105,
     "metadata": {},
     "output_type": "execute_result"
    }
   ],
   "source": [
    "anchors_nms_idx.shape"
   ]
  },
  {
   "cell_type": "code",
   "execution_count": 106,
   "metadata": {},
   "outputs": [],
   "source": [
    "scores_, classes_ = classification_per[:, anchors_nms_idx].max(dim=0)\n",
    "boxes_ = transformed_anchors_per[anchors_nms_idx, :]"
   ]
  },
  {
   "cell_type": "code",
   "execution_count": 107,
   "metadata": {},
   "outputs": [
    {
     "data": {
      "text/plain": [
       "tensor([2, 2, 2,  ..., 2, 2, 0])"
      ]
     },
     "execution_count": 107,
     "metadata": {},
     "output_type": "execute_result"
    }
   ],
   "source": [
    "classes_"
   ]
  },
  {
   "cell_type": "code",
   "execution_count": 108,
   "metadata": {},
   "outputs": [],
   "source": [
    "out.append({\n",
    "    'rois': boxes_.numpy(),\n",
    "    'class_ids': classes_.numpy(),\n",
    "    'scores': scores_.numpy(),\n",
    "})"
   ]
  },
  {
   "cell_type": "code",
   "execution_count": 109,
   "metadata": {
    "scrolled": false
   },
   "outputs": [
    {
     "data": {
      "text/plain": [
       "[{'rois': array([[439.92795, 381.22556, 511.     , 511.     ],\n",
       "         [472.03537, 481.1045 , 511.     , 511.     ],\n",
       "         [472.4679 , 444.46973, 511.     , 511.     ],\n",
       "         ...,\n",
       "         [472.657  , 471.33127, 494.7393 , 498.40512],\n",
       "         [159.99353, 471.6759 , 182.04697, 498.46362],\n",
       "         [458.63684, 481.59253, 511.     , 498.51135]], dtype=float32),\n",
       "  'class_ids': array([2, 2, 2, ..., 2, 2, 0]),\n",
       "  'scores': array([0.33036247, 0.31280032, 0.30678454, ..., 0.05009802, 0.0500165 ,\n",
       "         0.05001432], dtype=float32)}]"
      ]
     },
     "execution_count": 109,
     "metadata": {},
     "output_type": "execute_result"
    }
   ],
   "source": [
    "out"
   ]
  },
  {
   "cell_type": "code",
   "execution_count": null,
   "metadata": {},
   "outputs": [],
   "source": []
  },
  {
   "cell_type": "code",
   "execution_count": null,
   "metadata": {},
   "outputs": [],
   "source": []
  },
  {
   "cell_type": "code",
   "execution_count": null,
   "metadata": {},
   "outputs": [],
   "source": []
  },
  {
   "cell_type": "code",
   "execution_count": null,
   "metadata": {},
   "outputs": [],
   "source": []
  },
  {
   "cell_type": "code",
   "execution_count": null,
   "metadata": {},
   "outputs": [],
   "source": []
  },
  {
   "cell_type": "code",
   "execution_count": null,
   "metadata": {},
   "outputs": [],
   "source": []
  },
  {
   "cell_type": "code",
   "execution_count": null,
   "metadata": {},
   "outputs": [],
   "source": []
  },
  {
   "cell_type": "code",
   "execution_count": 37,
   "metadata": {},
   "outputs": [
    {
     "data": {
      "text/plain": [
       "torch.Size([49104, 1])"
      ]
     },
     "execution_count": 37,
     "metadata": {},
     "output_type": "execute_result"
    }
   ],
   "source": [
    "scores.shape"
   ]
  },
  {
   "cell_type": "code",
   "execution_count": 32,
   "metadata": {},
   "outputs": [],
   "source": [
    "scores_over_thresh = (scores > 0.05)[ :, 0]"
   ]
  },
  {
   "cell_type": "code",
   "execution_count": 33,
   "metadata": {},
   "outputs": [
    {
     "data": {
      "text/plain": [
       "torch.Size([49104])"
      ]
     },
     "execution_count": 33,
     "metadata": {},
     "output_type": "execute_result"
    }
   ],
   "source": [
    "scores_over_thresh.shape"
   ]
  },
  {
   "cell_type": "code",
   "execution_count": 34,
   "metadata": {},
   "outputs": [
    {
     "data": {
      "text/plain": [
       "tensor(49104)"
      ]
     },
     "execution_count": 34,
     "metadata": {},
     "output_type": "execute_result"
    }
   ],
   "source": [
    "sum(scores_over_thresh)"
   ]
  },
  {
   "cell_type": "code",
   "execution_count": 35,
   "metadata": {},
   "outputs": [
    {
     "ename": "IndexError",
     "evalue": "too many indices for tensor of dimension 1",
     "output_type": "error",
     "traceback": [
      "\u001b[0;31m---------------------------------------------------------------------------\u001b[0m",
      "\u001b[0;31mIndexError\u001b[0m                                Traceback (most recent call last)",
      "\u001b[0;32m<ipython-input-35-2bca75fc5968>\u001b[0m in \u001b[0;36m<module>\u001b[0;34m\u001b[0m\n\u001b[0;32m----> 1\u001b[0;31m \u001b[0mscores\u001b[0m\u001b[0;34m[\u001b[0m\u001b[0;36m0\u001b[0m\u001b[0;34m,\u001b[0m \u001b[0mscores_over_thresh\u001b[0m\u001b[0;34m[\u001b[0m\u001b[0;36m0\u001b[0m\u001b[0;34m,\u001b[0m \u001b[0;34m:\u001b[0m\u001b[0;34m]\u001b[0m\u001b[0;34m,\u001b[0m \u001b[0;34m...\u001b[0m\u001b[0;34m]\u001b[0m\u001b[0;34m\u001b[0m\u001b[0;34m\u001b[0m\u001b[0m\n\u001b[0m",
      "\u001b[0;31mIndexError\u001b[0m: too many indices for tensor of dimension 1"
     ]
    }
   ],
   "source": [
    "scores[0, scores_over_thresh[0, :], ...]"
   ]
  },
  {
   "cell_type": "code",
   "execution_count": null,
   "metadata": {},
   "outputs": [],
   "source": []
  },
  {
   "cell_type": "code",
   "execution_count": null,
   "metadata": {},
   "outputs": [],
   "source": []
  },
  {
   "cell_type": "code",
   "execution_count": null,
   "metadata": {},
   "outputs": [],
   "source": []
  },
  {
   "cell_type": "code",
   "execution_count": null,
   "metadata": {},
   "outputs": [],
   "source": [
    "regressBoxes = BBoxTransform()\n",
    "# use to clip the boxes to 0, width/height\n",
    "clipBoxes = ClipBoxes()"
   ]
  },
  {
   "cell_type": "code",
   "execution_count": null,
   "metadata": {},
   "outputs": [],
   "source": [
    "transformed_anchors = regressBoxes(anchors, regression)"
   ]
  },
  {
   "cell_type": "code",
   "execution_count": null,
   "metadata": {},
   "outputs": [],
   "source": [
    "anchors"
   ]
  },
  {
   "cell_type": "code",
   "execution_count": null,
   "metadata": {},
   "outputs": [],
   "source": [
    "regression"
   ]
  },
  {
   "cell_type": "code",
   "execution_count": null,
   "metadata": {},
   "outputs": [],
   "source": [
    "transformed_anchors"
   ]
  },
  {
   "cell_type": "code",
   "execution_count": 39,
   "metadata": {},
   "outputs": [
    {
     "data": {
      "text/plain": [
       "torch.Size([2, 3, 512, 512])"
      ]
     },
     "execution_count": 39,
     "metadata": {},
     "output_type": "execute_result"
    }
   ],
   "source": [
    "imgs.shape"
   ]
  },
  {
   "cell_type": "code",
   "execution_count": null,
   "metadata": {},
   "outputs": [],
   "source": [
    "transformed_anchors_ = clipBoxes(transformed_anchors, imgs)"
   ]
  },
  {
   "cell_type": "code",
   "execution_count": null,
   "metadata": {},
   "outputs": [],
   "source": [
    "transformed_anchors_"
   ]
  },
  {
   "cell_type": "code",
   "execution_count": null,
   "metadata": {},
   "outputs": [],
   "source": []
  }
 ],
 "metadata": {
  "kernelspec": {
   "display_name": "Python 3",
   "language": "python",
   "name": "python3"
  },
  "language_info": {
   "codemirror_mode": {
    "name": "ipython",
    "version": 3
   },
   "file_extension": ".py",
   "mimetype": "text/x-python",
   "name": "python",
   "nbconvert_exporter": "python",
   "pygments_lexer": "ipython3",
   "version": "3.7.6"
  }
 },
 "nbformat": 4,
 "nbformat_minor": 4
}
