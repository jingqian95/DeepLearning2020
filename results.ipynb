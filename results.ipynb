{
 "cells": [
  {
   "cell_type": "code",
   "execution_count": 442,
   "metadata": {},
   "outputs": [],
   "source": [
    "import pandas as pd\n",
    "import numpy as np\n",
    "import matplotlib\n",
    "import matplotlib.pyplot as plt\n",
    "from shapely.geometry import Polygon"
   ]
  },
  {
   "cell_type": "markdown",
   "metadata": {},
   "source": [
    "## Import Truth, Pred CSV"
   ]
  },
  {
   "cell_type": "code",
   "execution_count": 494,
   "metadata": {},
   "outputs": [],
   "source": [
    "pred = pd.read_csv('/Users/mjin/Desktop/1008/Project/DeepLearning2020/saved/dl2020/dl2020_0501-220326_coef2/evaluation_result_best-efficientdet-d2_21909_val_132_133_0.05_0.5.csv')\n",
    "truth = pd.read_csv('datasets/dl2020/annotation_newfeat_2.csv')"
   ]
  },
  {
   "cell_type": "markdown",
   "metadata": {},
   "source": [
    "## Scale Pred "
   ]
  },
  {
   "cell_type": "code",
   "execution_count": 495,
   "metadata": {},
   "outputs": [],
   "source": [
    "pred['x_pred'], pred['y_pred'], pred['w_pred'], pred['h_pred'] = [float(i.split(',')[0][1:]) for i in pred['bbox']], [float(i.split(',')[1]) for i in pred['bbox']], [float(i.split(',')[2]) for i in pred['bbox']], [float(i.split(',')[3][:-1]) for i in pred['bbox']]\n",
    "\n",
    "pred['box_width'] = pred['w_pred']/612*80\n",
    "pred['box_height'] = pred['h_pred']/768*80\n",
    "\n",
    "pred['center_x'] = pred['x_pred']/612*80 + pred['box_width']/2 - 40\n",
    "pred['center_y'] = 40 - pred['y_pred']/768*80 - pred['box_height']/2\n",
    "\n",
    "pred.category_id -= 1\n"
   ]
  },
  {
   "cell_type": "markdown",
   "metadata": {},
   "source": [
    "# Get a sample and boxes"
   ]
  },
  {
   "cell_type": "code",
   "execution_count": 536,
   "metadata": {},
   "outputs": [],
   "source": [
    "def get_sample_boxes(scene, sample, pred, truth):\n",
    "    \n",
    "    pred = pred[pred.score > 0.055]\n",
    "    \n",
    "    pred_sample = pred[pred['scene_id'] == scene][pred['sample_id'] == sample]\n",
    "    truth_sample = truth[truth['scene'] == scene][truth['sample'] == sample]\n",
    "    \n",
    "    truth_corners = truth_sample[['fl_x', 'fr_x', 'bl_x', 'br_x', 'fl_y', 'fr_y','bl_y', 'br_y']].to_numpy()\n",
    "    \n",
    "    pred_corners = np.array([pred_sample.center_x + pred_sample.box_width/2, pred_sample.center_x + pred_sample.box_width/2,\\\n",
    "        pred_sample.center_x - pred_sample.box_width/2, pred_sample.center_x - pred_sample.box_width/2,\\\n",
    "        pred_sample.center_y + pred_sample.box_height/2, pred_sample.center_y - pred_sample.box_height/2,\\\n",
    "        pred_sample.center_y + pred_sample.box_height/2, pred_sample.center_y - pred_sample.box_height/2]).T\n",
    "    \n",
    "    \n",
    "    truth_boxes = torch.as_tensor(truth_corners).view(-1, 2, 4)\n",
    "    pred_boxes = torch.as_tensor(pred_corners).view(-1, 2, 4)\n",
    "    \n",
    "    return pred_sample, truth_sample, pred_boxes, truth_boxes\n",
    "    \n",
    "    "
   ]
  },
  {
   "cell_type": "code",
   "execution_count": 537,
   "metadata": {},
   "outputs": [
    {
     "name": "stderr",
     "output_type": "stream",
     "text": [
      "/Users/mjin/anaconda3/lib/python3.7/site-packages/ipykernel_launcher.py:5: UserWarning: Boolean Series key will be reindexed to match DataFrame index.\n",
      "  \"\"\"\n",
      "/Users/mjin/anaconda3/lib/python3.7/site-packages/ipykernel_launcher.py:6: UserWarning: Boolean Series key will be reindexed to match DataFrame index.\n",
      "  \n"
     ]
    }
   ],
   "source": [
    "pred_sample, truth_sample, pred_boxes, truth_boxes = get_sample_boxes(132, 100, pred, truth)"
   ]
  },
  {
   "cell_type": "code",
   "execution_count": 538,
   "metadata": {},
   "outputs": [
    {
     "data": {
      "text/plain": [
       "(35, 31)"
      ]
     },
     "execution_count": 538,
     "metadata": {},
     "output_type": "execute_result"
    }
   ],
   "source": [
    "truth_sample.shape"
   ]
  },
  {
   "cell_type": "code",
   "execution_count": 539,
   "metadata": {},
   "outputs": [
    {
     "data": {
      "text/plain": [
       "(93, 14)"
      ]
     },
     "execution_count": 539,
     "metadata": {},
     "output_type": "execute_result"
    }
   ],
   "source": [
    "pred_sample.shape"
   ]
  },
  {
   "cell_type": "markdown",
   "metadata": {},
   "source": [
    "## Calculate Score"
   ]
  },
  {
   "cell_type": "code",
   "execution_count": 540,
   "metadata": {},
   "outputs": [],
   "source": [
    "def compute_iou(box1, box2):\n",
    "    a = Polygon(torch.t(box1)).convex_hull\n",
    "    b = Polygon(torch.t(box2)).convex_hull\n",
    "    \n",
    "    return a.intersection(b).area / a.union(b).area"
   ]
  },
  {
   "cell_type": "code",
   "execution_count": 541,
   "metadata": {},
   "outputs": [],
   "source": [
    "def compute_ats_bounding_boxes(boxes1, boxes2):\n",
    "    num_boxes1 = boxes1.size(0)\n",
    "    num_boxes2 = boxes2.size(0)\n",
    "\n",
    "    boxes1_max_x = boxes1[:, 0].max(dim=1)[0]\n",
    "    boxes1_min_x = boxes1[:, 0].min(dim=1)[0]\n",
    "    boxes1_max_y = boxes1[:, 1].max(dim=1)[0]\n",
    "    boxes1_min_y = boxes1[:, 1].min(dim=1)[0]\n",
    "\n",
    "    boxes2_max_x = boxes2[:, 0].max(dim=1)[0]\n",
    "    boxes2_min_x = boxes2[:, 0].min(dim=1)[0]\n",
    "    boxes2_max_y = boxes2[:, 1].max(dim=1)[0]\n",
    "    boxes2_min_y = boxes2[:, 1].min(dim=1)[0]\n",
    "\n",
    "    condition1_matrix = (boxes1_max_x.unsqueeze(1) > boxes2_min_x.unsqueeze(0))\n",
    "    condition2_matrix = (boxes1_min_x.unsqueeze(1) < boxes2_max_x.unsqueeze(0))\n",
    "    condition3_matrix = (boxes1_max_y.unsqueeze(1) > boxes2_min_y.unsqueeze(0))\n",
    "    condition4_matrix = (boxes1_min_y.unsqueeze(1) < boxes2_max_y.unsqueeze(0))\n",
    "    condition_matrix = condition1_matrix * condition2_matrix * condition3_matrix * condition4_matrix\n",
    "\n",
    "    iou_matrix = torch.zeros(num_boxes1, num_boxes2)\n",
    "    for i in range(num_boxes1):\n",
    "        for j in range(num_boxes2):\n",
    "            if condition_matrix[i][j]:\n",
    "                iou_matrix[i][j] = compute_iou(boxes1[i], boxes2[j])\n",
    "\n",
    "    iou_max = iou_matrix.max(dim=0)[0]\n",
    "\n",
    "    iou_thresholds = [0.5, 0.6, 0.7, 0.8, 0.9]\n",
    "    total_threat_score = 0\n",
    "    total_weight = 0\n",
    "    for threshold in iou_thresholds:\n",
    "        tp = (iou_max > threshold).sum()\n",
    "        threat_score = tp * 1.0 / (num_boxes1 + num_boxes2 - tp)\n",
    "        total_threat_score += 1.0 / threshold * threat_score\n",
    "        total_weight += 1.0 / threshold\n",
    "\n",
    "    average_threat_score = total_threat_score / total_weight\n",
    "    \n",
    "    return average_threat_score"
   ]
  },
  {
   "cell_type": "code",
   "execution_count": 542,
   "metadata": {},
   "outputs": [
    {
     "data": {
      "text/plain": [
       "tensor(0.0145)"
      ]
     },
     "execution_count": 542,
     "metadata": {},
     "output_type": "execute_result"
    }
   ],
   "source": [
    "compute_ats_bounding_boxes(pred_boxes, truth_boxes)"
   ]
  },
  {
   "cell_type": "markdown",
   "metadata": {},
   "source": [
    "## Visualization - Dots and Boxes"
   ]
  },
  {
   "cell_type": "code",
   "execution_count": 543,
   "metadata": {},
   "outputs": [
    {
     "data": {
      "image/png": "[encoded data removed]",
      "text/plain": [
       "<Figure size 216x216 with 1 Axes>"
      ]
     },
     "metadata": {
      "needs_background": "light"
     },
     "output_type": "display_data"
    }
   ],
   "source": [
    "plt.figure(figsize = (3,3))\n",
    "plt.scatter(truth_sample['center_x'], truth_sample['center_y'])\n",
    "plt.xlim(-40, 40)\n",
    "plt.ylim(-40, 40)\n",
    "plt.grid()"
   ]
  },
  {
   "cell_type": "code",
   "execution_count": 544,
   "metadata": {},
   "outputs": [
    {
     "data": {
      "image/png": "[encoded data removed]",
      "text/plain": [
       "<Figure size 216x216 with 1 Axes>"
      ]
     },
     "metadata": {
      "needs_background": "light"
     },
     "output_type": "display_data"
    }
   ],
   "source": [
    "plt.figure(figsize = (3,3))\n",
    "plt.scatter(pred_sample['center_x'], pred_sample['center_y'])\n",
    "plt.xlim(-40, 40)\n",
    "plt.ylim(-40, 40)\n",
    "plt.grid()"
   ]
  },
  {
   "cell_type": "code",
   "execution_count": 545,
   "metadata": {},
   "outputs": [],
   "source": [
    "def draw_box(ax, corners, color):\n",
    "    point_squence = torch.stack([corners[:, 0], corners[:, 1], corners[:, 3], corners[:, 2], corners[:, 0]])\n",
    "    \n",
    "    # the corners are in meter and time 10 will convert them in pixels\n",
    "    # Add 400, since the center of the image is at pixel (400, 400)\n",
    "    # The negative sign is because the y axis is reversed for matplotlib\n",
    "    ax.plot(point_squence.T[0] * 10 + 400, -point_squence.T[1] * 10 + 400, color=color)"
   ]
  },
  {
   "cell_type": "code",
   "execution_count": 546,
   "metadata": {},
   "outputs": [
    {
     "data": {
      "image/png": "[encoded data removed]",
      "text/plain": [
       "<Figure size 432x288 with 1 Axes>"
      ]
     },
     "metadata": {
      "needs_background": "light"
     },
     "output_type": "display_data"
    }
   ],
   "source": [
    "fig, ax = plt.subplots()\n",
    "\n",
    "ax.plot(400, 400, 'x', color=\"red\")\n",
    "\n",
    "\n",
    "for i, bb in enumerate(truth_boxes):\n",
    "    # You can check the implementation of the draw box to understand how it works \n",
    "    draw_box(ax, bb, color=color_list[[int(i) for i in truth_sample.category_id][i]])  \n",
    "    \n",
    "ax.set_xlim(0, 800)\n",
    "ax.set_ylim(800, 0)\n",
    "plt.grid()"
   ]
  },
  {
   "cell_type": "code",
   "execution_count": 547,
   "metadata": {},
   "outputs": [
    {
     "data": {
      "image/png": "[encoded data removed]",
      "text/plain": [
       "<Figure size 432x288 with 1 Axes>"
      ]
     },
     "metadata": {
      "needs_background": "light"
     },
     "output_type": "display_data"
    }
   ],
   "source": [
    "fig, ax = plt.subplots()\n",
    "\n",
    "ax.plot(400, 400, 'x', color=\"red\")\n",
    "\n",
    "\n",
    "for i, bb in enumerate(pred_boxes):\n",
    "    # You can check the implementation of the draw box to understand how it works \n",
    "    draw_box(ax, bb, color=color_list[[int(i) for i in pred_sample.category_id][i]])  \n",
    "    \n",
    "ax.set_xlim(0, 800)\n",
    "ax.set_ylim(800, 0)\n",
    "plt.grid()"
   ]
  },
  {
   "cell_type": "markdown",
   "metadata": {},
   "source": [
    "# Category_id Distribution"
   ]
  },
  {
   "cell_type": "code",
   "execution_count": 438,
   "metadata": {},
   "outputs": [
    {
     "data": {
      "text/plain": [
       "(array([ 1.,  0.,  0., 33.,  0.,  0.,  0.,  0.,  0.,  1.]),\n",
       " array([0. , 0.6, 1.2, 1.8, 2.4, 3. , 3.6, 4.2, 4.8, 5.4, 6. ]),\n",
       " <a list of 10 Patch objects>)"
      ]
     },
     "execution_count": 438,
     "metadata": {},
     "output_type": "execute_result"
    },
    {
     "data": {
      "image/png": "[encoded data removed]",
      "text/plain": [
       "<Figure size 432x288 with 1 Axes>"
      ]
     },
     "metadata": {
      "needs_background": "light"
     },
     "output_type": "display_data"
    }
   ],
   "source": [
    "plt.hist(truth_sample.category_id)"
   ]
  },
  {
   "cell_type": "code",
   "execution_count": 439,
   "metadata": {},
   "outputs": [
    {
     "data": {
      "text/plain": [
       "(array([  1.,   0.,   0., 118.,   0.,   0.,   2.,   0.,   0.,   1.]),\n",
       " array([1. , 1.3, 1.6, 1.9, 2.2, 2.5, 2.8, 3.1, 3.4, 3.7, 4. ]),\n",
       " <a list of 10 Patch objects>)"
      ]
     },
     "execution_count": 439,
     "metadata": {},
     "output_type": "execute_result"
    },
    {
     "data": {
      "image/png": "[encoded data removed]",
      "text/plain": [
       "<Figure size 432x288 with 1 Axes>"
      ]
     },
     "metadata": {
      "needs_background": "light"
     },
     "output_type": "display_data"
    }
   ],
   "source": [
    "plt.hist(pred_sample.category_id)"
   ]
  },
  {
   "cell_type": "code",
   "execution_count": null,
   "metadata": {},
   "outputs": [],
   "source": []
  },
  {
   "cell_type": "code",
   "execution_count": null,
   "metadata": {},
   "outputs": [],
   "source": []
  },
  {
   "cell_type": "code",
   "execution_count": null,
   "metadata": {},
   "outputs": [],
   "source": []
  },
  {
   "cell_type": "code",
   "execution_count": 441,
   "metadata": {},
   "outputs": [
    {
     "ename": "ModuleNotFoundError",
     "evalue": "No module named 'yacs'",
     "output_type": "error",
     "traceback": [
      "\u001b[0;31m---------------------------------------------------------------------------\u001b[0m",
      "\u001b[0;31mModuleNotFoundError\u001b[0m                       Traceback (most recent call last)",
      "\u001b[0;32m<ipython-input-441-cbc5ceee6c4e>\u001b[0m in \u001b[0;36m<module>\u001b[0;34m\u001b[0m\n\u001b[0;32m----> 1\u001b[0;31m \u001b[0;32mfrom\u001b[0m \u001b[0myacs\u001b[0m\u001b[0;34m.\u001b[0m\u001b[0mconfig\u001b[0m \u001b[0;32mimport\u001b[0m \u001b[0mCfgNode\u001b[0m \u001b[0;32mas\u001b[0m \u001b[0mCN\u001b[0m\u001b[0;34m\u001b[0m\u001b[0;34m\u001b[0m\u001b[0m\n\u001b[0m",
      "\u001b[0;31mModuleNotFoundError\u001b[0m: No module named 'yacs'"
     ]
    }
   ],
   "source": [
    "from yacs.config import CfgNode as CN"
   ]
  },
  {
   "cell_type": "code",
   "execution_count": null,
   "metadata": {},
   "outputs": [],
   "source": []
  },
  {
   "cell_type": "code",
   "execution_count": null,
   "metadata": {},
   "outputs": [],
   "source": []
  },
  {
   "cell_type": "code",
   "execution_count": null,
   "metadata": {},
   "outputs": [],
   "source": []
  },
  {
   "cell_type": "code",
   "execution_count": null,
   "metadata": {},
   "outputs": [],
   "source": []
  },
  {
   "cell_type": "code",
   "execution_count": null,
   "metadata": {},
   "outputs": [],
   "source": []
  },
  {
   "cell_type": "code",
   "execution_count": null,
   "metadata": {},
   "outputs": [],
   "source": []
  }
 ],
 "metadata": {
  "kernelspec": {
   "display_name": "Python 3",
   "language": "python",
   "name": "python3"
  },
  "language_info": {
   "codemirror_mode": {
    "name": "ipython",
    "version": 3
   },
   "file_extension": ".py",
   "mimetype": "text/x-python",
   "name": "python",
   "nbconvert_exporter": "python",
   "pygments_lexer": "ipython3",
   "version": "3.7.6"
  }
 },
 "nbformat": 4,
 "nbformat_minor": 4
}
