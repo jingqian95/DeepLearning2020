{
 "cells": [
  {
   "cell_type": "code",
   "execution_count": 326,
   "metadata": {},
   "outputs": [],
   "source": [
    "import pandas as pd\n",
    "import numpy as np\n",
    "import matplotlib\n",
    "import matplotlib.pyplot as plt"
   ]
  },
  {
   "cell_type": "code",
   "execution_count": 327,
   "metadata": {},
   "outputs": [],
   "source": [
    "pred = pd.read_csv('/Users/mjin/Desktop/1008/Project/DeepLearning2020/saved/dl2020/dl2020_0430-162145_coef0/evaluation_result_best-efficientdet-d0_11970_val_132_133_0.05_0.1.csv')"
   ]
  },
  {
   "cell_type": "code",
   "execution_count": 330,
   "metadata": {},
   "outputs": [],
   "source": [
    "truth = pd.read_csv('datasets/dl2020/annotation_newfeat_2.csv')"
   ]
  },
  {
   "cell_type": "code",
   "execution_count": 331,
   "metadata": {},
   "outputs": [],
   "source": [
    "pred['x_pred'], pred['y_pred'], pred['w_pred'], pred['h_pred'] = [float(i.split(',')[0][1:]) for i in pred['bbox']], [float(i.split(',')[1]) for i in pred['bbox']], [float(i.split(',')[2]) for i in pred['bbox']], [float(i.split(',')[3][:-1]) for i in pred['bbox']]\n",
    "\n",
    "pred['box_width'] = pred['w_pred']/612*80\n",
    "pred['box_height'] = pred['h_pred']/768*80\n",
    "\n",
    "pred['center_x'] = pred['x_pred']/612*80 + pred['box_width']/2 - 40\n",
    "pred['center_y'] = 40 - pred['y_pred']/768*80 - pred['box_height']/2\n"
   ]
  },
  {
   "cell_type": "code",
   "execution_count": 344,
   "metadata": {
    "scrolled": false
   },
   "outputs": [
    {
     "name": "stderr",
     "output_type": "stream",
     "text": [
      "/Users/mjin/anaconda3/lib/python3.7/site-packages/ipykernel_launcher.py:1: UserWarning: Boolean Series key will be reindexed to match DataFrame index.\n",
      "  \"\"\"Entry point for launching an IPython kernel.\n"
     ]
    }
   ],
   "source": [
    "pred_sample = pred[pred['scene_id'] == 132][pred['sample_id'] == 0]"
   ]
  },
  {
   "cell_type": "code",
   "execution_count": 345,
   "metadata": {
    "scrolled": true
   },
   "outputs": [
    {
     "name": "stderr",
     "output_type": "stream",
     "text": [
      "/Users/mjin/anaconda3/lib/python3.7/site-packages/ipykernel_launcher.py:1: UserWarning: Boolean Series key will be reindexed to match DataFrame index.\n",
      "  \"\"\"Entry point for launching an IPython kernel.\n"
     ]
    }
   ],
   "source": [
    "truth_sample = truth[truth['scene'] == 132][truth['sample'] == 0]"
   ]
  },
  {
   "cell_type": "code",
   "execution_count": 346,
   "metadata": {},
   "outputs": [
    {
     "data": {
      "image/png": "[encoded data removed]",
      "text/plain": [
       "<Figure size 216x216 with 1 Axes>"
      ]
     },
     "metadata": {
      "needs_background": "light"
     },
     "output_type": "display_data"
    }
   ],
   "source": [
    "plt.figure(figsize = (3,3))\n",
    "plt.scatter(truth_sample['center_x'], truth_sample['center_y'])\n",
    "plt.xlim(-40, 40)\n",
    "plt.ylim(-40, 40)\n",
    "plt.grid()"
   ]
  },
  {
   "cell_type": "code",
   "execution_count": 347,
   "metadata": {},
   "outputs": [
    {
     "data": {
      "image/png": "[encoded data removed]",
      "text/plain": [
       "<Figure size 216x216 with 1 Axes>"
      ]
     },
     "metadata": {
      "needs_background": "light"
     },
     "output_type": "display_data"
    }
   ],
   "source": [
    "plt.figure(figsize = (3,3))\n",
    "plt.scatter(pred_sample['center_x'], pred_sample['center_y'])\n",
    "plt.xlim(-40, 40)\n",
    "plt.ylim(-40, 40)\n",
    "plt.grid()"
   ]
  },
  {
   "cell_type": "code",
   "execution_count": 309,
   "metadata": {},
   "outputs": [
    {
     "data": {
      "text/plain": [
       "(25283, 14)"
      ]
     },
     "execution_count": 309,
     "metadata": {},
     "output_type": "execute_result"
    }
   ],
   "source": [
    "pred.shape"
   ]
  },
  {
   "cell_type": "code",
   "execution_count": 310,
   "metadata": {},
   "outputs": [],
   "source": [
    "import torch"
   ]
  },
  {
   "cell_type": "code",
   "execution_count": 337,
   "metadata": {},
   "outputs": [],
   "source": [
    "def calc_iou(pred, truth):\n",
    "    # pred (x, y, w, h)\n",
    "    # truth (x, y, w, h)\n",
    "    \n",
    "    area_pred = pred[2]*pred[3]\n",
    "    area_truth = truth[2]*truth[3]\n",
    "    \n",
    "    inter_width = min(pred[0] + pred[2]/2, truth[0] + truth[2]/2) - max(pred[0] - pred[2]/2, truth[0] - truth[2]/2)\n",
    "    inter_height = min(pred[1] + pred[3]/2, truth[1] + truth[3]/2) - max(pred[1] - pred[3]/2, truth[1] - truth[3]/2)\n",
    "    \n",
    "    inter_width = max(inter_width,0)\n",
    "    inter_height = max(inter_height, 0)\n",
    "    \n",
    "    area_inter = inter_width*inter_height\n",
    "    area_union = area_pred + area_truth - area_inter\n",
    "    \n",
    "    IoU = area_inter / area_union\n",
    "\n",
    "    return IoU"
   ]
  },
  {
   "cell_type": "code",
   "execution_count": 338,
   "metadata": {},
   "outputs": [],
   "source": [
    "def calc_metric(truth_sample, pred_sample):\n",
    "    result_lst = []\n",
    "    truth_num = len(truth_sample)\n",
    "    pred_num = len(pred_sample)\n",
    "    \n",
    "    for iou in [0.5,0.6,0.7,0.8,0.9]:\n",
    "        pred_sample_copy = pred_sample.copy()\n",
    "        tp = 0\n",
    "        fp = 0\n",
    "        for row_t in truth_sample_copy.iterrows():\n",
    "            found = False\n",
    "            truth_box = [row_t[1]['center_x'], row_t[1]['center_y'], row_t[1]['box_width'], row_t[1]['box_height']]\n",
    "            for row_p in pred_sample.iterrows():\n",
    "                pred_box = [row_p[1]['center_x'], row_p[1]['center_y'], row_p[1]['box_width'], row_p[1]['box_height']]\n",
    "                if calc_iou(pred_box, truth_box) >= iou:\n",
    "                    found = True\n",
    "                    pred_sample_copy = pred_sample_copy.drop(row_p[0])\n",
    "            if found == True:\n",
    "                tp += 1\n",
    "        fp = len(pred_sample_copy)\n",
    "        result_lst.append(tp/(truth_num + fp))\n",
    "    \n",
    "    return result_lst, np.mean(result_lst)\n",
    "            \n",
    "            "
   ]
  },
  {
   "cell_type": "code",
   "execution_count": 339,
   "metadata": {},
   "outputs": [
    {
     "data": {
      "text/plain": [
       "([0.0, 0.0, 0.0, 0.0, 0.0], 0.0)"
      ]
     },
     "execution_count": 339,
     "metadata": {},
     "output_type": "execute_result"
    }
   ],
   "source": [
    "calc_metric(truth_sample, pred_sample)"
   ]
  },
  {
   "cell_type": "code",
   "execution_count": 314,
   "metadata": {},
   "outputs": [
    {
     "name": "stderr",
     "output_type": "stream",
     "text": [
      "/Users/mjin/anaconda3/lib/python3.7/site-packages/ipykernel_launcher.py:4: UserWarning: Boolean Series key will be reindexed to match DataFrame index.\n",
      "  after removing the cwd from sys.path.\n",
      "/Users/mjin/anaconda3/lib/python3.7/site-packages/ipykernel_launcher.py:5: UserWarning: Boolean Series key will be reindexed to match DataFrame index.\n",
      "  \"\"\"\n"
     ]
    },
    {
     "name": "stdout",
     "output_type": "stream",
     "text": [
      "0.0015438910983276613\n"
     ]
    }
   ],
   "source": [
    "result = []\n",
    "for scene in [132]:\n",
    "    for sample in range(30):\n",
    "        pred_sample = pred[pred['scene_id'] == 132][pred['sample_id'] == sample]\n",
    "        truth_sample = truth[truth['scene'] == 132][truth['sample'] == sample]\n",
    "        \n",
    "        result.append(calc_metric(truth_sample, pred_sample)[1])\n",
    "        \n",
    "print(np.mean(result))"
   ]
  },
  {
   "cell_type": "code",
   "execution_count": null,
   "metadata": {},
   "outputs": [],
   "source": []
  },
  {
   "cell_type": "code",
   "execution_count": 340,
   "metadata": {},
   "outputs": [
    {
     "data": {
      "text/html": [
       "<div>\n",
       "<style scoped>\n",
       "    .dataframe tbody tr th:only-of-type {\n",
       "        vertical-align: middle;\n",
       "    }\n",
       "\n",
       "    .dataframe tbody tr th {\n",
       "        vertical-align: top;\n",
       "    }\n",
       "\n",
       "    .dataframe thead th {\n",
       "        text-align: right;\n",
       "    }\n",
       "</style>\n",
       "<table border=\"1\" class=\"dataframe\">\n",
       "  <thead>\n",
       "    <tr style=\"text-align: right;\">\n",
       "      <th></th>\n",
       "      <th>Unnamed: 0</th>\n",
       "      <th>scene_id</th>\n",
       "      <th>sample_id</th>\n",
       "      <th>category_id</th>\n",
       "      <th>score</th>\n",
       "      <th>bbox</th>\n",
       "      <th>x_pred</th>\n",
       "      <th>y_pred</th>\n",
       "      <th>w_pred</th>\n",
       "      <th>h_pred</th>\n",
       "      <th>box_width</th>\n",
       "      <th>box_height</th>\n",
       "      <th>center_x</th>\n",
       "      <th>center_y</th>\n",
       "    </tr>\n",
       "  </thead>\n",
       "  <tbody>\n",
       "    <tr>\n",
       "      <th>10693</th>\n",
       "      <td>10693</td>\n",
       "      <td>132.0</td>\n",
       "      <td>100.0</td>\n",
       "      <td>3.0</td>\n",
       "      <td>0.073484</td>\n",
       "      <td>[751.7706909179688, 1.051850438117981, 14.7293...</td>\n",
       "      <td>751.770691</td>\n",
       "      <td>1.051850</td>\n",
       "      <td>14.729309</td>\n",
       "      <td>9.579486</td>\n",
       "      <td>1.925400</td>\n",
       "      <td>0.997863</td>\n",
       "      <td>59.233378</td>\n",
       "      <td>39.391501</td>\n",
       "    </tr>\n",
       "    <tr>\n",
       "      <th>10694</th>\n",
       "      <td>10694</td>\n",
       "      <td>132.0</td>\n",
       "      <td>100.0</td>\n",
       "      <td>3.0</td>\n",
       "      <td>0.072274</td>\n",
       "      <td>[281.6029357910156, 385.664794921875, 37.45037...</td>\n",
       "      <td>281.602936</td>\n",
       "      <td>385.664795</td>\n",
       "      <td>37.450378</td>\n",
       "      <td>19.373749</td>\n",
       "      <td>4.895474</td>\n",
       "      <td>2.018099</td>\n",
       "      <td>-0.741422</td>\n",
       "      <td>-1.182466</td>\n",
       "    </tr>\n",
       "    <tr>\n",
       "      <th>10695</th>\n",
       "      <td>10695</td>\n",
       "      <td>132.0</td>\n",
       "      <td>100.0</td>\n",
       "      <td>3.0</td>\n",
       "      <td>0.067501</td>\n",
       "      <td>[378.64874267578125, 362.82720947265625, 35.29...</td>\n",
       "      <td>378.648743</td>\n",
       "      <td>362.827209</td>\n",
       "      <td>35.299164</td>\n",
       "      <td>19.002899</td>\n",
       "      <td>4.614270</td>\n",
       "      <td>1.979469</td>\n",
       "      <td>11.803703</td>\n",
       "      <td>1.215765</td>\n",
       "    </tr>\n",
       "    <tr>\n",
       "      <th>10696</th>\n",
       "      <td>10696</td>\n",
       "      <td>132.0</td>\n",
       "      <td>100.0</td>\n",
       "      <td>3.0</td>\n",
       "      <td>0.065035</td>\n",
       "      <td>[234.91773986816406, 363.0290222167969, 35.154...</td>\n",
       "      <td>234.917740</td>\n",
       "      <td>363.029022</td>\n",
       "      <td>35.154037</td>\n",
       "      <td>18.769318</td>\n",
       "      <td>4.595299</td>\n",
       "      <td>1.955137</td>\n",
       "      <td>-6.994149</td>\n",
       "      <td>1.206908</td>\n",
       "    </tr>\n",
       "    <tr>\n",
       "      <th>10697</th>\n",
       "      <td>10697</td>\n",
       "      <td>132.0</td>\n",
       "      <td>100.0</td>\n",
       "      <td>3.0</td>\n",
       "      <td>0.064857</td>\n",
       "      <td>[378.5469055175781, 386.3060607910156, 36.1821...</td>\n",
       "      <td>378.546906</td>\n",
       "      <td>386.306061</td>\n",
       "      <td>36.182129</td>\n",
       "      <td>19.879395</td>\n",
       "      <td>4.729690</td>\n",
       "      <td>2.070770</td>\n",
       "      <td>11.848101</td>\n",
       "      <td>-1.275600</td>\n",
       "    </tr>\n",
       "  </tbody>\n",
       "</table>\n",
       "</div>"
      ],
      "text/plain": [
       "       Unnamed: 0  scene_id  sample_id  category_id     score  \\\n",
       "10693       10693     132.0      100.0          3.0  0.073484   \n",
       "10694       10694     132.0      100.0          3.0  0.072274   \n",
       "10695       10695     132.0      100.0          3.0  0.067501   \n",
       "10696       10696     132.0      100.0          3.0  0.065035   \n",
       "10697       10697     132.0      100.0          3.0  0.064857   \n",
       "\n",
       "                                                    bbox      x_pred  \\\n",
       "10693  [751.7706909179688, 1.051850438117981, 14.7293...  751.770691   \n",
       "10694  [281.6029357910156, 385.664794921875, 37.45037...  281.602936   \n",
       "10695  [378.64874267578125, 362.82720947265625, 35.29...  378.648743   \n",
       "10696  [234.91773986816406, 363.0290222167969, 35.154...  234.917740   \n",
       "10697  [378.5469055175781, 386.3060607910156, 36.1821...  378.546906   \n",
       "\n",
       "           y_pred     w_pred     h_pred  box_width  box_height   center_x  \\\n",
       "10693    1.051850  14.729309   9.579486   1.925400    0.997863  59.233378   \n",
       "10694  385.664795  37.450378  19.373749   4.895474    2.018099  -0.741422   \n",
       "10695  362.827209  35.299164  19.002899   4.614270    1.979469  11.803703   \n",
       "10696  363.029022  35.154037  18.769318   4.595299    1.955137  -6.994149   \n",
       "10697  386.306061  36.182129  19.879395   4.729690    2.070770  11.848101   \n",
       "\n",
       "        center_y  \n",
       "10693  39.391501  \n",
       "10694  -1.182466  \n",
       "10695   1.215765  \n",
       "10696   1.206908  \n",
       "10697  -1.275600  "
      ]
     },
     "execution_count": 340,
     "metadata": {},
     "output_type": "execute_result"
    }
   ],
   "source": [
    "pred_sample.head()"
   ]
  },
  {
   "cell_type": "code",
   "execution_count": 341,
   "metadata": {},
   "outputs": [
    {
     "data": {
      "text/html": [
       "<div>\n",
       "<style scoped>\n",
       "    .dataframe tbody tr th:only-of-type {\n",
       "        vertical-align: middle;\n",
       "    }\n",
       "\n",
       "    .dataframe tbody tr th {\n",
       "        vertical-align: top;\n",
       "    }\n",
       "\n",
       "    .dataframe thead th {\n",
       "        text-align: right;\n",
       "    }\n",
       "</style>\n",
       "<table border=\"1\" class=\"dataframe\">\n",
       "  <thead>\n",
       "    <tr style=\"text-align: right;\">\n",
       "      <th></th>\n",
       "      <th>Unnamed: 0</th>\n",
       "      <th>scene</th>\n",
       "      <th>sample</th>\n",
       "      <th>action</th>\n",
       "      <th>category</th>\n",
       "      <th>fl_x</th>\n",
       "      <th>fr_x</th>\n",
       "      <th>bl_x</th>\n",
       "      <th>br_x</th>\n",
       "      <th>fl_y</th>\n",
       "      <th>...</th>\n",
       "      <th>back_right</th>\n",
       "      <th>distance</th>\n",
       "      <th>center_x</th>\n",
       "      <th>center_y</th>\n",
       "      <th>box_width</th>\n",
       "      <th>box_height</th>\n",
       "      <th>scaled_x</th>\n",
       "      <th>scaled_y</th>\n",
       "      <th>scaled_box_width</th>\n",
       "      <th>scaled_box_height</th>\n",
       "    </tr>\n",
       "  </thead>\n",
       "  <tbody>\n",
       "    <tr>\n",
       "      <th>40687</th>\n",
       "      <td>40687</td>\n",
       "      <td>132</td>\n",
       "      <td>100</td>\n",
       "      <td>object_action_parked</td>\n",
       "      <td>car</td>\n",
       "      <td>-23.150282</td>\n",
       "      <td>-21.393209</td>\n",
       "      <td>-23.006398</td>\n",
       "      <td>-21.249325</td>\n",
       "      <td>-8.555356</td>\n",
       "      <td>...</td>\n",
       "      <td>True</td>\n",
       "      <td>24.661708</td>\n",
       "      <td>-22.199804</td>\n",
       "      <td>-10.740975</td>\n",
       "      <td>1.900957</td>\n",
       "      <td>4.485343</td>\n",
       "      <td>128.900341</td>\n",
       "      <td>465.583716</td>\n",
       "      <td>14.542323</td>\n",
       "      <td>43.059293</td>\n",
       "    </tr>\n",
       "    <tr>\n",
       "      <th>40688</th>\n",
       "      <td>40688</td>\n",
       "      <td>132</td>\n",
       "      <td>100</td>\n",
       "      <td>object_action_parked</td>\n",
       "      <td>car</td>\n",
       "      <td>-34.050107</td>\n",
       "      <td>-32.215612</td>\n",
       "      <td>-33.211502</td>\n",
       "      <td>-31.377008</td>\n",
       "      <td>-9.000946</td>\n",
       "      <td>...</td>\n",
       "      <td>False</td>\n",
       "      <td>34.594944</td>\n",
       "      <td>-32.713557</td>\n",
       "      <td>-11.253147</td>\n",
       "      <td>2.673099</td>\n",
       "      <td>5.141929</td>\n",
       "      <td>45.516685</td>\n",
       "      <td>467.348954</td>\n",
       "      <td>20.449204</td>\n",
       "      <td>49.362518</td>\n",
       "    </tr>\n",
       "    <tr>\n",
       "      <th>40689</th>\n",
       "      <td>40689</td>\n",
       "      <td>132</td>\n",
       "      <td>100</td>\n",
       "      <td>object_action_parked</td>\n",
       "      <td>car</td>\n",
       "      <td>1.260087</td>\n",
       "      <td>3.303538</td>\n",
       "      <td>1.507806</td>\n",
       "      <td>3.551257</td>\n",
       "      <td>-8.507711</td>\n",
       "      <td>...</td>\n",
       "      <td>False</td>\n",
       "      <td>11.196316</td>\n",
       "      <td>2.405672</td>\n",
       "      <td>-10.934817</td>\n",
       "      <td>2.291170</td>\n",
       "      <td>5.058345</td>\n",
       "      <td>315.639669</td>\n",
       "      <td>464.694188</td>\n",
       "      <td>17.527447</td>\n",
       "      <td>48.560111</td>\n",
       "    </tr>\n",
       "    <tr>\n",
       "      <th>40690</th>\n",
       "      <td>40690</td>\n",
       "      <td>132</td>\n",
       "      <td>100</td>\n",
       "      <td>object_action_parked</td>\n",
       "      <td>car</td>\n",
       "      <td>20.281579</td>\n",
       "      <td>20.233797</td>\n",
       "      <td>25.539978</td>\n",
       "      <td>25.492196</td>\n",
       "      <td>25.135861</td>\n",
       "      <td>...</td>\n",
       "      <td>False</td>\n",
       "      <td>34.765015</td>\n",
       "      <td>22.886888</td>\n",
       "      <td>26.168619</td>\n",
       "      <td>5.306181</td>\n",
       "      <td>2.065516</td>\n",
       "      <td>460.788546</td>\n",
       "      <td>122.866778</td>\n",
       "      <td>40.592288</td>\n",
       "      <td>19.828955</td>\n",
       "    </tr>\n",
       "    <tr>\n",
       "      <th>40691</th>\n",
       "      <td>40691</td>\n",
       "      <td>132</td>\n",
       "      <td>100</td>\n",
       "      <td>object_action_parked</td>\n",
       "      <td>car</td>\n",
       "      <td>-16.486788</td>\n",
       "      <td>-14.586164</td>\n",
       "      <td>-16.574375</td>\n",
       "      <td>-14.673751</td>\n",
       "      <td>-8.721109</td>\n",
       "      <td>...</td>\n",
       "      <td>True</td>\n",
       "      <td>19.038064</td>\n",
       "      <td>-15.580270</td>\n",
       "      <td>-10.940890</td>\n",
       "      <td>1.988211</td>\n",
       "      <td>4.439562</td>\n",
       "      <td>179.206031</td>\n",
       "      <td>467.722648</td>\n",
       "      <td>15.209815</td>\n",
       "      <td>42.619792</td>\n",
       "    </tr>\n",
       "  </tbody>\n",
       "</table>\n",
       "<p>5 rows × 31 columns</p>\n",
       "</div>"
      ],
      "text/plain": [
       "       Unnamed: 0  scene  sample                action category       fl_x  \\\n",
       "40687       40687    132     100  object_action_parked      car -23.150282   \n",
       "40688       40688    132     100  object_action_parked      car -34.050107   \n",
       "40689       40689    132     100  object_action_parked      car   1.260087   \n",
       "40690       40690    132     100  object_action_parked      car  20.281579   \n",
       "40691       40691    132     100  object_action_parked      car -16.486788   \n",
       "\n",
       "            fr_x       bl_x       br_x       fl_y  ...  back_right   distance  \\\n",
       "40687 -21.393209 -23.006398 -21.249325  -8.555356  ...        True  24.661708   \n",
       "40688 -32.215612 -33.211502 -31.377008  -9.000946  ...       False  34.594944   \n",
       "40689   3.303538   1.507806   3.551257  -8.507711  ...       False  11.196316   \n",
       "40690  20.233797  25.539978  25.492196  25.135861  ...       False  34.765015   \n",
       "40691 -14.586164 -16.574375 -14.673751  -8.721109  ...        True  19.038064   \n",
       "\n",
       "        center_x   center_y  box_width  box_height    scaled_x    scaled_y  \\\n",
       "40687 -22.199804 -10.740975   1.900957    4.485343  128.900341  465.583716   \n",
       "40688 -32.713557 -11.253147   2.673099    5.141929   45.516685  467.348954   \n",
       "40689   2.405672 -10.934817   2.291170    5.058345  315.639669  464.694188   \n",
       "40690  22.886888  26.168619   5.306181    2.065516  460.788546  122.866778   \n",
       "40691 -15.580270 -10.940890   1.988211    4.439562  179.206031  467.722648   \n",
       "\n",
       "       scaled_box_width  scaled_box_height  \n",
       "40687         14.542323          43.059293  \n",
       "40688         20.449204          49.362518  \n",
       "40689         17.527447          48.560111  \n",
       "40690         40.592288          19.828955  \n",
       "40691         15.209815          42.619792  \n",
       "\n",
       "[5 rows x 31 columns]"
      ]
     },
     "execution_count": 341,
     "metadata": {},
     "output_type": "execute_result"
    }
   ],
   "source": [
    "truth_sample.head()"
   ]
  },
  {
   "cell_type": "code",
   "execution_count": 288,
   "metadata": {},
   "outputs": [
    {
     "data": {
      "text/plain": [
       "(array([ 1.,  0.,  0., 33.,  0.,  0.,  0.,  0.,  0.,  1.]),\n",
       " array([0. , 0.6, 1.2, 1.8, 2.4, 3. , 3.6, 4.2, 4.8, 5.4, 6. ]),\n",
       " <a list of 10 Patch objects>)"
      ]
     },
     "execution_count": 288,
     "metadata": {},
     "output_type": "execute_result"
    },
    {
     "data": {
      "image/png": "[encoded data removed]",
      "text/plain": [
       "<Figure size 432x288 with 1 Axes>"
      ]
     },
     "metadata": {
      "needs_background": "light"
     },
     "output_type": "display_data"
    }
   ],
   "source": [
    "plt.hist(truth_sample.category_id)"
   ]
  },
  {
   "cell_type": "code",
   "execution_count": 315,
   "metadata": {},
   "outputs": [
    {
     "data": {
      "text/plain": [
       "(array([  1.,   0.,   0., 121.,   0.,   0.,   2.,   0.,   0.,   1.]),\n",
       " array([1. , 1.3, 1.6, 1.9, 2.2, 2.5, 2.8, 3.1, 3.4, 3.7, 4. ]),\n",
       " <a list of 10 Patch objects>)"
      ]
     },
     "execution_count": 315,
     "metadata": {},
     "output_type": "execute_result"
    },
    {
     "data": {
      "image/png": "[encoded data removed]",
      "text/plain": [
       "<Figure size 432x288 with 1 Axes>"
      ]
     },
     "metadata": {
      "needs_background": "light"
     },
     "output_type": "display_data"
    }
   ],
   "source": [
    "plt.hist(pred_sample.category_id)"
   ]
  },
  {
   "cell_type": "code",
   "execution_count": 316,
   "metadata": {},
   "outputs": [],
   "source": [
    "from collections import Counter"
   ]
  },
  {
   "cell_type": "code",
   "execution_count": 317,
   "metadata": {},
   "outputs": [
    {
     "data": {
      "text/plain": [
       "Counter({2.0: 24274, 3.0: 501, 1.0: 252, 4.0: 247, 8.0: 9})"
      ]
     },
     "execution_count": 317,
     "metadata": {},
     "output_type": "execute_result"
    }
   ],
   "source": [
    "Counter(pred.category_id)"
   ]
  },
  {
   "cell_type": "code",
   "execution_count": 320,
   "metadata": {},
   "outputs": [],
   "source": [
    "import matplotlib.patches as patches"
   ]
  },
  {
   "cell_type": "code",
   "execution_count": 325,
   "metadata": {},
   "outputs": [],
   "source": [
    "color_list = ['b', 'g', 'orange', 'c', 'm', 'y', 'k', 'w', 'r']"
   ]
  },
  {
   "cell_type": "code",
   "execution_count": 351,
   "metadata": {},
   "outputs": [],
   "source": [
    "def plot_boxes(df):\n",
    "    fig,ax = plt.subplots(figsize=(10,10))\n",
    "    ax.scatter(0, 0, marker = 'x', c = 'r')\n",
    "    ax.set_xlim(-40, 40)\n",
    "    ax.set_ylim(-40, 40)\n",
    "    for index, row in df.iterrows():\n",
    "        x = row['center_x']\n",
    "        y = row['center_y']\n",
    "        w = row['box_width']\n",
    "        h = row['box_height']\n",
    "        c_id = int(row['category_id'])\n",
    "        rect = patches.Rectangle((x,y),w,h,linewidth=1,edgecolor=color_list[c_id],facecolor='none')\n",
    "        ax.add_patch(rect)\n",
    "    plt.grid()\n",
    "    plt.show()"
   ]
  },
  {
   "cell_type": "code",
   "execution_count": 352,
   "metadata": {},
   "outputs": [
    {
     "data": {
      "image/png": "[encoded data removed]",
      "text/plain": [
       "<Figure size 720x720 with 1 Axes>"
      ]
     },
     "metadata": {
      "needs_background": "light"
     },
     "output_type": "display_data"
    }
   ],
   "source": [
    "plot_boxes(truth_sample)"
   ]
  },
  {
   "cell_type": "code",
   "execution_count": 353,
   "metadata": {},
   "outputs": [
    {
     "data": {
      "image/png": "[encoded data removed]",
      "text/plain": [
       "<Figure size 720x720 with 1 Axes>"
      ]
     },
     "metadata": {
      "needs_background": "light"
     },
     "output_type": "display_data"
    }
   ],
   "source": [
    "plot_boxes(pred_sample)"
   ]
  },
  {
   "cell_type": "code",
   "execution_count": null,
   "metadata": {},
   "outputs": [],
   "source": []
  },
  {
   "cell_type": "code",
   "execution_count": null,
   "metadata": {},
   "outputs": [],
   "source": []
  },
  {
   "cell_type": "code",
   "execution_count": null,
   "metadata": {},
   "outputs": [],
   "source": []
  },
  {
   "cell_type": "code",
   "execution_count": null,
   "metadata": {},
   "outputs": [],
   "source": []
  },
  {
   "cell_type": "code",
   "execution_count": null,
   "metadata": {},
   "outputs": [],
   "source": []
  },
  {
   "cell_type": "code",
   "execution_count": null,
   "metadata": {},
   "outputs": [],
   "source": []
  },
  {
   "cell_type": "code",
   "execution_count": null,
   "metadata": {},
   "outputs": [],
   "source": []
  }
 ],
 "metadata": {
  "kernelspec": {
   "display_name": "Python 3",
   "language": "python",
   "name": "python3"
  },
  "language_info": {
   "codemirror_mode": {
    "name": "ipython",
    "version": 3
   },
   "file_extension": ".py",
   "mimetype": "text/x-python",
   "name": "python",
   "nbconvert_exporter": "python",
   "pygments_lexer": "ipython3",
   "version": "3.7.6"
  }
 },
 "nbformat": 4,
 "nbformat_minor": 4
}
