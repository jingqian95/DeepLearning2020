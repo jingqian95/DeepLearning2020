{
 "cells": [
  {
   "cell_type": "code",
   "execution_count": 1030,
   "metadata": {},
   "outputs": [],
   "source": [
    "import pandas as pd\n",
    "import numpy as np\n",
    "import torch\n",
    "import matplotlib\n",
    "import matplotlib.pyplot as plt\n",
    "from shapely.geometry import Polygon"
   ]
  },
  {
   "cell_type": "markdown",
   "metadata": {},
   "source": [
    "## Import Truth CSV"
   ]
  },
  {
   "cell_type": "code",
   "execution_count": 1031,
   "metadata": {},
   "outputs": [],
   "source": [
    "truth = pd.read_csv('datasets/dl2020/annotation_newfeat_3.csv')\n",
    "# truth_2 = pd.read_csv('datasets/dl2020/annotation_newfeat_2.csv')\n"
   ]
  },
  {
   "cell_type": "markdown",
   "metadata": {},
   "source": [
    "## Input and Scale Pred "
   ]
  },
  {
   "cell_type": "markdown",
   "metadata": {},
   "source": [
    "### BEV"
   ]
  },
  {
   "cell_type": "code",
   "execution_count": 1066,
   "metadata": {},
   "outputs": [],
   "source": [
    "pred = pd.read_csv('/Users/mjin/Desktop/1008/Project/DeepLearning2020/saved/dl2020/dl2020_new_coef3_bev/evaluation_result_bev_efficientdet-d3_20775_val_132_133_0.04_0.5.csv')\n",
    "\n",
    "pred['x_pred'], pred['y_pred'], pred['w_pred'], pred['h_pred'] = [float(i.split(',')[0][1:]) for i in pred['bbox']], [float(i.split(',')[1]) for i in pred['bbox']], [float(i.split(',')[2]) for i in pred['bbox']], [float(i.split(',')[3][:-1]) for i in pred['bbox']]\n",
    "pred.category_id -= 1\n",
    "\n",
    "pred['box_width'] = pred['w_pred']/800*80\n",
    "pred['box_height'] = pred['h_pred']/800*80\n",
    "\n",
    "pred['center_x'] = pred['x_pred']/800*80 + pred['box_width']/2 - 40\n",
    "pred['center_y'] = 40 - pred['y_pred']/800*80 - pred['box_height']/2\n"
   ]
  },
  {
   "cell_type": "markdown",
   "metadata": {},
   "source": [
    "### ORI"
   ]
  },
  {
   "cell_type": "code",
   "execution_count": 1067,
   "metadata": {},
   "outputs": [],
   "source": [
    "# pred = pd.read_csv('/Users/mjin/Desktop/1008/Project/DeepLearning2020/saved/dl2020/dl2020_0503-003830_coef3/evaluation_result_efficientdet-d3_19944_val_132_133_0.05_0.5.csv')\n",
    "\n",
    "# pred['x_pred'], pred['y_pred'], pred['w_pred'], pred['h_pred'] = [float(i.split(',')[0][1:]) for i in pred['bbox']], [float(i.split(',')[1]) for i in pred['bbox']], [float(i.split(',')[2]) for i in pred['bbox']], [float(i.split(',')[3][:-1]) for i in pred['bbox']]\n",
    "# pred.category_id -= 1\n",
    "\n",
    "# pred['box_width'] = pred['w_pred']/612*80\n",
    "# pred['box_height'] = pred['h_pred']/768*80\n",
    "\n",
    "# pred['center_x'] = pred['x_pred']/612*80 + pred['box_width']/2 - 40\n",
    "# pred['center_y'] = 40 - pred['y_pred']/768*80 - pred['box_height']/2\n"
   ]
  },
  {
   "cell_type": "markdown",
   "metadata": {},
   "source": [
    "# Get a sample and boxes"
   ]
  },
  {
   "cell_type": "code",
   "execution_count": 1068,
   "metadata": {},
   "outputs": [],
   "source": [
    "def get_sample_boxes(scene, sample, pred, truth, threshold):\n",
    "    \n",
    "\n",
    "    pred = pred[pred.score > threshold]\n",
    "\n",
    "\n",
    "    pred_sample = pred[pred['scene_id'] == scene][pred['sample_id'] == sample]\n",
    "    truth_sample = truth[truth['scene'] == scene][truth['sample'] == sample]\n",
    "    \n",
    "    truth_corners = truth_sample[['fl_x', 'fr_x', 'bl_x', 'br_x', 'fl_y', 'fr_y','bl_y', 'br_y']].to_numpy()\n",
    "    \n",
    "    pred_corners = np.array([pred_sample.center_x + pred_sample.box_width/2, pred_sample.center_x + pred_sample.box_width/2,\\\n",
    "        pred_sample.center_x - pred_sample.box_width/2, pred_sample.center_x - pred_sample.box_width/2,\\\n",
    "        pred_sample.center_y + pred_sample.box_height/2, pred_sample.center_y - pred_sample.box_height/2,\\\n",
    "        pred_sample.center_y + pred_sample.box_height/2, pred_sample.center_y - pred_sample.box_height/2]).T\n",
    "    \n",
    "    \n",
    "    truth_boxes = torch.as_tensor(truth_corners).view(-1, 2, 4)\n",
    "    pred_boxes = torch.as_tensor(pred_corners).view(-1, 2, 4)\n",
    "    \n",
    "    return pred_sample, truth_sample, pred_boxes, truth_boxes\n",
    "    \n",
    "    "
   ]
  },
  {
   "cell_type": "code",
   "execution_count": 1158,
   "metadata": {},
   "outputs": [
    {
     "name": "stderr",
     "output_type": "stream",
     "text": [
      "/Users/mjin/anaconda3/lib/python3.7/site-packages/ipykernel_launcher.py:7: UserWarning: Boolean Series key will be reindexed to match DataFrame index.\n",
      "  import sys\n",
      "/Users/mjin/anaconda3/lib/python3.7/site-packages/ipykernel_launcher.py:8: UserWarning: Boolean Series key will be reindexed to match DataFrame index.\n",
      "  \n"
     ]
    }
   ],
   "source": [
    "pred_sample, truth_sample, pred_boxes, truth_boxes = get_sample_boxes(132, 75, pred, truth, 0.06)"
   ]
  },
  {
   "cell_type": "code",
   "execution_count": 1159,
   "metadata": {},
   "outputs": [
    {
     "data": {
      "text/plain": [
       "(26, 35)"
      ]
     },
     "execution_count": 1159,
     "metadata": {},
     "output_type": "execute_result"
    }
   ],
   "source": [
    "truth_sample.shape"
   ]
  },
  {
   "cell_type": "code",
   "execution_count": 1160,
   "metadata": {},
   "outputs": [
    {
     "data": {
      "text/plain": [
       "(46, 14)"
      ]
     },
     "execution_count": 1160,
     "metadata": {},
     "output_type": "execute_result"
    }
   ],
   "source": [
    "pred_sample.shape"
   ]
  },
  {
   "cell_type": "markdown",
   "metadata": {},
   "source": [
    "## Calculate Score"
   ]
  },
  {
   "cell_type": "code",
   "execution_count": 1161,
   "metadata": {},
   "outputs": [],
   "source": [
    "def compute_iou(box1, box2):\n",
    "    a = Polygon(torch.t(box1)).convex_hull\n",
    "    b = Polygon(torch.t(box2)).convex_hull\n",
    "    \n",
    "    return a.intersection(b).area / a.union(b).area"
   ]
  },
  {
   "cell_type": "code",
   "execution_count": 1162,
   "metadata": {},
   "outputs": [],
   "source": [
    "def compute_ats_bounding_boxes(boxes1, boxes2):\n",
    "    num_boxes1 = boxes1.size(0)\n",
    "    num_boxes2 = boxes2.size(0)\n",
    "\n",
    "    boxes1_max_x = boxes1[:, 0].max(dim=1)[0]\n",
    "    boxes1_min_x = boxes1[:, 0].min(dim=1)[0]\n",
    "    boxes1_max_y = boxes1[:, 1].max(dim=1)[0]\n",
    "    boxes1_min_y = boxes1[:, 1].min(dim=1)[0]\n",
    "\n",
    "    boxes2_max_x = boxes2[:, 0].max(dim=1)[0]\n",
    "    boxes2_min_x = boxes2[:, 0].min(dim=1)[0]\n",
    "    boxes2_max_y = boxes2[:, 1].max(dim=1)[0]\n",
    "    boxes2_min_y = boxes2[:, 1].min(dim=1)[0]\n",
    "\n",
    "    condition1_matrix = (boxes1_max_x.unsqueeze(1) > boxes2_min_x.unsqueeze(0))\n",
    "    condition2_matrix = (boxes1_min_x.unsqueeze(1) < boxes2_max_x.unsqueeze(0))\n",
    "    condition3_matrix = (boxes1_max_y.unsqueeze(1) > boxes2_min_y.unsqueeze(0))\n",
    "    condition4_matrix = (boxes1_min_y.unsqueeze(1) < boxes2_max_y.unsqueeze(0))\n",
    "    condition_matrix = condition1_matrix * condition2_matrix * condition3_matrix * condition4_matrix\n",
    "\n",
    "    iou_matrix = torch.zeros(num_boxes1, num_boxes2)\n",
    "    for i in range(num_boxes1):\n",
    "        for j in range(num_boxes2):\n",
    "            if condition_matrix[i][j]:\n",
    "                iou_matrix[i][j] = compute_iou(boxes1[i], boxes2[j])\n",
    "\n",
    "    iou_max = iou_matrix.max(dim=0)[0]\n",
    "\n",
    "    iou_thresholds = [0.5, 0.6, 0.7, 0.8, 0.9]\n",
    "    total_threat_score = 0\n",
    "    total_weight = 0\n",
    "    for threshold in iou_thresholds:\n",
    "        tp = (iou_max > threshold).sum()\n",
    "        threat_score = tp * 1.0 / (num_boxes1 + num_boxes2 - tp)\n",
    "        total_threat_score += 1.0 / threshold * threat_score\n",
    "        total_weight += 1.0 / threshold\n",
    "\n",
    "    average_threat_score = total_threat_score / total_weight\n",
    "    \n",
    "    return average_threat_score"
   ]
  },
  {
   "cell_type": "code",
   "execution_count": 1163,
   "metadata": {},
   "outputs": [
    {
     "data": {
      "text/plain": [
       "tensor(0.0148)"
      ]
     },
     "execution_count": 1163,
     "metadata": {},
     "output_type": "execute_result"
    }
   ],
   "source": [
    "compute_ats_bounding_boxes(pred_boxes, truth_boxes)"
   ]
  },
  {
   "cell_type": "markdown",
   "metadata": {},
   "source": [
    "## Visualization - Dots and Boxes"
   ]
  },
  {
   "cell_type": "code",
   "execution_count": 1164,
   "metadata": {},
   "outputs": [],
   "source": [
    "# plt.figure(figsize = (3,3))\n",
    "# plt.scatter(truth_sample['center_x'], truth_sample['center_y'])\n",
    "# plt.xlim(-40, 40)\n",
    "# plt.ylim(-40, 40)\n",
    "# plt.grid()"
   ]
  },
  {
   "cell_type": "code",
   "execution_count": 1165,
   "metadata": {},
   "outputs": [],
   "source": [
    "# plt.figure(figsize = (3,3))\n",
    "# plt.scatter(pred_sample['center_x'], pred_sample['center_y'])\n",
    "# plt.xlim(-40, 40)\n",
    "# plt.ylim(-40, 40)\n",
    "# plt.grid()"
   ]
  },
  {
   "cell_type": "code",
   "execution_count": 1166,
   "metadata": {},
   "outputs": [],
   "source": [
    "color_list = ['b', 'g', 'orange', 'c', 'm', 'y', 'k', 'w', 'r']"
   ]
  },
  {
   "cell_type": "code",
   "execution_count": 1167,
   "metadata": {},
   "outputs": [],
   "source": [
    "def draw_box(ax, corners, color):\n",
    "    point_squence = torch.stack([corners[:, 0], corners[:, 1], corners[:, 3], corners[:, 2], corners[:, 0]])\n",
    "    \n",
    "    # the corners are in meter and time 10 will convert them in pixels\n",
    "    # Add 400, since the center of the image is at pixel (400, 400)\n",
    "    # The negative sign is because the y axis is reversed for matplotlib\n",
    "    ax.plot(point_squence.T[0] * 10 + 400, -point_squence.T[1] * 10 + 400, color=color)"
   ]
  },
  {
   "cell_type": "code",
   "execution_count": 1168,
   "metadata": {},
   "outputs": [
    {
     "data": {
      "image/png": "[encoded data removed]",
      "text/plain": [
       "<Figure size 432x288 with 1 Axes>"
      ]
     },
     "metadata": {
      "needs_background": "light"
     },
     "output_type": "display_data"
    }
   ],
   "source": [
    "fig, ax = plt.subplots()\n",
    "\n",
    "ax.plot(400, 400, 'x', color=\"red\")\n",
    "\n",
    "\n",
    "for i, bb in enumerate(truth_boxes):\n",
    "    # You can check the implementation of the draw box to understand how it works \n",
    "    draw_box(ax, bb, color=color_list[[int(i) for i in truth_sample.category_id][i]])  \n",
    "    \n",
    "ax.set_xlim(0, 800)\n",
    "ax.set_ylim(800, 0)\n",
    "plt.grid()"
   ]
  },
  {
   "cell_type": "code",
   "execution_count": 1169,
   "metadata": {},
   "outputs": [
    {
     "data": {
      "image/png": "[encoded data removed]",
      "text/plain": [
       "<Figure size 432x288 with 1 Axes>"
      ]
     },
     "metadata": {
      "needs_background": "light"
     },
     "output_type": "display_data"
    }
   ],
   "source": [
    "fig, ax = plt.subplots()\n",
    "\n",
    "ax.plot(400, 400, 'x', color=\"red\")\n",
    "\n",
    "\n",
    "for i, bb in enumerate(pred_boxes):\n",
    "    # You can check the implementation of the draw box to understand how it works \n",
    "    draw_box(ax, bb, color=color_list[[int(i) for i in pred_sample.category_id][i]])  \n",
    "    \n",
    "ax.set_xlim(0, 800)\n",
    "ax.set_ylim(800, 0)\n",
    "plt.grid()"
   ]
  },
  {
   "cell_type": "markdown",
   "metadata": {},
   "source": [
    "## Get average"
   ]
  },
  {
   "cell_type": "code",
   "execution_count": 1109,
   "metadata": {},
   "outputs": [
    {
     "name": "stderr",
     "output_type": "stream",
     "text": [
      "/Users/mjin/anaconda3/lib/python3.7/site-packages/ipykernel_launcher.py:7: UserWarning: Boolean Series key will be reindexed to match DataFrame index.\n",
      "  import sys\n",
      "/Users/mjin/anaconda3/lib/python3.7/site-packages/ipykernel_launcher.py:8: UserWarning: Boolean Series key will be reindexed to match DataFrame index.\n",
      "  \n"
     ]
    },
    {
     "data": {
      "text/plain": [
       "0.010044711"
      ]
     },
     "execution_count": 1109,
     "metadata": {},
     "output_type": "execute_result"
    }
   ],
   "source": [
    "results = []\n",
    "for scene in [132, 133]:\n",
    "    for sample in np.arange(0, 126):\n",
    "        try:\n",
    "            pred_sample, truth_sample, pred_boxes, truth_boxes = get_sample_boxes(scene, sample, pred, truth, 0.05)\n",
    "            results.append(compute_ats_bounding_boxes(pred_boxes, truth_boxes))\n",
    "        except:\n",
    "            print(scene, sample)\n",
    "np.mean(results)"
   ]
  },
  {
   "cell_type": "code",
   "execution_count": null,
   "metadata": {},
   "outputs": [],
   "source": []
  },
  {
   "cell_type": "code",
   "execution_count": null,
   "metadata": {},
   "outputs": [],
   "source": []
  },
  {
   "cell_type": "code",
   "execution_count": null,
   "metadata": {},
   "outputs": [],
   "source": []
  },
  {
   "cell_type": "code",
   "execution_count": null,
   "metadata": {},
   "outputs": [],
   "source": []
  },
  {
   "cell_type": "code",
   "execution_count": null,
   "metadata": {},
   "outputs": [],
   "source": []
  },
  {
   "cell_type": "markdown",
   "metadata": {},
   "source": [
    "# Category_id Distribution"
   ]
  },
  {
   "cell_type": "code",
   "execution_count": 986,
   "metadata": {},
   "outputs": [
    {
     "data": {
      "text/plain": [
       "(array([2.3570e+03, 3.1550e+03, 4.0410e+03, 2.1860e+03, 2.6560e+03,\n",
       "        4.2500e+03, 2.3936e+04, 1.1180e+04, 2.2200e+03, 7.1500e+02,\n",
       "        5.9900e+02, 2.9800e+02, 5.6500e+02, 3.5600e+02, 2.4700e+02,\n",
       "        4.6900e+02, 1.9700e+02, 9.0000e+01, 1.0200e+02, 1.4000e+01,\n",
       "        9.0000e+00, 2.3000e+01, 0.0000e+00, 0.0000e+00, 0.0000e+00,\n",
       "        0.0000e+00, 0.0000e+00, 2.0000e+00, 9.0000e+00, 3.9000e+01]),\n",
       " array([ 0.22330811,  0.88720345,  1.55109879,  2.21499414,  2.87888948,\n",
       "         3.54278482,  4.20668016,  4.8705755 ,  5.53447085,  6.19836619,\n",
       "         6.86226153,  7.52615687,  8.19005221,  8.85394755,  9.5178429 ,\n",
       "        10.18173824, 10.84563358, 11.50952892, 12.17342426, 12.83731961,\n",
       "        13.50121495, 14.16511029, 14.82900563, 15.49290097, 16.15679632,\n",
       "        16.82069166, 17.484587  , 18.14848234, 18.81237768, 19.47627303,\n",
       "        20.14016837]),\n",
       " <a list of 30 Patch objects>)"
      ]
     },
     "execution_count": 986,
     "metadata": {},
     "output_type": "execute_result"
    },
    {
     "data": {
      "image/png": "[encoded data removed]",
      "text/plain": [
       "<Figure size 432x288 with 1 Axes>"
      ]
     },
     "metadata": {
      "needs_background": "light"
     },
     "output_type": "display_data"
    }
   ],
   "source": [
    "plt.hist(truth.box_width, bins = 30)"
   ]
  },
  {
   "cell_type": "code",
   "execution_count": 987,
   "metadata": {},
   "outputs": [
    {
     "data": {
      "text/plain": [
       "(array([1.000e+00, 0.000e+00, 0.000e+00, 0.000e+00, 0.000e+00, 1.000e+00,\n",
       "        0.000e+00, 7.000e+00, 3.000e+01, 1.290e+02, 5.660e+02, 1.086e+03,\n",
       "        1.099e+03, 6.750e+02, 4.820e+02, 4.530e+02, 3.590e+02, 2.440e+02,\n",
       "        2.690e+02, 3.580e+02, 4.130e+02, 4.280e+02, 5.700e+01, 0.000e+00,\n",
       "        0.000e+00, 0.000e+00, 0.000e+00, 0.000e+00, 0.000e+00, 1.000e+00]),\n",
       " array([5.24235345, 5.29884501, 5.35533657, 5.41182813, 5.4683197 ,\n",
       "        5.52481126, 5.58130282, 5.63779438, 5.69428594, 5.7507775 ,\n",
       "        5.80726906, 5.86376062, 5.92025218, 5.97674374, 6.0332353 ,\n",
       "        6.08972687, 6.14621843, 6.20270999, 6.25920155, 6.31569311,\n",
       "        6.37218467, 6.42867623, 6.48516779, 6.54165935, 6.59815091,\n",
       "        6.65464247, 6.71113404, 6.7676256 , 6.82411716, 6.88060872,\n",
       "        6.93710028]),\n",
       " <a list of 30 Patch objects>)"
      ]
     },
     "execution_count": 987,
     "metadata": {},
     "output_type": "execute_result"
    },
    {
     "data": {
      "image/png": "[encoded data removed]",
      "text/plain": [
       "<Figure size 432x288 with 1 Axes>"
      ]
     },
     "metadata": {
      "needs_background": "light"
     },
     "output_type": "display_data"
    }
   ],
   "source": [
    "plt.hist(pred.box_width, bins = 30)"
   ]
  },
  {
   "cell_type": "code",
   "execution_count": null,
   "metadata": {},
   "outputs": [],
   "source": []
  },
  {
   "cell_type": "code",
   "execution_count": null,
   "metadata": {},
   "outputs": [],
   "source": []
  },
  {
   "cell_type": "code",
   "execution_count": 166,
   "metadata": {},
   "outputs": [
    {
     "data": {
      "text/plain": [
       "(Index(['Unnamed: 0', 'scene_id', 'sample_id', 'category_id', 'score', 'bbox',\n",
       "        'x_pred', 'y_pred', 'w_pred', 'h_pred', 'box_width', 'box_height',\n",
       "        'center_x', 'center_y'],\n",
       "       dtype='object'),\n",
       " Index(['Unnamed: 0', 'scene', 'sample', 'action', 'category', 'fl_x', 'fr_x',\n",
       "        'bl_x', 'br_x', 'fl_y', 'fr_y', 'bl_y', 'br_y', 'category_id',\n",
       "        'action_id', 'new_scene', 'front_left', 'front', 'front_right',\n",
       "        'back_left', 'back', 'back_right', 'distance', 'center_x', 'center_y',\n",
       "        'box_width', 'box_height', 'scaled_x', 'scaled_y', 'scaled_box_width',\n",
       "        'scaled_box_height', 'bev_x', 'bev_y', 'bev_box_width',\n",
       "        'bev_box_height'],\n",
       "       dtype='object'))"
      ]
     },
     "execution_count": 166,
     "metadata": {},
     "output_type": "execute_result"
    }
   ],
   "source": [
    "pred.columns, truth.columns"
   ]
  },
  {
   "cell_type": "code",
   "execution_count": 163,
   "metadata": {},
   "outputs": [
    {
     "data": {
      "text/plain": [
       "(59715, 35)"
      ]
     },
     "execution_count": 163,
     "metadata": {},
     "output_type": "execute_result"
    }
   ],
   "source": [
    "truth.shape"
   ]
  },
  {
   "cell_type": "code",
   "execution_count": null,
   "metadata": {},
   "outputs": [],
   "source": []
  },
  {
   "cell_type": "code",
   "execution_count": null,
   "metadata": {},
   "outputs": [],
   "source": []
  },
  {
   "cell_type": "code",
   "execution_count": null,
   "metadata": {},
   "outputs": [],
   "source": []
  },
  {
   "cell_type": "code",
   "execution_count": null,
   "metadata": {},
   "outputs": [],
   "source": []
  }
 ],
 "metadata": {
  "kernelspec": {
   "display_name": "Python 3",
   "language": "python",
   "name": "python3"
  },
  "language_info": {
   "codemirror_mode": {
    "name": "ipython",
    "version": 3
   },
   "file_extension": ".py",
   "mimetype": "text/x-python",
   "name": "python",
   "nbconvert_exporter": "python",
   "pygments_lexer": "ipython3",
   "version": "3.7.6"
  }
 },
 "nbformat": 4,
 "nbformat_minor": 4
}
