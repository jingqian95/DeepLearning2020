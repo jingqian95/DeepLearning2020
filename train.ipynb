{
 "cells": [
  {
   "cell_type": "code",
   "execution_count": 1,
   "metadata": {},
   "outputs": [],
   "source": [
    "# import sys\n",
    "\n",
    "# module_path = os.path.abspath(os.path.join('..'))\n",
    "# if module_path not in sys.path:\n",
    "#     sys.path.append(module_path)"
   ]
  },
  {
   "cell_type": "code",
   "execution_count": 2,
   "metadata": {},
   "outputs": [],
   "source": [
    "import datetime\n",
    "import argparse\n",
    "import traceback\n",
    "import os\n",
    "\n",
    "import torch\n",
    "import yaml\n",
    "from torch import nn\n",
    "from torch.utils.data import DataLoader\n",
    "from torchvision import transforms\n",
    "import torchvision\n",
    "import torch.nn.functional as F\n",
    "import pandas as pd\n",
    "\n",
    "from efficientdet.dataset import LabeledDataset, LabeledDataset_coco, Resizer, Normalizer, Augmenter, collater\n",
    "\n",
    "from backbone import EfficientDetBackbone\n",
    "from tensorboardX import SummaryWriter\n",
    "import numpy as np\n",
    "from tqdm.autonotebook import tqdm\n",
    "from efficientdet.loss import FocalLoss\n",
    "from efficientdet.utils import collate_fn_dl\n",
    "from utils.sync_batchnorm import patch_replication_callback\n",
    "from utils.utils import replace_w_sync_bn, CustomDataParallel, get_last_weights, init_weights"
   ]
  },
  {
   "cell_type": "code",
   "execution_count": 3,
   "metadata": {},
   "outputs": [],
   "source": [
    "class Params:\n",
    "    def __init__(self, project_file):\n",
    "        self.params = yaml.safe_load(open(project_file).read())\n",
    "\n",
    "    def __getattr__(self, item):\n",
    "        return self.params.get(item, None)\n",
    "\n",
    "\n",
    "def get_args():\n",
    "    parser = argparse.ArgumentParser('Yet Another EfficientDet Pytorch: SOTA object detection network - Zylo117')\n",
    "    parser.add_argument('-p', '--project', type=str, default='dl2020', help='project file that contains parameters')\n",
    "    parser.add_argument('-c', '--compound_coef', type=int, default=0, help='coefficients of efficientdet')\n",
    "    parser.add_argument('-n', '--num_workers', type=int, default=2, help='num_workers of dataloader')\n",
    "    parser.add_argument('--batch_size', type=int, default=3, help='The number of images per batch among all devices')\n",
    "    parser.add_argument('--head_only', type=bool, default=False,\n",
    "                        help='whether finetunes only the regressor and the classifier, '\n",
    "                             'useful in early stage convergence or small/easy dataset')\n",
    "    parser.add_argument('--lr', type=float, default=1e-4)\n",
    "    parser.add_argument('--optim', type=str, default='adamw', help='select optimizer for training, '\n",
    "                                                                   'suggest using \\'admaw\\' until the'\n",
    "                                                                   ' very final stage then switch to \\'sgd\\'')\n",
    "    parser.add_argument('--alpha', type=float, default=0.25)\n",
    "    parser.add_argument('--gamma', type=float, default=1.5)\n",
    "    parser.add_argument('--num_epochs', type=int, default=100)\n",
    "    parser.add_argument('--val_interval', type=int, default=1, help='Number of epoches between valing phases')\n",
    "    parser.add_argument('--save_interval', type=int, default=500, help='Number of steps between saving')\n",
    "    parser.add_argument('--es_min_delta', type=float, default=0.0,\n",
    "                        help='Early stopping\\'s parameter: minimum change loss to qualify as an improvement')\n",
    "    parser.add_argument('--es_patience', type=int, default=0,\n",
    "                        help='Early stopping\\'s parameter: number of epochs with no improvement after which training will be stopped. Set to 0 to disable this technique.')\n",
    "    parser.add_argument('--data_path', type=str, default='datasets/', help='the root folder of dataset')\n",
    "    parser.add_argument('--annotation', type=str, default='annotation.csv', help='annotation csv file name')\n",
    "    parser.add_argument('--log_path', type=str, default='logs/')\n",
    "    parser.add_argument('--load_weights', type=str, default=None,\n",
    "                        help='whether to load weights from a checkpoint, set None to initialize, set \\'last\\' to load last checkpoint')\n",
    "    parser.add_argument('--saved_path', type=str, default='saved/')\n",
    "    parser.add_argument('--debug', type=bool, default=False, help='whether visualize the predicted boxes of trainging, '\n",
    "                                                                  'the output images will be in test/')\n",
    "\n",
    "    args = parser.parse_args()\n",
    "    return args\n"
   ]
  },
  {
   "cell_type": "code",
   "execution_count": 4,
   "metadata": {},
   "outputs": [],
   "source": [
    "params = Params(f'projects/dl2020.yml')\n",
    "\n",
    "if params.num_gpus == 0:\n",
    "    os.environ['CUDA_VISIBLE_DEVICES'] = '-1'\n",
    "\n",
    "if torch.cuda.is_available():\n",
    "    torch.cuda.manual_seed(42)\n",
    "else:\n",
    "    torch.manual_seed(42)"
   ]
  },
  {
   "cell_type": "code",
   "execution_count": 5,
   "metadata": {},
   "outputs": [],
   "source": [
    "saved_path = 'saved/' + f'/{params.project_name}/'\n",
    "log_path = 'logs/' + f'/{params.project_name}/tensorboard/'\n",
    "os.makedirs(log_path, exist_ok=True)\n",
    "os.makedirs(saved_path, exist_ok=True)"
   ]
  },
  {
   "cell_type": "code",
   "execution_count": 6,
   "metadata": {},
   "outputs": [],
   "source": [
    "training_params = {'batch_size': 2,\n",
    "                   'shuffle': False,\n",
    "                   'drop_last': True,\n",
    "                   'collate_fn': collater,\n",
    "#                    'collate_fn': collate_fn_dl,\n",
    "                   'num_workers': 0}\n",
    "\n",
    "val_params = {'batch_size': 2,\n",
    "              'shuffle': False,\n",
    "              'drop_last': True,\n",
    "              'collate_fn': collater,\n",
    "#               'collate_fn': collate_fn_dl,\n",
    "              'num_workers': 2}"
   ]
  },
  {
   "cell_type": "markdown",
   "metadata": {},
   "source": [
    "# Try new data loader"
   ]
  },
  {
   "cell_type": "code",
   "execution_count": 7,
   "metadata": {},
   "outputs": [],
   "source": [
    "# train_scene_index = np.arange(106, 127)\n",
    "# val_scene_index = np.arange(128, 134)\n",
    "# input_sizes = [512, 640, 768, 896, 1024, 1280, 1280, 1536]\n",
    "\n",
    "# transform_dl = torchvision.transforms.ToTensor()\n",
    "\n",
    "# transform = transforms.Compose([Normalizer(mean=params.mean, std=params.std),\\\n",
    "#                                 Augmenter(),\\\n",
    "#                                 Resizer(input_sizes[0])])\n",
    "\n",
    "# training_set = LabeledDataset(image_folder = os.path.join('datasets/', params.project_name),\n",
    "#                                   annotation_file = os.path.join('datasets/', params.project_name, 'annotation.csv'),\n",
    "#                                   scene_index = train_scene_index,\n",
    "#                                   transform = transform_dl,\n",
    "# #                                   transform = transform,\n",
    "#                                   extra_info = True\n",
    "#                                   )\n",
    "\n",
    "# training_generator = DataLoader(training_set, **training_params)\n",
    "\n",
    "\n",
    "# val_set = LabeledDataset(image_folder = os.path.join('datasets/', params.project_name),\n",
    "#                                   annotation_file = os.path.join('datasets/', params.project_name, 'annotation.csv'),\n",
    "#                                   scene_index = val_scene_index,\n",
    "#                                   transform = transform_dl,\n",
    "#                                   extra_info = True\n",
    "#                                   )\n",
    "\n",
    "# val_generator = DataLoader(val_set, **val_params)\n"
   ]
  },
  {
   "cell_type": "code",
   "execution_count": 8,
   "metadata": {},
   "outputs": [],
   "source": [
    "train_scene_index = np.arange(106, 127)\n",
    "val_scene_index = np.arange(128, 134)\n",
    "input_sizes = [512, 640, 768, 896, 1024, 1280, 1280, 1536]\n",
    "\n",
    "transform = transforms.Compose([Normalizer(mean=params.mean, std=params.std),\\\n",
    "                                Augmenter(),\\\n",
    "                                Resizer(input_sizes[0])])\n",
    "\n",
    "training_set = LabeledDataset_coco(image_folder = os.path.join('datasets/', params.project_name),\n",
    "                                  annotation_file = os.path.join('datasets/', params.project_name, 'annotation_newfeat_3.csv'),\n",
    "                                  scene_index = train_scene_index,\n",
    "                                  transform = transform,\n",
    "                                  extra_info = True\n",
    "                                  )\n",
    "training_generator = DataLoader(training_set, **training_params)\n",
    "\n",
    "val_set = LabeledDataset_coco(image_folder = os.path.join('datasets/', params.project_name),\n",
    "                                  annotation_file = os.path.join('datasets/', params.project_name, 'annotation_newfeat_3.csv'),\n",
    "                                  scene_index = val_scene_index,\n",
    "                                  transform = transform,\n",
    "                                  extra_info = True\n",
    "                                  )\n",
    "\n",
    "val_generator = DataLoader(val_set, **val_params)\n",
    "\n"
   ]
  },
  {
   "cell_type": "code",
   "execution_count": 9,
   "metadata": {},
   "outputs": [],
   "source": [
    "# progress_bar = tqdm(training_generator)\n",
    "# for iter, data in enumerate(progress_bar):\n",
    "#     imgs = data['img']\n",
    "#     annot = data['annot']\n",
    "    \n",
    "#     break"
   ]
  },
  {
   "cell_type": "code",
   "execution_count": 10,
   "metadata": {},
   "outputs": [],
   "source": [
    "# import matplotlib\n",
    "# import matplotlib.pyplot as plt\n",
    "# matplotlib.rcParams['figure.figsize'] = [5, 5]\n",
    "# matplotlib.rcParams['figure.dpi'] = 200\n",
    "# # plt.figure(figsize=(3,18))\n",
    "# plt.imshow(torchvision.utils.make_grid(imgs[0], nrow=3).numpy().transpose(1, 2, 0))\n",
    "# plt.axis('off');"
   ]
  },
  {
   "cell_type": "code",
   "execution_count": 11,
   "metadata": {},
   "outputs": [],
   "source": [
    "model = EfficientDetBackbone(num_classes=len(params.obj_list), compound_coef = 0,\n",
    "                             ratios=eval(params.anchors_ratios), scales=eval(params.anchors_scales))"
   ]
  },
  {
   "cell_type": "code",
   "execution_count": 12,
   "metadata": {},
   "outputs": [
    {
     "name": "stdout",
     "output_type": "stream",
     "text": [
      "[Info] initializing weights...\n"
     ]
    }
   ],
   "source": [
    "load_weights = None\n",
    "if load_weights is not None:\n",
    "    if opt.load_weights.endswith('.pth'):\n",
    "        weights_path = opt.load_weights\n",
    "    else:\n",
    "        weights_path = get_last_weights(opt.saved_path)\n",
    "    try:\n",
    "        last_step = int(os.path.basename(weights_path).split('_')[-1].split('.')[0])\n",
    "    except:\n",
    "        last_step = 0\n",
    "\n",
    "    try:\n",
    "        ret = model.load_state_dict(torch.load(weights_path), strict=False)\n",
    "    except RuntimeError as e:\n",
    "        print(f'[Warning] Ignoring {e}')\n",
    "        print(\n",
    "            '[Warning] Don\\'t panic if you see this, this might be because you load a pretrained weights with different number of classes. The rest of the weights should be loaded already.')\n",
    "\n",
    "    print(f'[Info] loaded weights: {os.path.basename(weights_path)}, resuming checkpoint from step: {last_step}')\n",
    "else:\n",
    "    last_step = 0\n",
    "    print('[Info] initializing weights...')\n",
    "    init_weights(model)\n",
    "    \n",
    "    \n",
    "    \n",
    "    \n",
    "    "
   ]
  },
  {
   "cell_type": "code",
   "execution_count": 13,
   "metadata": {},
   "outputs": [],
   "source": [
    "# if opt.head_only:\n",
    "#     def freeze_backbone(m):\n",
    "#         classname = m.__class__.__name__\n",
    "#         for ntl in ['EfficientNet', 'BiFPN']:\n",
    "#             if ntl in classname:\n",
    "#                 for param in m.parameters():\n",
    "#                     param.requires_grad = False\n",
    "\n",
    "#     model.apply(freeze_backbone)\n",
    "#     print('[Info] freezed backbone')"
   ]
  },
  {
   "cell_type": "code",
   "execution_count": 14,
   "metadata": {},
   "outputs": [],
   "source": [
    "if params.num_gpus > 1 and 3 // params.num_gpus < 4:\n",
    "    model.apply(replace_w_sync_bn)\n",
    "    use_sync_bn = True\n",
    "else:\n",
    "    use_sync_bn = False"
   ]
  },
  {
   "cell_type": "code",
   "execution_count": 15,
   "metadata": {},
   "outputs": [],
   "source": [
    "writer = SummaryWriter(log_path + f'/{datetime.datetime.now().strftime(\"%Y%m%d-%H%M%S\")}/')"
   ]
  },
  {
   "cell_type": "code",
   "execution_count": 16,
   "metadata": {},
   "outputs": [],
   "source": [
    "class ModelWithLoss(nn.Module):\n",
    "    def __init__(self, model, debug=False):\n",
    "        super().__init__()\n",
    "        self.criterion = FocalLoss()\n",
    "        self.model = model\n",
    "        self.debug = debug\n",
    "\n",
    "    def forward(self, imgs, annotations, obj_list=None):\n",
    "        _, regression, classification, anchors = self.model(imgs)\n",
    "        if self.debug:\n",
    "            cls_loss, reg_loss = self.criterion(classification, regression, anchors, annotations,\n",
    "                                                imgs=imgs, obj_list=obj_list)\n",
    "        else:\n",
    "            cls_loss, reg_loss = self.criterion(classification, regression, anchors, annotations)\n",
    "        return cls_loss, reg_loss, regression, classification, anchors\n",
    "\n",
    "model = ModelWithLoss(model, debug= False)"
   ]
  },
  {
   "cell_type": "code",
   "execution_count": 17,
   "metadata": {},
   "outputs": [],
   "source": [
    "# if params.num_gpus > 0:\n",
    "#     model = model.cuda()\n",
    "#     if params.num_gpus > 1:\n",
    "#         model = CustomDataParallel(model, params.num_gpus)\n",
    "#         if use_sync_bn:\n",
    "#             patch_replication_callback(model)"
   ]
  },
  {
   "cell_type": "code",
   "execution_count": 18,
   "metadata": {},
   "outputs": [],
   "source": [
    "optim = 'adamw'\n",
    "if optim == 'adamw':\n",
    "    optimizer = torch.optim.AdamW(model.parameters(), 1e-4)\n",
    "else:\n",
    "    optimizer = torch.optim.SGD(model.parameters(), 1e-4, momentum=0.9, nesterov=True)"
   ]
  },
  {
   "cell_type": "code",
   "execution_count": 19,
   "metadata": {},
   "outputs": [],
   "source": [
    "scheduler = torch.optim.lr_scheduler.ReduceLROnPlateau(optimizer, patience=3, verbose=True)"
   ]
  },
  {
   "cell_type": "code",
   "execution_count": 20,
   "metadata": {},
   "outputs": [],
   "source": [
    "epoch = 0\n",
    "best_loss = 1e5\n",
    "best_epoch = 0\n",
    "step = max(0, last_step)\n",
    "model.train()\n",
    "\n",
    "num_iter_per_epoch = len(training_generator)"
   ]
  },
  {
   "cell_type": "code",
   "execution_count": 21,
   "metadata": {},
   "outputs": [],
   "source": [
    "def save_checkpoint(model, name):\n",
    "    if isinstance(model, CustomDataParallel):\n",
    "        torch.save(model.module.model.state_dict(), os.path.join('saved/', name))\n",
    "    else:\n",
    "        torch.save(model.model.state_dict(), os.path.join('saved/', name))"
   ]
  },
  {
   "cell_type": "code",
   "execution_count": 22,
   "metadata": {},
   "outputs": [
    {
     "data": {
      "application/vnd.jupyter.widget-view+json": {
       "model_id": "cd49c66e132f4ed08f859b94b59e2f99",
       "version_major": 2,
       "version_minor": 0
      },
      "text/plain": [
       "HBox(children=(FloatProgress(value=0.0, max=1323.0), HTML(value='')))"
      ]
     },
     "metadata": {},
     "output_type": "display_data"
    },
    {
     "name": "stdout",
     "output_type": "stream",
     "text": [
      "tensor(30091.5859, grad_fn=<MeanBackward0>)\n",
      "tensor(0.4282, grad_fn=<MeanBackward0>)\n",
      "checkpoint...\n"
     ]
    }
   ],
   "source": [
    "for epoch in range(10):\n",
    "    last_epoch = step // num_iter_per_epoch\n",
    "    if epoch < last_epoch:\n",
    "        continue\n",
    "\n",
    "\n",
    "    epoch_loss = []\n",
    "    progress_bar = tqdm(training_generator)\n",
    "    for iter, data in enumerate(progress_bar):\n",
    "        if iter < step - last_epoch * num_iter_per_epoch:\n",
    "            progress_bar.update()\n",
    "            continue\n",
    "            \n",
    "        imgs = data['bev_img']\n",
    "        annot = data['bev_annot']\n",
    "\n",
    "#         sample_cat, sample, target, road_image, extra = data     \n",
    "#         sample_cat = torch.stack(sample_cat)\n",
    "\n",
    "        if params.num_gpus == 1:\n",
    "            # if only one gpu, just send it to cuda:0\n",
    "            # elif multiple gpus, send it to multiple gpus in CustomDataParallel, not here\n",
    "            imgs = imgs.cuda()\n",
    "            annot = annot.cuda()\n",
    "            \n",
    "            \n",
    "        optimizer.zero_grad()\n",
    "        \n",
    "        \n",
    "        \n",
    "#         criterion = FocalLoss()\n",
    "#         _, regression, classification, anchors = model(imgs)\n",
    "#         cls_loss, reg_loss = criterion(classification, regression, anchors, annot)\n",
    "\n",
    "        \n",
    "        cls_loss, reg_loss, regression, classification, anchors = model(imgs, annot, obj_list=params.obj_list)\n",
    "#         cls_loss, reg_loss = model(imgs, target, obj_list=params.obj_list)\n",
    "\n",
    "\n",
    "        cls_loss = cls_loss.mean()\n",
    "        reg_loss = reg_loss.mean()\n",
    "\n",
    "\n",
    "        print(cls_loss)\n",
    "        print(reg_loss)\n",
    "\n",
    "        loss = cls_loss + reg_loss\n",
    "        if loss == 0 or not torch.isfinite(loss):\n",
    "            continue\n",
    "            \n",
    "            \n",
    "        loss.backward()\n",
    "        # torch.nn.utils.clip_grad_norm_(model.parameters(), 0.1)\n",
    "        optimizer.step()\n",
    "\n",
    "        epoch_loss.append(float(loss))\n",
    "\n",
    "        progress_bar.set_description(\n",
    "            'Step: {}. Epoch: {}/{}. Iteration: {}/{}. Cls loss: {:.5f}. Reg loss: {:.5f}. Total loss: {:.5f}'.format(\n",
    "                step, epoch, 10, iter + 1, num_iter_per_epoch, cls_loss.item(),\n",
    "                reg_loss.item(), loss.item()))\n",
    "        writer.add_scalars('Loss', {'train': loss}, step)\n",
    "        writer.add_scalars('Regression_loss', {'train': reg_loss}, step)\n",
    "        writer.add_scalars('Classfication_loss', {'train': cls_loss}, step)\n",
    "\n",
    "        \n",
    "        # log learning_rate\n",
    "        current_lr = optimizer.param_groups[0]['lr']\n",
    "        writer.add_scalar('learning_rate', current_lr, step)\n",
    "\n",
    "        step += 1\n",
    "\n",
    "        if step % 1 == 0 and step > 0:\n",
    "            save_checkpoint(model, f'efficientdet-d{0}_{epoch}_{step}.pth')\n",
    "            print('checkpoint...')\n",
    "            \n",
    "            \n",
    "    \n",
    "        break\n",
    "    \n",
    "    break\n",
    "    scheduler.step(np.mean(epoch_loss))"
   ]
  },
  {
   "cell_type": "code",
   "execution_count": 23,
   "metadata": {},
   "outputs": [],
   "source": [
    "# if epoch % opt.val_interval == 0:\n",
    "#     model.eval()\n",
    "#     loss_regression_ls = []\n",
    "#     loss_classification_ls = []\n",
    "#     for iter, data in enumerate(val_generator):\n",
    "#         with torch.no_grad():\n",
    "#             imgs = data['img']\n",
    "#             annot = data['annot']\n",
    "\n",
    "#             if params.num_gpus == 1:\n",
    "#                 imgs = imgs.cuda()\n",
    "#                 annot = annot.cuda()\n",
    "\n",
    "#             cls_loss, reg_loss, regression, classification, anchors = model(imgs, annot, obj_list=params.obj_list)\n",
    "#             cls_loss = cls_loss.mean()\n",
    "#             reg_loss = reg_loss.mean()\n",
    "\n",
    "#             loss = cls_loss + reg_loss\n",
    "#             if loss == 0 or not torch.isfinite(loss):\n",
    "#                 continue\n",
    "\n",
    "#             loss_classification_ls.append(cls_loss.item())\n",
    "#             loss_regression_ls.append(reg_loss.item())\n",
    "\n",
    "#     cls_loss = np.mean(loss_classification_ls)\n",
    "#     reg_loss = np.mean(loss_regression_ls)\n",
    "#     loss = cls_loss + reg_loss\n",
    "\n",
    "#     print(\n",
    "#         'Val. Epoch: {}/{}. Classification loss: {:1.5f}. Regression loss: {:1.5f}. Total loss: {:1.5f}'.format(\n",
    "#             epoch, opt.num_epochs, cls_loss, reg_loss, loss))\n",
    "#     writer.add_scalars('Total_loss', {'val': loss}, step)\n",
    "#     writer.add_scalars('Regression_loss', {'val': reg_loss}, step)\n",
    "#     writer.add_scalars('Classfication_loss', {'val': cls_loss}, step)\n",
    "\n",
    "#     if loss + opt.es_min_delta < best_loss:\n",
    "#         best_loss = loss\n",
    "#         best_epoch = epoch\n",
    "\n",
    "#         save_checkpoint(model, f'efficientdet-d{opt.compound_coef}_{epoch}_{step}.pth')\n",
    "\n",
    "#     model.train()"
   ]
  },
  {
   "cell_type": "code",
   "execution_count": null,
   "metadata": {},
   "outputs": [],
   "source": []
  },
  {
   "cell_type": "code",
   "execution_count": null,
   "metadata": {},
   "outputs": [],
   "source": []
  },
  {
   "cell_type": "code",
   "execution_count": null,
   "metadata": {},
   "outputs": [],
   "source": []
  },
  {
   "cell_type": "code",
   "execution_count": null,
   "metadata": {},
   "outputs": [],
   "source": []
  },
  {
   "cell_type": "code",
   "execution_count": 24,
   "metadata": {},
   "outputs": [
    {
     "data": {
      "text/plain": [
       "torch.Size([2, 109120, 4])"
      ]
     },
     "execution_count": 24,
     "metadata": {},
     "output_type": "execute_result"
    }
   ],
   "source": [
    "regression.shape"
   ]
  },
  {
   "cell_type": "code",
   "execution_count": 25,
   "metadata": {},
   "outputs": [
    {
     "data": {
      "text/plain": [
       "torch.Size([2, 109120, 9])"
      ]
     },
     "execution_count": 25,
     "metadata": {},
     "output_type": "execute_result"
    }
   ],
   "source": [
    "classification.shape"
   ]
  },
  {
   "cell_type": "code",
   "execution_count": 26,
   "metadata": {},
   "outputs": [
    {
     "data": {
      "text/plain": [
       "torch.Size([1, 109120, 4])"
      ]
     },
     "execution_count": 26,
     "metadata": {},
     "output_type": "execute_result"
    }
   ],
   "source": [
    "anchors.shape"
   ]
  },
  {
   "cell_type": "code",
   "execution_count": 27,
   "metadata": {},
   "outputs": [
    {
     "data": {
      "text/plain": [
       "tensor([[[ -6.4000,  -6.4000,  14.4000,  14.4000],\n",
       "         [ -3.2800, -10.5600,  11.2800,  18.5600],\n",
       "         [-10.5600,  -3.2800,  18.5600,  11.2800],\n",
       "         ...,\n",
       "         [421.1200, 434.5600, 474.8800, 461.4400],\n",
       "         [435.9040, 417.7600, 460.0960, 478.2400],\n",
       "         [417.7600, 435.9040, 478.2400, 460.0960]]])"
      ]
     },
     "execution_count": 27,
     "metadata": {},
     "output_type": "execute_result"
    }
   ],
   "source": [
    "anchors\n",
    "# y1, y2, x1, x2"
   ]
  },
  {
   "cell_type": "code",
   "execution_count": 28,
   "metadata": {},
   "outputs": [],
   "source": [
    "annots = pd.read_csv('datasets/dl2020/annotation_newfeat_3.csv')"
   ]
  },
  {
   "cell_type": "code",
   "execution_count": 29,
   "metadata": {},
   "outputs": [],
   "source": [
    "true_boxes = annots.loc[:, ['bev_x', 'bev_y', 'bev_box_width', 'bev_box_height']]"
   ]
  },
  {
   "cell_type": "code",
   "execution_count": 30,
   "metadata": {},
   "outputs": [],
   "source": [
    "true_boxes = true_boxes.rename(columns = {'bev_x':'x1', 'bev_y':'y1'})"
   ]
  },
  {
   "cell_type": "code",
   "execution_count": 31,
   "metadata": {},
   "outputs": [],
   "source": [
    "true_boxes['x2'] = true_boxes['x1'] + true_boxes['bev_box_width']\n",
    "true_boxes['y2'] = true_boxes['y1'] + true_boxes['bev_box_height']"
   ]
  },
  {
   "cell_type": "code",
   "execution_count": 32,
   "metadata": {},
   "outputs": [
    {
     "data": {
      "text/html": [
       "<div>\n",
       "<style scoped>\n",
       "    .dataframe tbody tr th:only-of-type {\n",
       "        vertical-align: middle;\n",
       "    }\n",
       "\n",
       "    .dataframe tbody tr th {\n",
       "        vertical-align: top;\n",
       "    }\n",
       "\n",
       "    .dataframe thead th {\n",
       "        text-align: right;\n",
       "    }\n",
       "</style>\n",
       "<table border=\"1\" class=\"dataframe\">\n",
       "  <thead>\n",
       "    <tr style=\"text-align: right;\">\n",
       "      <th></th>\n",
       "      <th>x1</th>\n",
       "      <th>y1</th>\n",
       "      <th>bev_box_width</th>\n",
       "      <th>bev_box_height</th>\n",
       "      <th>x2</th>\n",
       "      <th>y2</th>\n",
       "    </tr>\n",
       "  </thead>\n",
       "  <tbody>\n",
       "    <tr>\n",
       "      <th>0</th>\n",
       "      <td>257.133622</td>\n",
       "      <td>188.264293</td>\n",
       "      <td>45.901617</td>\n",
       "      <td>19.192461</td>\n",
       "      <td>303.035239</td>\n",
       "      <td>207.456754</td>\n",
       "    </tr>\n",
       "    <tr>\n",
       "      <th>1</th>\n",
       "      <td>340.971091</td>\n",
       "      <td>89.733196</td>\n",
       "      <td>45.192250</td>\n",
       "      <td>24.245005</td>\n",
       "      <td>386.163340</td>\n",
       "      <td>113.978201</td>\n",
       "    </tr>\n",
       "    <tr>\n",
       "      <th>2</th>\n",
       "      <td>762.837920</td>\n",
       "      <td>591.268765</td>\n",
       "      <td>10.163753</td>\n",
       "      <td>11.062520</td>\n",
       "      <td>773.001673</td>\n",
       "      <td>602.331285</td>\n",
       "    </tr>\n",
       "    <tr>\n",
       "      <th>3</th>\n",
       "      <td>372.557776</td>\n",
       "      <td>318.677864</td>\n",
       "      <td>47.331526</td>\n",
       "      <td>19.205176</td>\n",
       "      <td>419.889303</td>\n",
       "      <td>337.883040</td>\n",
       "    </tr>\n",
       "    <tr>\n",
       "      <th>4</th>\n",
       "      <td>743.346160</td>\n",
       "      <td>347.127043</td>\n",
       "      <td>47.331526</td>\n",
       "      <td>19.205176</td>\n",
       "      <td>790.677686</td>\n",
       "      <td>366.332218</td>\n",
       "    </tr>\n",
       "  </tbody>\n",
       "</table>\n",
       "</div>"
      ],
      "text/plain": [
       "           x1          y1  bev_box_width  bev_box_height          x2  \\\n",
       "0  257.133622  188.264293      45.901617       19.192461  303.035239   \n",
       "1  340.971091   89.733196      45.192250       24.245005  386.163340   \n",
       "2  762.837920  591.268765      10.163753       11.062520  773.001673   \n",
       "3  372.557776  318.677864      47.331526       19.205176  419.889303   \n",
       "4  743.346160  347.127043      47.331526       19.205176  790.677686   \n",
       "\n",
       "           y2  \n",
       "0  207.456754  \n",
       "1  113.978201  \n",
       "2  602.331285  \n",
       "3  337.883040  \n",
       "4  366.332218  "
      ]
     },
     "execution_count": 32,
     "metadata": {},
     "output_type": "execute_result"
    }
   ],
   "source": [
    "true_boxes.head()"
   ]
  },
  {
   "cell_type": "code",
   "execution_count": 33,
   "metadata": {},
   "outputs": [],
   "source": [
    "import matplotlib\n",
    "import matplotlib.pyplot as plt\n",
    "# matplotlib.rcParams['figure.figsize'] = [5, 5]\n",
    "# matplotlib.rcParams['figure.dpi'] = 200"
   ]
  },
  {
   "cell_type": "code",
   "execution_count": 34,
   "metadata": {},
   "outputs": [
    {
     "data": {
      "text/plain": [
       "(0, 160)"
      ]
     },
     "execution_count": 34,
     "metadata": {},
     "output_type": "execute_result"
    },
    {
     "data": {
      "image/png": "[encoded data removed]",
      "text/plain": [
       "<Figure size 360x360 with 1 Axes>"
      ]
     },
     "metadata": {
      "needs_background": "light"
     },
     "output_type": "display_data"
    }
   ],
   "source": [
    "plt.figure(figsize = (5,5))\n",
    "plt.hist(true_boxes.bev_box_height, bins = 100, rwidth = 0.5)\n",
    "plt.xlim(0, 160)"
   ]
  },
  {
   "cell_type": "code",
   "execution_count": 35,
   "metadata": {},
   "outputs": [
    {
     "data": {
      "text/plain": [
       "(0, 160)"
      ]
     },
     "execution_count": 35,
     "metadata": {},
     "output_type": "execute_result"
    },
    {
     "data": {
      "image/png": "[encoded data removed]",
      "text/plain": [
       "<Figure size 360x360 with 1 Axes>"
      ]
     },
     "metadata": {
      "needs_background": "light"
     },
     "output_type": "display_data"
    }
   ],
   "source": [
    "plt.figure(figsize = (5,5))\n",
    "plt.hist(anchors[0, :, 2] - anchors[0, :, 0], bins = 1000, rwidth = 0.5)\n",
    "plt.xlim(0, 160)"
   ]
  },
  {
   "cell_type": "code",
   "execution_count": 36,
   "metadata": {},
   "outputs": [
    {
     "data": {
      "text/plain": [
       "(201.40168368075302, tensor(524.1600))"
      ]
     },
     "execution_count": 36,
     "metadata": {},
     "output_type": "execute_result"
    }
   ],
   "source": [
    "max(true_boxes.bev_box_width), max(anchors[0, :, 3] - anchors[0, :, 1])"
   ]
  },
  {
   "cell_type": "code",
   "execution_count": 37,
   "metadata": {},
   "outputs": [
    {
     "data": {
      "text/plain": [
       "tensor(12288)"
      ]
     },
     "execution_count": 37,
     "metadata": {},
     "output_type": "execute_result"
    }
   ],
   "source": [
    "# sum(true_boxes.bev_box_width < 2.5)\n",
    "sum(anchors[0, :, 2] - anchors[0, :, 0] < 2.5)"
   ]
  },
  {
   "cell_type": "code",
   "execution_count": 38,
   "metadata": {},
   "outputs": [
    {
     "data": {
      "text/plain": [
       "tensor(2288)"
      ]
     },
     "execution_count": 38,
     "metadata": {},
     "output_type": "execute_result"
    }
   ],
   "source": [
    "sum(anchors[0, :, 2] - anchors[0, :, 0] > 100)"
   ]
  },
  {
   "cell_type": "code",
   "execution_count": 39,
   "metadata": {},
   "outputs": [
    {
     "data": {
      "text/plain": [
       "1114"
      ]
     },
     "execution_count": 39,
     "metadata": {},
     "output_type": "execute_result"
    }
   ],
   "source": [
    "sum(true_boxes.bev_box_width > 100)"
   ]
  },
  {
   "cell_type": "code",
   "execution_count": 40,
   "metadata": {},
   "outputs": [
    {
     "data": {
      "text/plain": [
       "<matplotlib.collections.PathCollection at 0x138cb4ed0>"
      ]
     },
     "execution_count": 40,
     "metadata": {},
     "output_type": "execute_result"
    },
    {
     "data": {
      "image/png": "[encoded data removed]",
      "text/plain": [
       "<Figure size 432x288 with 1 Axes>"
      ]
     },
     "metadata": {
      "needs_background": "light"
     },
     "output_type": "display_data"
    }
   ],
   "source": [
    "plt.scatter(anchors[0, :, 1], anchors[0, :, 0])"
   ]
  },
  {
   "cell_type": "code",
   "execution_count": 41,
   "metadata": {},
   "outputs": [
    {
     "data": {
      "text/plain": [
       "<matplotlib.collections.PathCollection at 0x138351dd0>"
      ]
     },
     "execution_count": 41,
     "metadata": {},
     "output_type": "execute_result"
    },
    {
     "data": {
      "image/png": "[encoded data removed]",
      "text/plain": [
       "<Figure size 432x288 with 1 Axes>"
      ]
     },
     "metadata": {
      "needs_background": "light"
     },
     "output_type": "display_data"
    }
   ],
   "source": [
    "plt.scatter(true_boxes.x1, true_boxes.y1)"
   ]
  },
  {
   "cell_type": "code",
   "execution_count": 42,
   "metadata": {},
   "outputs": [
    {
     "data": {
      "text/plain": [
       "{'img': tensor([[[[-1.8642, -1.8129, -1.8268,  ...,  0.0000,  0.0000,  0.0000],\n",
       "           [-1.7968, -1.7840, -1.8107,  ...,  0.0000,  0.0000,  0.0000],\n",
       "           [-1.7540, -1.7347, -1.7668,  ...,  0.0000,  0.0000,  0.0000],\n",
       "           ...,\n",
       "           [ 2.2489,  2.2489,  2.2489,  ...,  0.0000,  0.0000,  0.0000],\n",
       "           [ 2.2489,  2.2489,  2.2489,  ...,  0.0000,  0.0000,  0.0000],\n",
       "           [ 2.2489,  2.2489,  2.2489,  ...,  0.0000,  0.0000,  0.0000]],\n",
       " \n",
       "          [[-1.7764, -1.7239, -1.7381,  ...,  0.0000,  0.0000,  0.0000],\n",
       "           [-1.7075, -1.6943, -1.7217,  ...,  0.0000,  0.0000,  0.0000],\n",
       "           [-1.6637, -1.6440, -1.6768,  ...,  0.0000,  0.0000,  0.0000],\n",
       "           ...,\n",
       "           [ 2.4286,  2.4286,  2.4286,  ...,  0.0000,  0.0000,  0.0000],\n",
       "           [ 2.4286,  2.4286,  2.4286,  ...,  0.0000,  0.0000,  0.0000],\n",
       "           [ 2.4286,  2.4286,  2.4286,  ...,  0.0000,  0.0000,  0.0000]],\n",
       " \n",
       "          [[-1.5811, -1.5027, -1.5081,  ...,  0.0000,  0.0000,  0.0000],\n",
       "           [-1.5125, -1.4733, -1.4918,  ...,  0.0000,  0.0000,  0.0000],\n",
       "           [-1.4689, -1.4232, -1.4471,  ...,  0.0000,  0.0000,  0.0000],\n",
       "           ...,\n",
       "           [ 2.6400,  2.6400,  2.6400,  ...,  0.0000,  0.0000,  0.0000],\n",
       "           [ 2.6400,  2.6400,  2.6400,  ...,  0.0000,  0.0000,  0.0000],\n",
       "           [ 2.6400,  2.6400,  2.6400,  ...,  0.0000,  0.0000,  0.0000]]],\n",
       " \n",
       " \n",
       "         [[[-1.8172, -1.7465, -1.7968,  ...,  0.0000,  0.0000,  0.0000],\n",
       "           [-1.4832, -1.7016, -1.7936,  ...,  0.0000,  0.0000,  0.0000],\n",
       "           [-1.5870, -1.5196, -1.5153,  ...,  0.0000,  0.0000,  0.0000],\n",
       "           ...,\n",
       "           [ 2.2393,  2.2489,  2.2489,  ...,  0.0000,  0.0000,  0.0000],\n",
       "           [ 2.2254,  2.2446,  2.2489,  ...,  0.0000,  0.0000,  0.0000],\n",
       "           [ 2.2061,  2.2446,  2.2489,  ...,  0.0000,  0.0000,  0.0000]],\n",
       " \n",
       "          [[-1.6845, -1.6517, -1.7348,  ...,  0.0000,  0.0000,  0.0000],\n",
       "           [-1.3332, -1.5959, -1.7217,  ...,  0.0000,  0.0000,  0.0000],\n",
       "           [-1.4186, -1.3759, -1.4022,  ...,  0.0000,  0.0000,  0.0000],\n",
       "           ...,\n",
       "           [ 2.4275,  2.4143,  2.4111,  ...,  0.0000,  0.0000,  0.0000],\n",
       "           [ 2.4286,  2.4154,  2.4111,  ...,  0.0000,  0.0000,  0.0000],\n",
       "           [ 2.4286,  2.4154,  2.4111,  ...,  0.0000,  0.0000,  0.0000]],\n",
       " \n",
       "          [[-1.3524, -1.4308, -1.5844,  ...,  0.0000,  0.0000,  0.0000],\n",
       "           [-1.0485, -1.4112, -1.5746,  ...,  0.0000,  0.0000,  0.0000],\n",
       "           [-1.2010, -1.2271, -1.2739,  ...,  0.0000,  0.0000,  0.0000],\n",
       "           ...,\n",
       "           [ 2.6335,  2.6400,  2.6400,  ...,  0.0000,  0.0000,  0.0000],\n",
       "           [ 2.6400,  2.6400,  2.6400,  ...,  0.0000,  0.0000,  0.0000],\n",
       "           [ 2.6400,  2.6400,  2.6400,  ...,  0.0000,  0.0000,  0.0000]]]]),\n",
       " 'annot': tensor([[[120.2087, 212.2851, 163.5726, 226.4297,   0.0000],\n",
       "          [  2.1837, 212.6623,  69.9051, 226.8655,   0.0000],\n",
       "          [193.8978,  82.5246, 218.4836,  93.0293,   2.0000],\n",
       "          [ 14.7045,  64.1507,  46.7122,  74.0643,   2.0000],\n",
       "          [361.3371,  62.8791, 389.1073,  72.5146,   2.0000],\n",
       "          [102.3358,  64.1550, 134.4570,  74.7759,   2.0000],\n",
       "          [-38.4125, 213.4563,  -0.4236, 226.7581,   2.0000],\n",
       "          [188.6512, 214.3849, 218.4765, 224.4302,   2.0000],\n",
       "          [234.9666,  64.3028, 262.8083,  74.3208,   2.0000],\n",
       "          [273.3982, 214.5455, 305.1781, 225.1844,   2.0000],\n",
       "          [145.9871,  63.9835, 178.5967,  74.0052,   2.0000],\n",
       "          [225.9216, 214.2441, 266.2365, 226.6847,   2.0000],\n",
       "          [ 70.7720, 164.2085,  98.7984, 174.2399,   2.0000],\n",
       "          [312.0514, 213.4983, 348.1590, 225.2461,   0.0000],\n",
       "          [ 62.8990,  64.0555,  95.0682,  74.9335,   2.0000],\n",
       "          [-40.7083,  64.3518, -10.5507,  74.0682,   2.0000],\n",
       "          [322.7919,  63.7815, 351.4325,  73.4135,   2.0000],\n",
       "          [209.1467, 180.1081, 238.6588, 190.6260,   2.0000],\n",
       "          [290.0269, 198.7404, 319.5329, 208.9678,   2.0000],\n",
       "          [ 78.3452, 214.7333, 109.3262, 225.6223,   2.0000],\n",
       "          [278.4319,  64.0061, 309.6390,  73.6786,   2.0000],\n",
       "          [ -1.0000,  -1.0000,  -1.0000,  -1.0000,  -1.0000],\n",
       "          [ -1.0000,  -1.0000,  -1.0000,  -1.0000,  -1.0000],\n",
       "          [ -1.0000,  -1.0000,  -1.0000,  -1.0000,  -1.0000]],\n",
       " \n",
       "         [[ 19.7337, 212.3790,  87.4823, 226.6683,   0.0000],\n",
       "          [137.7824, 212.2094, 181.1210, 226.3006,   0.0000],\n",
       "          [379.2133,  63.0402, 407.0032,  72.7113,   2.0000],\n",
       "          [288.6646, 198.7363, 318.1901, 209.0011,   2.0000],\n",
       "          [ 32.5738,  63.8727,  64.6017,  73.8273,   2.0000],\n",
       "          [296.3026,  64.0642, 327.5294,  73.7767,   2.0000],\n",
       "          [-86.7404, 213.4029, -27.7373, 228.0737,   0.0000],\n",
       "          [-76.8472,  65.7073, -45.7576,  74.8382,   2.0000],\n",
       "          [-20.8326, 213.1640,  17.1329, 226.4192,   2.0000],\n",
       "          [243.4744, 214.2434, 283.8144, 226.7355,   2.0000],\n",
       "          [163.8570,  63.8726, 196.4870,  73.9361,   2.0000],\n",
       "          [203.6291, 180.0259, 233.1612, 190.5812,   2.0000],\n",
       "          [ 80.7721,  63.8374, 112.9581,  74.7550,   2.0000],\n",
       "          [329.6273, 213.6549, 365.7135, 225.3580,   0.0000],\n",
       "          [252.8370,  64.3045, 280.6991,  74.3583,   2.0000],\n",
       "          [340.6660,  63.8937, 369.3262,  73.5625,   2.0000],\n",
       "          [-22.8365,  64.0010,   7.3409,  73.7561,   2.0000],\n",
       "          [120.2263,  64.0259, 152.3310,  74.6079,   2.0000],\n",
       "          [ 95.9098, 214.5390, 126.9075, 225.4661,   2.0000],\n",
       "          [208.8448,  63.7831, 238.0452,  73.9939,   2.0000],\n",
       "          [206.2119, 214.3347, 236.0558, 224.4176,   2.0000],\n",
       "          [ 66.2076, 164.0812,  94.2168, 174.0785,   2.0000],\n",
       "          [228.0737,  82.5797, 252.6807,  93.1159,   2.0000],\n",
       "          [290.9587, 214.6014, 322.7600, 225.2809,   2.0000]]]),\n",
       " 'scale': [0.6666666666666666, 0.6666666666666666],\n",
       " 'bev_img': tensor([[[[-2.1179, -2.1179, -2.1179,  ..., -2.1179, -2.1179, -2.1179],\n",
       "           [-2.1179, -2.1179, -2.1179,  ..., -2.1179, -2.1179, -2.1179],\n",
       "           [-2.1179, -2.1179, -2.1179,  ..., -2.1179, -2.1179, -2.1179],\n",
       "           ...,\n",
       "           [-2.1179, -2.1179, -2.1179,  ..., -2.1179, -2.1179, -2.1179],\n",
       "           [-2.1179, -2.1179, -2.1179,  ..., -2.1179, -2.1179, -2.1179],\n",
       "           [-2.1179, -2.1179, -2.1179,  ..., -2.1179, -2.1179, -2.1179]],\n",
       " \n",
       "          [[-2.0357, -2.0357, -2.0357,  ..., -2.0357, -2.0357, -2.0357],\n",
       "           [-2.0357, -2.0357, -2.0357,  ..., -2.0357, -2.0357, -2.0357],\n",
       "           [-2.0357, -2.0357, -2.0357,  ..., -2.0357, -2.0357, -2.0357],\n",
       "           ...,\n",
       "           [-2.0357, -2.0357, -2.0357,  ..., -2.0357, -2.0357, -2.0357],\n",
       "           [-2.0357, -2.0357, -2.0357,  ..., -2.0357, -2.0357, -2.0357],\n",
       "           [-2.0357, -2.0357, -2.0357,  ..., -2.0357, -2.0357, -2.0357]],\n",
       " \n",
       "          [[-1.8044, -1.8044, -1.8044,  ..., -1.8044, -1.8044, -1.8044],\n",
       "           [-1.8044, -1.8044, -1.8044,  ..., -1.8044, -1.8044, -1.8044],\n",
       "           [-1.8044, -1.8044, -1.8044,  ..., -1.8044, -1.8044, -1.8044],\n",
       "           ...,\n",
       "           [-1.8044, -1.8044, -1.8044,  ..., -1.8044, -1.8044, -1.8044],\n",
       "           [-1.8044, -1.8044, -1.8044,  ..., -1.8044, -1.8044, -1.8044],\n",
       "           [-1.8044, -1.8044, -1.8044,  ..., -1.8044, -1.8044, -1.8044]]],\n",
       " \n",
       " \n",
       "         [[[-2.1179, -2.1179, -2.1179,  ..., -2.1179, -2.1179, -2.1179],\n",
       "           [-2.1179, -2.1179, -2.1179,  ..., -2.1179, -2.1179, -2.1179],\n",
       "           [-2.1179, -2.1179, -2.1179,  ..., -2.1179, -2.1179, -2.1179],\n",
       "           ...,\n",
       "           [-2.1179, -2.1179, -2.1179,  ..., -2.1179, -2.1179, -2.1179],\n",
       "           [-2.1179, -2.1179, -2.1179,  ..., -2.1179, -2.1179, -2.1179],\n",
       "           [-2.1179, -2.1179, -2.1179,  ..., -2.1179, -2.1179, -2.1179]],\n",
       " \n",
       "          [[-2.0357, -2.0357, -2.0357,  ..., -2.0357, -2.0357, -2.0357],\n",
       "           [-2.0357, -2.0357, -2.0357,  ..., -2.0357, -2.0357, -2.0357],\n",
       "           [-2.0357, -2.0357, -2.0357,  ..., -2.0357, -2.0357, -2.0357],\n",
       "           ...,\n",
       "           [-2.0357, -2.0357, -2.0357,  ..., -2.0357, -2.0357, -2.0357],\n",
       "           [-2.0357, -2.0357, -2.0357,  ..., -2.0357, -2.0357, -2.0357],\n",
       "           [-2.0357, -2.0357, -2.0357,  ..., -2.0357, -2.0357, -2.0357]],\n",
       " \n",
       "          [[-1.8044, -1.8044, -1.8044,  ..., -1.8044, -1.8044, -1.8044],\n",
       "           [-1.8044, -1.8044, -1.8044,  ..., -1.8044, -1.8044, -1.8044],\n",
       "           [-1.8044, -1.8044, -1.8044,  ..., -1.8044, -1.8044, -1.8044],\n",
       "           ...,\n",
       "           [-1.8044, -1.8044, -1.8044,  ..., -1.8044, -1.8044, -1.8044],\n",
       "           [-1.8044, -1.8044, -1.8044,  ..., -1.8044, -1.8044, -1.8044],\n",
       "           [-1.8044, -1.8044, -1.8044,  ..., -1.8044, -1.8044, -1.8044]]]]),\n",
       " 'bev_annot': tensor([[[382.4319,  80.3214, 413.6390,  92.4594,   2.0000],\n",
       "          [382.4319,  80.3214, 413.6390,  92.4594,   2.0000]],\n",
       " \n",
       "         [[394.9587, 269.3037, 426.7600, 282.7055,   2.0000],\n",
       "          [394.9587, 269.3037, 426.7600, 282.7055,   2.0000]]]),\n",
       " 'bev_scale': [0.64, 0.64],\n",
       " 'roadimage': [tensor([[False, False, False,  ..., False, False, False],\n",
       "          [False, False, False,  ..., False, False, False],\n",
       "          [False, False, False,  ..., False, False, False],\n",
       "          ...,\n",
       "          [False, False, False,  ..., False, False, False],\n",
       "          [False, False, False,  ..., False, False, False],\n",
       "          [False, False, False,  ..., False, False, False]]),\n",
       "  tensor([[False, False, False,  ..., False, False, False],\n",
       "          [False, False, False,  ..., False, False, False],\n",
       "          [False, False, False,  ..., False, False, False],\n",
       "          ...,\n",
       "          [False, False, False,  ..., False, False, False],\n",
       "          [False, False, False,  ..., False, False, False],\n",
       "          [False, False, False,  ..., False, False, False]])]}"
      ]
     },
     "execution_count": 42,
     "metadata": {},
     "output_type": "execute_result"
    }
   ],
   "source": [
    "data"
   ]
  },
  {
   "cell_type": "code",
   "execution_count": 43,
   "metadata": {},
   "outputs": [
    {
     "data": {
      "text/plain": [
       "torch.Size([512, 512, 3])"
      ]
     },
     "execution_count": 43,
     "metadata": {},
     "output_type": "execute_result"
    }
   ],
   "source": [
    "data['img'][0].permute(1,2,0).shape"
   ]
  },
  {
   "cell_type": "code",
   "execution_count": 44,
   "metadata": {},
   "outputs": [
    {
     "name": "stderr",
     "output_type": "stream",
     "text": [
      "Clipping input data to the valid range for imshow with RGB data ([0..1] for floats or [0..255] for integers).\n"
     ]
    },
    {
     "data": {
      "text/plain": [
       "<matplotlib.image.AxesImage at 0x139050d90>"
      ]
     },
     "execution_count": 44,
     "metadata": {},
     "output_type": "execute_result"
    },
    {
     "data": {
      "image/png": "[encoded data removed]",
      "text/plain": [
       "<Figure size 432x288 with 1 Axes>"
      ]
     },
     "metadata": {
      "needs_background": "light"
     },
     "output_type": "display_data"
    }
   ],
   "source": [
    "w"
   ]
  },
  {
   "cell_type": "code",
   "execution_count": null,
   "metadata": {},
   "outputs": [],
   "source": []
  }
 ],
 "metadata": {
  "kernelspec": {
   "display_name": "Python 3",
   "language": "python",
   "name": "python3"
  },
  "language_info": {
   "codemirror_mode": {
    "name": "ipython",
    "version": 3
   },
   "file_extension": ".py",
   "mimetype": "text/x-python",
   "name": "python",
   "nbconvert_exporter": "python",
   "pygments_lexer": "ipython3",
   "version": "3.7.6"
  }
 },
 "nbformat": 4,
 "nbformat_minor": 4
}
