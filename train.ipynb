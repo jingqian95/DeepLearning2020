{
 "cells": [
  {
   "cell_type": "code",
   "execution_count": 1,
   "metadata": {},
   "outputs": [],
   "source": [
    "# import sys\n",
    "\n",
    "# module_path = os.path.abspath(os.path.join('..'))\n",
    "# if module_path not in sys.path:\n",
    "#     sys.path.append(module_path)"
   ]
  },
  {
   "cell_type": "code",
   "execution_count": 2,
   "metadata": {},
   "outputs": [
    {
     "ename": "SyntaxError",
     "evalue": "invalid character in identifier (dataset.py, line 211)",
     "output_type": "error",
     "traceback": [
      "Traceback \u001b[0;36m(most recent call last)\u001b[0m:\n",
      "  File \u001b[1;32m\"/Users/mjin/anaconda3/lib/python3.7/site-packages/IPython/core/interactiveshell.py\"\u001b[0m, line \u001b[1;32m3331\u001b[0m, in \u001b[1;35mrun_code\u001b[0m\n    exec(code_obj, self.user_global_ns, self.user_ns)\n",
      "\u001b[0;36m  File \u001b[0;32m\"<ipython-input-2-e6ffb3c44b30>\"\u001b[0;36m, line \u001b[0;32m15\u001b[0;36m, in \u001b[0;35m<module>\u001b[0;36m\u001b[0m\n\u001b[0;31m    from efficientdet.dataset import LabeledDataset, LabeledDataset_coco, Resizer, Normalizer, Augmenter, collater\u001b[0m\n",
      "\u001b[0;36m  File \u001b[0;32m\"/Users/mjin/Desktop/1008/Project/DeepLearning2020/efficientdet/dataset.py\"\u001b[0;36m, line \u001b[0;32m211\u001b[0m\n\u001b[0;31m    return image_tensor， image_cat_2.astype(np.float32) / 255.\u001b[0m\n\u001b[0m                       ^\u001b[0m\n\u001b[0;31mSyntaxError\u001b[0m\u001b[0;31m:\u001b[0m invalid character in identifier\n"
     ]
    }
   ],
   "source": [
    "import datetime\n",
    "import argparse\n",
    "import traceback\n",
    "import os\n",
    "\n",
    "import torch\n",
    "import yaml\n",
    "from torch import nn\n",
    "from torch.utils.data import DataLoader\n",
    "from torchvision import transforms\n",
    "import torchvision\n",
    "import torch.nn.functional as F\n",
    "import pandas as pd\n",
    "\n",
    "from efficientdet.dataset import LabeledDataset, LabeledDataset_coco, Resizer, Normalizer, Augmenter, collater\n",
    "\n",
    "from backbone import EfficientDetBackbone\n",
    "from tensorboardX import SummaryWriter\n",
    "import numpy as np\n",
    "from tqdm.autonotebook import tqdm\n",
    "from efficientdet.loss import FocalLoss\n",
    "from efficientdet.utils import collate_fn_dl\n",
    "from utils.sync_batchnorm import patch_replication_callback\n",
    "from utils.utils import replace_w_sync_bn, CustomDataParallel, get_last_weights, init_weights"
   ]
  },
  {
   "cell_type": "code",
   "execution_count": null,
   "metadata": {},
   "outputs": [],
   "source": [
    "class Params:\n",
    "    def __init__(self, project_file):\n",
    "        self.params = yaml.safe_load(open(project_file).read())\n",
    "\n",
    "    def __getattr__(self, item):\n",
    "        return self.params.get(item, None)\n",
    "\n",
    "\n",
    "def get_args():\n",
    "    parser = argparse.ArgumentParser('Yet Another EfficientDet Pytorch: SOTA object detection network - Zylo117')\n",
    "    parser.add_argument('-p', '--project', type=str, default='dl2020', help='project file that contains parameters')\n",
    "    parser.add_argument('-c', '--compound_coef', type=int, default=0, help='coefficients of efficientdet')\n",
    "    parser.add_argument('-n', '--num_workers', type=int, default=2, help='num_workers of dataloader')\n",
    "    parser.add_argument('--batch_size', type=int, default=3, help='The number of images per batch among all devices')\n",
    "    parser.add_argument('--head_only', type=bool, default=False,\n",
    "                        help='whether finetunes only the regressor and the classifier, '\n",
    "                             'useful in early stage convergence or small/easy dataset')\n",
    "    parser.add_argument('--lr', type=float, default=1e-4)\n",
    "    parser.add_argument('--optim', type=str, default='adamw', help='select optimizer for training, '\n",
    "                                                                   'suggest using \\'admaw\\' until the'\n",
    "                                                                   ' very final stage then switch to \\'sgd\\'')\n",
    "    parser.add_argument('--alpha', type=float, default=0.25)\n",
    "    parser.add_argument('--gamma', type=float, default=1.5)\n",
    "    parser.add_argument('--num_epochs', type=int, default=100)\n",
    "    parser.add_argument('--val_interval', type=int, default=1, help='Number of epoches between valing phases')\n",
    "    parser.add_argument('--save_interval', type=int, default=500, help='Number of steps between saving')\n",
    "    parser.add_argument('--es_min_delta', type=float, default=0.0,\n",
    "                        help='Early stopping\\'s parameter: minimum change loss to qualify as an improvement')\n",
    "    parser.add_argument('--es_patience', type=int, default=0,\n",
    "                        help='Early stopping\\'s parameter: number of epochs with no improvement after which training will be stopped. Set to 0 to disable this technique.')\n",
    "    parser.add_argument('--data_path', type=str, default='datasets/', help='the root folder of dataset')\n",
    "    parser.add_argument('--annotation', type=str, default='annotation.csv', help='annotation csv file name')\n",
    "    parser.add_argument('--log_path', type=str, default='logs/')\n",
    "    parser.add_argument('--load_weights', type=str, default=None,\n",
    "                        help='whether to load weights from a checkpoint, set None to initialize, set \\'last\\' to load last checkpoint')\n",
    "    parser.add_argument('--saved_path', type=str, default='saved/')\n",
    "    parser.add_argument('--debug', type=bool, default=False, help='whether visualize the predicted boxes of trainging, '\n",
    "                                                                  'the output images will be in test/')\n",
    "\n",
    "    args = parser.parse_args()\n",
    "    return args\n"
   ]
  },
  {
   "cell_type": "code",
   "execution_count": null,
   "metadata": {},
   "outputs": [],
   "source": [
    "params = Params(f'projects/dl2020.yml')\n",
    "\n",
    "if params.num_gpus == 0:\n",
    "    os.environ['CUDA_VISIBLE_DEVICES'] = '-1'\n",
    "\n",
    "if torch.cuda.is_available():\n",
    "    torch.cuda.manual_seed(42)\n",
    "else:\n",
    "    torch.manual_seed(42)"
   ]
  },
  {
   "cell_type": "code",
   "execution_count": null,
   "metadata": {},
   "outputs": [],
   "source": [
    "saved_path = 'saved/' + f'/{params.project_name}/'\n",
    "log_path = 'logs/' + f'/{params.project_name}/tensorboard/'\n",
    "os.makedirs(log_path, exist_ok=True)\n",
    "os.makedirs(saved_path, exist_ok=True)"
   ]
  },
  {
   "cell_type": "code",
   "execution_count": null,
   "metadata": {},
   "outputs": [],
   "source": [
    "training_params = {'batch_size': 2,\n",
    "                   'shuffle': False,\n",
    "                   'drop_last': True,\n",
    "                   'collate_fn': collater,\n",
    "#                    'collate_fn': collate_fn_dl,\n",
    "                   'num_workers': 0}\n",
    "\n",
    "val_params = {'batch_size': 2,\n",
    "              'shuffle': False,\n",
    "              'drop_last': True,\n",
    "              'collate_fn': collater,\n",
    "#               'collate_fn': collate_fn_dl,\n",
    "              'num_workers': 2}"
   ]
  },
  {
   "cell_type": "markdown",
   "metadata": {},
   "source": [
    "# Try new data loader"
   ]
  },
  {
   "cell_type": "code",
   "execution_count": null,
   "metadata": {},
   "outputs": [],
   "source": [
    "# train_scene_index = np.arange(106, 127)\n",
    "# val_scene_index = np.arange(128, 134)\n",
    "# input_sizes = [512, 640, 768, 896, 1024, 1280, 1280, 1536]\n",
    "\n",
    "# transform_dl = torchvision.transforms.ToTensor()\n",
    "\n",
    "# transform = transforms.Compose([Normalizer(mean=params.mean, std=params.std),\\\n",
    "#                                 Augmenter(),\\\n",
    "#                                 Resizer(input_sizes[0])])\n",
    "\n",
    "# training_set = LabeledDataset(image_folder = os.path.join('datasets/', params.project_name),\n",
    "#                                   annotation_file = os.path.join('datasets/', params.project_name, 'annotation.csv'),\n",
    "#                                   scene_index = train_scene_index,\n",
    "#                                   transform = transform_dl,\n",
    "# #                                   transform = transform,\n",
    "#                                   extra_info = True\n",
    "#                                   )\n",
    "\n",
    "# training_generator = DataLoader(training_set, **training_params)\n",
    "\n",
    "\n",
    "# val_set = LabeledDataset(image_folder = os.path.join('datasets/', params.project_name),\n",
    "#                                   annotation_file = os.path.join('datasets/', params.project_name, 'annotation.csv'),\n",
    "#                                   scene_index = val_scene_index,\n",
    "#                                   transform = transform_dl,\n",
    "#                                   extra_info = True\n",
    "#                                   )\n",
    "\n",
    "# val_generator = DataLoader(val_set, **val_params)\n"
   ]
  },
  {
   "cell_type": "code",
   "execution_count": null,
   "metadata": {},
   "outputs": [],
   "source": [
    "train_scene_index = np.arange(106, 127)\n",
    "val_scene_index = np.arange(128, 134)\n",
    "input_sizes = [512, 640, 768, 896, 1024, 1280, 1280, 1536]\n",
    "\n",
    "transform = transforms.Compose([Normalizer(mean=params.mean, std=params.std),\\\n",
    "                                Augmenter(),\\\n",
    "                                Resizer(input_sizes[0])])\n",
    "\n",
    "training_set = LabeledDataset_coco(image_folder = os.path.join('datasets/', params.project_name),\n",
    "                                  annotation_file = os.path.join('datasets/', params.project_name, 'annotation_newfeat_2.csv'),\n",
    "                                  scene_index = train_scene_index,\n",
    "                                  transform = transform,\n",
    "                                  extra_info = True\n",
    "                                  )\n",
    "training_generator = DataLoader(training_set, **training_params)\n",
    "\n",
    "val_set = LabeledDataset_coco(image_folder = os.path.join('datasets/', params.project_name),\n",
    "                                  annotation_file = os.path.join('datasets/', params.project_name, 'annotation_newfeat_2.csv'),\n",
    "                                  scene_index = val_scene_index,\n",
    "                                  transform = transform,\n",
    "                                  extra_info = True\n",
    "                                  )\n",
    "\n",
    "val_generator = DataLoader(val_set, **val_params)\n",
    "\n"
   ]
  },
  {
   "cell_type": "code",
   "execution_count": null,
   "metadata": {},
   "outputs": [],
   "source": [
    "# progress_bar = tqdm(training_generator)\n",
    "# for iter, data in enumerate(progress_bar):\n",
    "#     imgs = data['img']\n",
    "#     annot = data['annot']\n",
    "    \n",
    "#     break"
   ]
  },
  {
   "cell_type": "code",
   "execution_count": null,
   "metadata": {},
   "outputs": [],
   "source": [
    "# import matplotlib\n",
    "# import matplotlib.pyplot as plt\n",
    "# matplotlib.rcParams['figure.figsize'] = [5, 5]\n",
    "# matplotlib.rcParams['figure.dpi'] = 200\n",
    "# # plt.figure(figsize=(3,18))\n",
    "# plt.imshow(torchvision.utils.make_grid(imgs[0], nrow=3).numpy().transpose(1, 2, 0))\n",
    "# plt.axis('off');"
   ]
  },
  {
   "cell_type": "code",
   "execution_count": null,
   "metadata": {},
   "outputs": [],
   "source": [
    "model = EfficientDetBackbone(num_classes=len(params.obj_list), compound_coef = 0,\n",
    "                             ratios=eval(params.anchors_ratios), scales=eval(params.anchors_scales))"
   ]
  },
  {
   "cell_type": "code",
   "execution_count": null,
   "metadata": {},
   "outputs": [],
   "source": [
    "load_weights = None\n",
    "if load_weights is not None:\n",
    "    if opt.load_weights.endswith('.pth'):\n",
    "        weights_path = opt.load_weights\n",
    "    else:\n",
    "        weights_path = get_last_weights(opt.saved_path)\n",
    "    try:\n",
    "        last_step = int(os.path.basename(weights_path).split('_')[-1].split('.')[0])\n",
    "    except:\n",
    "        last_step = 0\n",
    "\n",
    "    try:\n",
    "        ret = model.load_state_dict(torch.load(weights_path), strict=False)\n",
    "    except RuntimeError as e:\n",
    "        print(f'[Warning] Ignoring {e}')\n",
    "        print(\n",
    "            '[Warning] Don\\'t panic if you see this, this might be because you load a pretrained weights with different number of classes. The rest of the weights should be loaded already.')\n",
    "\n",
    "    print(f'[Info] loaded weights: {os.path.basename(weights_path)}, resuming checkpoint from step: {last_step}')\n",
    "else:\n",
    "    last_step = 0\n",
    "    print('[Info] initializing weights...')\n",
    "    init_weights(model)\n",
    "    \n",
    "    \n",
    "    \n",
    "    \n",
    "    "
   ]
  },
  {
   "cell_type": "code",
   "execution_count": null,
   "metadata": {},
   "outputs": [],
   "source": [
    "# if opt.head_only:\n",
    "#     def freeze_backbone(m):\n",
    "#         classname = m.__class__.__name__\n",
    "#         for ntl in ['EfficientNet', 'BiFPN']:\n",
    "#             if ntl in classname:\n",
    "#                 for param in m.parameters():\n",
    "#                     param.requires_grad = False\n",
    "\n",
    "#     model.apply(freeze_backbone)\n",
    "#     print('[Info] freezed backbone')"
   ]
  },
  {
   "cell_type": "code",
   "execution_count": null,
   "metadata": {},
   "outputs": [],
   "source": [
    "if params.num_gpus > 1 and 3 // params.num_gpus < 4:\n",
    "    model.apply(replace_w_sync_bn)\n",
    "    use_sync_bn = True\n",
    "else:\n",
    "    use_sync_bn = False"
   ]
  },
  {
   "cell_type": "code",
   "execution_count": null,
   "metadata": {},
   "outputs": [],
   "source": [
    "writer = SummaryWriter(log_path + f'/{datetime.datetime.now().strftime(\"%Y%m%d-%H%M%S\")}/')"
   ]
  },
  {
   "cell_type": "code",
   "execution_count": null,
   "metadata": {},
   "outputs": [],
   "source": [
    "class ModelWithLoss(nn.Module):\n",
    "    def __init__(self, model, debug=False):\n",
    "        super().__init__()\n",
    "        self.criterion = FocalLoss()\n",
    "        self.model = model\n",
    "        self.debug = debug\n",
    "\n",
    "    def forward(self, imgs, annotations, obj_list=None):\n",
    "        _, regression, classification, anchors = self.model(imgs)\n",
    "        if self.debug:\n",
    "            cls_loss, reg_loss = self.criterion(classification, regression, anchors, annotations,\n",
    "                                                imgs=imgs, obj_list=obj_list)\n",
    "        else:\n",
    "            cls_loss, reg_loss = self.criterion(classification, regression, anchors, annotations)\n",
    "        return cls_loss, reg_loss, regression, classification, anchors\n",
    "\n",
    "model = ModelWithLoss(model, debug= False)"
   ]
  },
  {
   "cell_type": "code",
   "execution_count": null,
   "metadata": {},
   "outputs": [],
   "source": [
    "# if params.num_gpus > 0:\n",
    "#     model = model.cuda()\n",
    "#     if params.num_gpus > 1:\n",
    "#         model = CustomDataParallel(model, params.num_gpus)\n",
    "#         if use_sync_bn:\n",
    "#             patch_replication_callback(model)"
   ]
  },
  {
   "cell_type": "code",
   "execution_count": null,
   "metadata": {},
   "outputs": [],
   "source": [
    "optim = 'adamw'\n",
    "if optim == 'adamw':\n",
    "    optimizer = torch.optim.AdamW(model.parameters(), 1e-4)\n",
    "else:\n",
    "    optimizer = torch.optim.SGD(model.parameters(), 1e-4, momentum=0.9, nesterov=True)"
   ]
  },
  {
   "cell_type": "code",
   "execution_count": null,
   "metadata": {},
   "outputs": [],
   "source": [
    "scheduler = torch.optim.lr_scheduler.ReduceLROnPlateau(optimizer, patience=3, verbose=True)"
   ]
  },
  {
   "cell_type": "code",
   "execution_count": null,
   "metadata": {},
   "outputs": [],
   "source": [
    "epoch = 0\n",
    "best_loss = 1e5\n",
    "best_epoch = 0\n",
    "step = max(0, last_step)\n",
    "model.train()\n",
    "\n",
    "num_iter_per_epoch = len(training_generator)"
   ]
  },
  {
   "cell_type": "code",
   "execution_count": null,
   "metadata": {},
   "outputs": [],
   "source": [
    "def save_checkpoint(model, name):\n",
    "    if isinstance(model, CustomDataParallel):\n",
    "        torch.save(model.module.model.state_dict(), os.path.join('saved/', name))\n",
    "    else:\n",
    "        torch.save(model.model.state_dict(), os.path.join('saved/', name))"
   ]
  },
  {
   "cell_type": "code",
   "execution_count": null,
   "metadata": {},
   "outputs": [],
   "source": [
    "for epoch in range(10):\n",
    "    last_epoch = step // num_iter_per_epoch\n",
    "    if epoch < last_epoch:\n",
    "        continue\n",
    "\n",
    "\n",
    "    epoch_loss = []\n",
    "    progress_bar = tqdm(training_generator)\n",
    "    for iter, data in enumerate(progress_bar):\n",
    "        if iter < step - last_epoch * num_iter_per_epoch:\n",
    "            progress_bar.update()\n",
    "            continue\n",
    "            \n",
    "        imgs = data['img']\n",
    "        annot = data['annot']\n",
    "\n",
    "#         sample_cat, sample, target, road_image, extra = data     \n",
    "#         sample_cat = torch.stack(sample_cat)\n",
    "\n",
    "        if params.num_gpus == 1:\n",
    "            # if only one gpu, just send it to cuda:0\n",
    "            # elif multiple gpus, send it to multiple gpus in CustomDataParallel, not here\n",
    "            imgs = imgs.cuda()\n",
    "            annot = annot.cuda()\n",
    "            \n",
    "            \n",
    "        optimizer.zero_grad()\n",
    "        \n",
    "        \n",
    "        \n",
    "#         criterion = FocalLoss()\n",
    "#         _, regression, classification, anchors = model(imgs)\n",
    "#         cls_loss, reg_loss = criterion(classification, regression, anchors, annot)\n",
    "\n",
    "        \n",
    "        cls_loss, reg_loss, regression, classification, anchors = model(imgs, annot, obj_list=params.obj_list)\n",
    "#         cls_loss, reg_loss = model(imgs, target, obj_list=params.obj_list)\n",
    "\n",
    "\n",
    "        cls_loss = cls_loss.mean()\n",
    "        reg_loss = reg_loss.mean()\n",
    "\n",
    "\n",
    "        print(cls_loss)\n",
    "        print(reg_loss)\n",
    "\n",
    "        loss = cls_loss + reg_loss\n",
    "        if loss == 0 or not torch.isfinite(loss):\n",
    "            continue\n",
    "            \n",
    "            \n",
    "        loss.backward()\n",
    "        # torch.nn.utils.clip_grad_norm_(model.parameters(), 0.1)\n",
    "        optimizer.step()\n",
    "\n",
    "        epoch_loss.append(float(loss))\n",
    "\n",
    "        progress_bar.set_description(\n",
    "            'Step: {}. Epoch: {}/{}. Iteration: {}/{}. Cls loss: {:.5f}. Reg loss: {:.5f}. Total loss: {:.5f}'.format(\n",
    "                step, epoch, 10, iter + 1, num_iter_per_epoch, cls_loss.item(),\n",
    "                reg_loss.item(), loss.item()))\n",
    "        writer.add_scalars('Loss', {'train': loss}, step)\n",
    "        writer.add_scalars('Regression_loss', {'train': reg_loss}, step)\n",
    "        writer.add_scalars('Classfication_loss', {'train': cls_loss}, step)\n",
    "\n",
    "        \n",
    "        # log learning_rate\n",
    "        current_lr = optimizer.param_groups[0]['lr']\n",
    "        writer.add_scalar('learning_rate', current_lr, step)\n",
    "\n",
    "        step += 1\n",
    "\n",
    "        if step % 1 == 0 and step > 0:\n",
    "            save_checkpoint(model, f'efficientdet-d{0}_{epoch}_{step}.pth')\n",
    "            print('checkpoint...')\n",
    "            \n",
    "            \n",
    "    \n",
    "        break\n",
    "    \n",
    "    break\n",
    "    scheduler.step(np.mean(epoch_loss))"
   ]
  },
  {
   "cell_type": "code",
   "execution_count": null,
   "metadata": {},
   "outputs": [],
   "source": [
    "# if epoch % opt.val_interval == 0:\n",
    "#     model.eval()\n",
    "#     loss_regression_ls = []\n",
    "#     loss_classification_ls = []\n",
    "#     for iter, data in enumerate(val_generator):\n",
    "#         with torch.no_grad():\n",
    "#             imgs = data['img']\n",
    "#             annot = data['annot']\n",
    "\n",
    "#             if params.num_gpus == 1:\n",
    "#                 imgs = imgs.cuda()\n",
    "#                 annot = annot.cuda()\n",
    "\n",
    "#             cls_loss, reg_loss, regression, classification, anchors = model(imgs, annot, obj_list=params.obj_list)\n",
    "#             cls_loss = cls_loss.mean()\n",
    "#             reg_loss = reg_loss.mean()\n",
    "\n",
    "#             loss = cls_loss + reg_loss\n",
    "#             if loss == 0 or not torch.isfinite(loss):\n",
    "#                 continue\n",
    "\n",
    "#             loss_classification_ls.append(cls_loss.item())\n",
    "#             loss_regression_ls.append(reg_loss.item())\n",
    "\n",
    "#     cls_loss = np.mean(loss_classification_ls)\n",
    "#     reg_loss = np.mean(loss_regression_ls)\n",
    "#     loss = cls_loss + reg_loss\n",
    "\n",
    "#     print(\n",
    "#         'Val. Epoch: {}/{}. Classification loss: {:1.5f}. Regression loss: {:1.5f}. Total loss: {:1.5f}'.format(\n",
    "#             epoch, opt.num_epochs, cls_loss, reg_loss, loss))\n",
    "#     writer.add_scalars('Total_loss', {'val': loss}, step)\n",
    "#     writer.add_scalars('Regression_loss', {'val': reg_loss}, step)\n",
    "#     writer.add_scalars('Classfication_loss', {'val': cls_loss}, step)\n",
    "\n",
    "#     if loss + opt.es_min_delta < best_loss:\n",
    "#         best_loss = loss\n",
    "#         best_epoch = epoch\n",
    "\n",
    "#         save_checkpoint(model, f'efficientdet-d{opt.compound_coef}_{epoch}_{step}.pth')\n",
    "\n",
    "#     model.train()"
   ]
  },
  {
   "cell_type": "code",
   "execution_count": null,
   "metadata": {},
   "outputs": [],
   "source": []
  },
  {
   "cell_type": "code",
   "execution_count": null,
   "metadata": {},
   "outputs": [],
   "source": []
  },
  {
   "cell_type": "code",
   "execution_count": null,
   "metadata": {},
   "outputs": [],
   "source": []
  },
  {
   "cell_type": "code",
   "execution_count": null,
   "metadata": {},
   "outputs": [],
   "source": []
  },
  {
   "cell_type": "code",
   "execution_count": null,
   "metadata": {},
   "outputs": [],
   "source": [
    "regression.shape"
   ]
  },
  {
   "cell_type": "code",
   "execution_count": null,
   "metadata": {},
   "outputs": [],
   "source": [
    "classification.shape"
   ]
  },
  {
   "cell_type": "code",
   "execution_count": null,
   "metadata": {},
   "outputs": [],
   "source": [
    "anchors.shape"
   ]
  },
  {
   "cell_type": "code",
   "execution_count": null,
   "metadata": {},
   "outputs": [],
   "source": [
    "anchors\n",
    "# y1, y2, x1, x2"
   ]
  },
  {
   "cell_type": "code",
   "execution_count": null,
   "metadata": {},
   "outputs": [],
   "source": [
    "annots = pd.read_csv('datasets/dl2020/annotation_newfeat_2.csv')"
   ]
  },
  {
   "cell_type": "code",
   "execution_count": null,
   "metadata": {},
   "outputs": [],
   "source": [
    "true_boxes = annots.loc[:, ['scaled_x', 'scaled_y', 'scaled_box_width', 'scaled_box_height']]"
   ]
  },
  {
   "cell_type": "code",
   "execution_count": null,
   "metadata": {},
   "outputs": [],
   "source": [
    "true_boxes = true_boxes.rename(columns = {'scaled_x':'x1', 'scaled_y':'y1'})"
   ]
  },
  {
   "cell_type": "code",
   "execution_count": null,
   "metadata": {},
   "outputs": [],
   "source": [
    "true_boxes['x2'] = true_boxes['x1'] + true_boxes['scaled_box_width']\n",
    "true_boxes['y2'] = true_boxes['y1'] + true_boxes['scaled_box_height']"
   ]
  },
  {
   "cell_type": "code",
   "execution_count": null,
   "metadata": {},
   "outputs": [],
   "source": [
    "true_boxes.head()"
   ]
  },
  {
   "cell_type": "code",
   "execution_count": null,
   "metadata": {},
   "outputs": [],
   "source": [
    "import matplotlib\n",
    "import matplotlib.pyplot as plt\n",
    "# matplotlib.rcParams['figure.figsize'] = [5, 5]\n",
    "# matplotlib.rcParams['figure.dpi'] = 200"
   ]
  },
  {
   "cell_type": "code",
   "execution_count": null,
   "metadata": {},
   "outputs": [],
   "source": [
    "plt.figure(figsize = (5,5))\n",
    "plt.hist(true_boxes.scaled_box_height, bins = 30, rwidth = 0.5)"
   ]
  },
  {
   "cell_type": "code",
   "execution_count": null,
   "metadata": {},
   "outputs": [],
   "source": [
    "plt.figure(figsize = (5,5))\n",
    "plt.hist(anchors[0, :, 2] - anchors[0, :, 0], bins = 100, rwidth = 0.5)\n",
    "plt.xlim(0, 160)"
   ]
  },
  {
   "cell_type": "code",
   "execution_count": null,
   "metadata": {},
   "outputs": [],
   "source": [
    "sum(true_boxes.scaled_box_width < 2.5)"
   ]
  },
  {
   "cell_type": "code",
   "execution_count": null,
   "metadata": {},
   "outputs": [],
   "source": [
    "sum(anchors[0, :, 2] - anchors[0, :, 0] > 100)"
   ]
  },
  {
   "cell_type": "code",
   "execution_count": null,
   "metadata": {},
   "outputs": [],
   "source": [
    "sum(true_boxes.scaled_box_height > 100)"
   ]
  },
  {
   "cell_type": "code",
   "execution_count": null,
   "metadata": {},
   "outputs": [],
   "source": [
    "plt.scatter(anchors[0, :, 1], anchors[0, :, 0])"
   ]
  },
  {
   "cell_type": "code",
   "execution_count": null,
   "metadata": {},
   "outputs": [],
   "source": [
    "plt.scatter(true_boxes.x1, true_boxes.y1)"
   ]
  },
  {
   "cell_type": "code",
   "execution_count": null,
   "metadata": {},
   "outputs": [],
   "source": []
  }
 ],
 "metadata": {
  "kernelspec": {
   "display_name": "Python 3",
   "language": "python",
   "name": "python3"
  },
  "language_info": {
   "codemirror_mode": {
    "name": "ipython",
    "version": 3
   },
   "file_extension": ".py",
   "mimetype": "text/x-python",
   "name": "python",
   "nbconvert_exporter": "python",
   "pygments_lexer": "ipython3",
   "version": "3.7.6"
  }
 },
 "nbformat": 4,
 "nbformat_minor": 4
}
