{
 "cells": [
  {
   "cell_type": "code",
   "execution_count": 32,
   "metadata": {},
   "outputs": [],
   "source": [
    "import os\n",
    "import random\n",
    "import math\n",
    "\n",
    "import numpy as np\n",
    "import pandas as pd"
   ]
  },
  {
   "cell_type": "markdown",
   "metadata": {},
   "source": [
    "### camera name"
   ]
  },
  {
   "cell_type": "code",
   "execution_count": 34,
   "metadata": {},
   "outputs": [],
   "source": [
    "bounds = [(95, 25), (35, -35), (-25, -95), (155, 85), (-145, 145), (-85, -155)]\n",
    "bounds_coef = [(math.tan(math.pi*(y1/180)), math.tan(math.pi*(y2/180))) for (y1, y2) in bounds]\n",
    "color_list = ['b', 'g', 'orange', 'c', 'm', 'y', 'k', 'w', 'r']\n",
    "camera_name = ['front_left', 'front', 'front_right', 'back_left', 'back', 'back_right']\n",
    "bounds_quat = [[3,1], [1,4], [4,3], [2,1], [3,2], [4,3]]"
   ]
  },
  {
   "cell_type": "code",
   "execution_count": 35,
   "metadata": {},
   "outputs": [],
   "source": [
    "def check_cam_index(index, camera_index):\n",
    "    points = [(anno.iloc[index, 4+i], anno.iloc[index, 8+i]) for i in range(4)]\n",
    "#     print(np.sign(points))\n",
    "    for x, y in points:\n",
    "        \n",
    "        if np.sign(x) == 1 and np.sign(y) == 1:\n",
    "            quat = 1\n",
    "        elif np.sign(x) == 1 and np.sign(y) == -1:\n",
    "            quat = 4\n",
    "        elif np.sign(x) == -1 and np.sign(y) == 1:\n",
    "            quat = 2\n",
    "        else:\n",
    "            quat = 3\n",
    "            \n",
    "        if quat not in bounds_quat[camera_index]:\n",
    "            continue\n",
    "            \n",
    "        angle = math.atan(y/x)/math.pi*180\n",
    "        \n",
    "        if quat in [1,2] and angle < 0:\n",
    "            angle += 180\n",
    "        elif quat in [3,4] and angle > 0:\n",
    "            angle -= 180\n",
    "        \n",
    "        if camera_index == 4:\n",
    "            if abs(angle) > 145:\n",
    "                return True\n",
    "        else:\n",
    "            if angle >= min(bounds[camera_index]) and angle <= max(bounds[camera_index]):\n",
    "                return True\n",
    "            \n",
    "    \n",
    "    return False"
   ]
  },
  {
   "cell_type": "code",
   "execution_count": 36,
   "metadata": {},
   "outputs": [],
   "source": [
    "def check_cam_row(row, camera_index):\n",
    "    points = [(row.iloc[4+i], row.iloc[8+i]) for i in range(4)]\n",
    "    for x, y in points:\n",
    "        \n",
    "        if np.sign(x) == 1 and np.sign(y) == 1:\n",
    "            quat = 1\n",
    "        elif np.sign(x) == 1 and np.sign(y) == -1:\n",
    "            quat = 4\n",
    "        elif np.sign(x) == -1 and np.sign(y) == 1:\n",
    "            quat = 2\n",
    "        else:\n",
    "            quat = 3\n",
    "            \n",
    "        if quat not in bounds_quat[camera_index]:\n",
    "            continue\n",
    "            \n",
    "        angle = math.atan(y/x)/math.pi*180\n",
    "        \n",
    "        if quat in [1,2] and angle < 0:\n",
    "            angle += 180\n",
    "        elif quat in [3,4] and angle > 0:\n",
    "            angle -= 180\n",
    "        \n",
    "        if camera_index == 4:\n",
    "            if abs(angle) > 145:\n",
    "                return True\n",
    "        else:\n",
    "            if angle >= min(bounds[camera_index]) and angle <= max(bounds[camera_index]):\n",
    "                return True\n",
    "            \n",
    "    \n",
    "    return False"
   ]
  },
  {
   "cell_type": "markdown",
   "metadata": {},
   "source": [
    "### distance"
   ]
  },
  {
   "cell_type": "code",
   "execution_count": 37,
   "metadata": {},
   "outputs": [],
   "source": [
    "def get_distance(row):\n",
    "    x = np.mean(row.iloc[4:8])\n",
    "    y = np.mean(row.iloc[8:12])\n",
    "    return np.sqrt(x**2 + y**2)"
   ]
  },
  {
   "cell_type": "markdown",
   "metadata": {},
   "source": [
    "### weight/height/centerx/centery style annotation"
   ]
  },
  {
   "cell_type": "code",
   "execution_count": 26,
   "metadata": {},
   "outputs": [],
   "source": [
    "def get_whxy(row):\n",
    "    x = np.mean(row.iloc[4:8])\n",
    "    y = np.mean(row.iloc[8:12])\n",
    "    w = abs(max(row.iloc[4:8]) - min(row.iloc[4:8]))\n",
    "    h = abs(max(row.iloc[8:12]) - min(row.iloc[8:12]))\n",
    "    return np.array([x, y, w, h])"
   ]
  },
  {
   "cell_type": "markdown",
   "metadata": {},
   "source": [
    "### Generate features and save file"
   ]
  },
  {
   "cell_type": "code",
   "execution_count": 42,
   "metadata": {},
   "outputs": [],
   "source": [
    "def generate_features(anno_path,output_path):\n",
    "    anno = pd.read_csv(anno_path)\n",
    "    for index, name in enumerate(camera_name):\n",
    "        anno[name] = anno.apply(lambda x: check_cam_row(x, index), axis = 1)\n",
    "    anno['distance'] = anno.apply(lambda x: get_distance(x), axis = 1)\n",
    "    anno['center_x'], anno['center_y'], anno['box_width'], anno['box_height'] = np.array(anno.apply(lambda x: get_whxy(x), axis = 1).tolist()).T\n",
    "    anno.to_csv(output_path)\n",
    " "
   ]
  },
  {
   "cell_type": "code",
   "execution_count": 43,
   "metadata": {},
   "outputs": [],
   "source": [
    "generate_features('data/annotation.csv','data/annotation_newfeat.csv')"
   ]
  }
 ],
 "metadata": {
  "kernelspec": {
   "display_name": "Python 3",
   "language": "python",
   "name": "python3"
  },
  "language_info": {
   "codemirror_mode": {
    "name": "ipython",
    "version": 3
   },
   "file_extension": ".py",
   "mimetype": "text/x-python",
   "name": "python",
   "nbconvert_exporter": "python",
   "pygments_lexer": "ipython3",
   "version": "3.7.1"
  }
 },
 "nbformat": 4,
 "nbformat_minor": 2
}
